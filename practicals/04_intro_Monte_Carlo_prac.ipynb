{
  "cells": [
    {
      "cell_type": "markdown",
      "metadata": {},
      "source": [
        "# Practical 4: Introduction to Monte Carlo simulation\n",
        "\n",
        "Computational Finance with Python\n",
        "\n",
        "[Alet Roux](https://www.york.ac.uk/maths/staff/alet-roux/) ([Department\n",
        "of Mathematics](https://maths.york.ac.uk), University of York)\n",
        "\n",
        "The aim of this practical is to familiarise ourselves with the main\n",
        "ideas of (plain) Monte Carlo simulation, and practice Python\n",
        "functionality for generating random numbers.\n",
        "\n",
        "Click on the following to open this file in Google Colab:\n",
        "\n",
        "<figure>\n",
        "<a\n",
        "href=\"https://colab.research.google.com/github/aletroux/comp-finance-python/blob/main/practicals/04_intro_Monte_Carlo_prac.ipynb\"><img\n",
        "src=\"https://colab.research.google.com/assets/colab-badge.svg\"\n",
        "alt=\"Open In Colab\" /></a>\n",
        "<figcaption>Open In Colab</figcaption>\n",
        "</figure>\n",
        "\n",
        "# 1. Simulating Brownian motion and Black-Scholes stock prices\n",
        "\n",
        "The purpose of the first two exercises is to practice generating random\n",
        "numbers in Python based on the material covered in the lectures. You can\n",
        "also consult the NumPy documentation (NumPy Developers (2022)) if\n",
        "needed.\n",
        "\n",
        "<span class=\"theorem-title\">**Exercise 1**</span> Write code to produce\n",
        "$n$ simulations of the standard normal ($N(0,1)$) distribution. Choose a\n",
        "large value of $n$ (at least 1000). Then use the code provided to\n",
        "compare the histogram of the simulated values with the normal density\n",
        "function."
      ],
      "id": "cc9648af-44d3-4a2b-b4d2-3b54e27f20ea"
    },
    {
      "cell_type": "code",
      "execution_count": 2,
      "metadata": {},
      "outputs": [],
      "source": [
        "import numpy as np\n",
        "import math\n",
        "\n",
        "# generate sample\n",
        "# insert code here\n",
        "sample # NumPy array containing vector of samples\n",
        "\n",
        "# plot histogram\n",
        "import matplotlib.pyplot as plt\n",
        "fig, ax = plt.subplots(figsize = (12,7))\n",
        "ax.hist(sample, bins='auto', density=True, align='mid', rwidth=0.8, label=\"Relative histogram\")\n",
        "\n",
        "# generate and plot probability density function\n",
        "from scipy.stats import norm\n",
        "rv = norm()\n",
        "maxx = max(abs(sample))\n",
        "x = np.linspace(-maxx, maxx, 10000)\n",
        "ax.plot(x, rv.pdf(x), color=\"red\", label=\"Density function\")\n",
        "\n",
        "# plot grid and legend\n",
        "ax.xaxis.grid(True)\n",
        "ax.yaxis.grid(True)\n",
        "ax.legend()"
      ],
      "id": "45456fa0-af68-423c-b6d8-ad2dee8b7780"
    },
    {
      "cell_type": "markdown",
      "metadata": {},
      "source": [
        "<span class=\"theorem-title\">**Exercise 2**</span> Write code to produce\n",
        "$n$ simulations of the Black-Scholes stock price\n",
        "$$ S_T = S_0 e^{(r-\\frac{1}{2}\\sigma^2)T + \\sigma W^Q_T}, $$ where\n",
        "$W^Q_T\\sim N(0,T)$ and $S_0 = 50$, $r=0.05$, $\\sigma=0.1$ and $T=0.5$.\n",
        "\n",
        "Choose a large value of $n$ (at least 1000). Then use the code provided\n",
        "to compare the histogram of the simulated values with the lognormal\n",
        "density function.\n",
        "\n",
        "Hint: It is a good idea to start with a smaller value of $n$ until you\n",
        "are sure that your formulae are correct."
      ],
      "id": "c9745725-671d-477f-91c0-8d3bbadf9b85"
    },
    {
      "cell_type": "code",
      "execution_count": 9,
      "metadata": {},
      "outputs": [],
      "source": [
        "# generate sample\n",
        "# insert code here\n",
        "sample # NumPy array containing vector of samples\n",
        "\n",
        "# plot histogram\n",
        "fig, ax = plt.subplots(figsize = (12,7))\n",
        "ax.hist(sample, bins='auto', density=True, align='mid', rwidth=0.8, label=\"Relative histogram\")\n",
        "\n",
        "# generate and plot probability density function\n",
        "from scipy.stats import lognorm\n",
        "mean = math.log(S0) + (r - 0.5*sigma**2)*T\n",
        "sd = sigma*math.sqrt(T)\n",
        "rv = lognorm(sd, scale = math.exp(mean))\n",
        "x = np.linspace(min(sample), max(sample), 10000)\n",
        "ax.plot(x, rv.pdf(x), color=\"red\", label=\"Density function\")\n",
        "\n",
        "# plot grid and legend\n",
        "ax.xaxis.grid(True)\n",
        "ax.yaxis.grid(True)\n",
        "ax.legend()"
      ],
      "id": "afb93243-e572-4330-aff1-62753913a647"
    },
    {
      "cell_type": "markdown",
      "metadata": {},
      "source": [
        "# 2. Digital put option\n",
        "\n",
        "Assume that the underlying stock price follows the Black-Scholes model,\n",
        "in other words,\n",
        "$$ S_T = S_0 e^{(r-\\frac{1}{2}\\sigma^2)T + \\sigma W^Q_T}, $$ where $W^Q$\n",
        "is a Brownian motion under the risk-neutral measure $Q$ and $r$ is the\n",
        "risk-free interest rate and $\\sigma>0$ is the volatility of the model.\n",
        "\n",
        "We consider a digital put option with maturity $T$ and payoff $h(S_T)$,\n",
        "where $$ h(S_T) =\n",
        "\\begin{cases}\n",
        "1 & \\text{if } S_T \\le K, \\\\\n",
        "0 & \\text{if } S_T > K.\n",
        "\\end{cases} $$ The theoretical price at time 0 of this put is\n",
        "$$ P = e^{-rT}(1 - \\Phi(d_-)),$$ where $\\Phi$ is the cumulative\n",
        "distribution function of the standard normal distribution and\n",
        "$$ d_- = \\frac{1}{\\sigma\\sqrt{T}}(\\ln (S_0/K) + (r-\\tfrac{1}{2}\\sigma^2)T) $$.\n",
        "\n",
        "Use the test values $S_0=40$, $r=0.03$, $\\sigma=0.2$, $K=45$, $T=0.25$,\n",
        "$n=1000$ in the following exercises.\n",
        "\n",
        "<span class=\"theorem-title\">**Exercise 3**</span> Write a function to\n",
        "produce a Monte Carlo estimate for the price at time $0$ of a digital\n",
        "put option with maturity $T$.\n",
        "\n",
        "The arguments of the function should be $S_0$, $r$, $\\sigma$, $K$, $T$\n",
        "and the number of simulations $n$. The function should return the\n",
        "estimate as well as its standard error.\n",
        "\n",
        "Hint: There are a number of different ways to implement the calculation\n",
        "of the payoff."
      ],
      "id": "6174e8f5-0fc3-4c56-8e04-cbf263b17159"
    },
    {
      "cell_type": "code",
      "execution_count": null,
      "metadata": {},
      "outputs": [],
      "source": [
        "# Insert code here"
      ],
      "id": "aaa4ae48-b707-4727-8f63-e74b85a458b5"
    },
    {
      "cell_type": "markdown",
      "metadata": {},
      "source": [
        "<span class=\"theorem-title\">**Exercise 4**</span> Write code to\n",
        "calculate the theoretical price of the digital put option for the test\n",
        "values. Then compare the theoretical value with the estimate produced by\n",
        "your function."
      ],
      "id": "136bcff0-615c-4b2e-baa8-de0852c5682a"
    },
    {
      "cell_type": "code",
      "execution_count": null,
      "metadata": {},
      "outputs": [],
      "source": [
        "# Insert code here"
      ],
      "id": "4657093a-1f39-479f-907d-7bd4accf3d16"
    },
    {
      "cell_type": "markdown",
      "metadata": {},
      "source": [
        "Once you have completed this task, you are ready to start Assignment 2.\n",
        "\n",
        "# References\n",
        "\n",
        "NumPy Developers. 2022. “Random Generator.”\n",
        "<https://numpy.org/doc/stable/reference/random/generator.html>."
      ],
      "id": "558aea88-1837-436b-97af-12da69c35b3c"
    }
  ],
  "nbformat": 4,
  "nbformat_minor": 5,
  "metadata": {
    "kernelspec": {
      "name": "conda-env-compfin-py",
      "display_name": "Python [conda env:compfin]",
      "language": "python"
    },
    "language_info": {
      "name": "python",
      "codemirror_mode": {
        "name": "ipython",
        "version": "3"
      },
      "file_extension": ".py",
      "mimetype": "text/x-python",
      "nbconvert_exporter": "python",
      "pygments_lexer": "ipython3",
      "version": "3.10.16"
    }
  }
}