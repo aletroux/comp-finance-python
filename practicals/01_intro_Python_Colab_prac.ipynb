{
  "cells": [
    {
      "cell_type": "markdown",
      "metadata": {},
      "source": [
        "# Practical 1: Introduction to Google Colab\n",
        "\n",
        "Computational Finance with Python\n",
        "\n",
        "[Alet Roux](https://www.york.ac.uk/maths/staff/alet-roux/) ([Department\n",
        "of Mathematics](https://maths.york.ac.uk), University of York)\n",
        "\n",
        "This Colab notebook is based on the [Welcome to\n",
        "Colaboratory](https://colab.research.google.com/notebooks/intro.ipynb)\n",
        "and [Overview of\n",
        "Colaboratory](https://colab.research.google.com/notebooks/basic_features_overview.ipynb)\n",
        "notebooks published by Google.\n",
        "\n",
        "Google Colab and JupyterLab share the same `.ipynb` notebook format and\n",
        "indeed the functionality of Google Colab and JupyterLab is very similar\n",
        "(though the details, for example menu structure and keyboard shortcuts,\n",
        "are different). Colab and Jupyter notebooks are very much (but not 100%)\n",
        "compatible.\n",
        "\n",
        "Click on the following to open this file in Google Colab:\n",
        "\n",
        "<figure>\n",
        "<a\n",
        "href=\"https://colab.research.google.com/github/aletroux/comp-finance-python/blob/main/practicals/01_intro_Python_Colab_prac.ipynb\"><img\n",
        "src=\"https://colab.research.google.com/assets/colab-badge.svg\"\n",
        "alt=\"Open In Colab\" /></a>\n",
        "<figcaption>Open In Colab</figcaption>\n",
        "</figure>\n",
        "\n",
        "# 1. Cells\n",
        "\n",
        "A notebook is a list of cells. Cells contain either explanatory text or\n",
        "executable code and its output. Click in a cell to select it.\n",
        "\n",
        "## 1.1 Code cells\n",
        "\n",
        "Below is a **code cell**. Click on the “Connect” button in the top right\n",
        "hand corner to initiate a connection to the Google Colab runtime. Once\n",
        "the toolbar button changes to indicate “Connected” (or if it displays\n",
        "RAM and Disk graphs) you may need to hover over it), click in the code\n",
        "cell to select it and execute the contents in the following ways:\n",
        "\n",
        "-   Click the **Play icon** in the left gutter of the cell;\n",
        "-   Type `Cmd/Ctrl+Enter` to run the cell in place;\n",
        "-   Type `Shift+Enter` to run the cell and move focus to the next cell\n",
        "    (adding one if none exists); or\n",
        "-   Type `Alt+Enter` to run the cell and insert a new code cell\n",
        "    immediately below it.\n",
        "\n",
        "There are additional options for running some or all cells in the\n",
        "**Runtime** menu.\n",
        "\n",
        "If you execute a code cell without connecting to a runtime first, then a\n",
        "connection will be initiated automatically. Google Colab runtimes will\n",
        "disconnect after a certain amount of time, usually 12 hours if code is\n",
        "running in a notebook, or shorter if it is idle. It is then necessary to\n",
        "reconnect to run code again.\n",
        "\n",
        "Run the following cell."
      ],
      "id": "08c117fd-5ede-4ebc-a419-9badb2bb5dcf"
    },
    {
      "cell_type": "code",
      "execution_count": 2,
      "metadata": {
        "cellView": "both",
        "outputId": "b3ee1572-0237-448c-ff80-e1322352ff32"
      },
      "outputs": [],
      "source": [
        "seconds_in_a_day = 24 * 60 * 60\n",
        "seconds_in_a_day"
      ],
      "id": "cell-4"
    },
    {
      "cell_type": "markdown",
      "metadata": {},
      "source": [
        "## 1.2 Text cells\n",
        "\n",
        "This is a **text cell**. You can **double-click** to edit this cell. A\n",
        "preview appears while you are editing the cell. Once the editing is\n",
        "finished, click anywhere else.\n",
        "\n",
        "Text cells use markdown syntax which allows for the addition of\n",
        "headings, text emphasis, images, link, tables, lists, etc. To learn\n",
        "more, try the buttons on the menu bar appearing above this text cell or\n",
        "see the [markdown\n",
        "guide](https://colab.research.google.com/notebooks/markdown_guide.ipynb).\n",
        "\n",
        "You can also add mathematics to text cells using\n",
        "[LaTeX](http://www.latex-project.org/) to be rendered by\n",
        "[MathJax](https://www.mathjax.org). For an inline formula, simply place\n",
        "the LaTeX within a pair of **\\$** signs, and for a displayed formula use\n",
        "a pair of **\\$\\$** signs. For example `$\\sqrt{3\\x-1}+(1+x)^2$` becomes\n",
        "$\\sqrt{3x-1}+(1+x)^2.$\n",
        "\n",
        "## 1.3 Adding and moving cells\n",
        "\n",
        "New cells can be added by using the **+Code** and **+Text** buttons that\n",
        "show when you hover between cells. These buttons are also in the toolbar\n",
        "above the notebook where they can be used to add a cell below the\n",
        "currently selected cell.\n",
        "\n",
        "You can move a cell by clicking the up and down arrows in the little\n",
        "toolbar that appears in the top right hand corner of the cell once you\n",
        "have selected it. The same toolbar contains a bin icon that can be used\n",
        "to delete the cell.\n",
        "\n",
        "Consecutive cells can be selected by “lasso selection” by dragging from\n",
        "outside one cell and through the group. Non-adjacent cells can be\n",
        "selected concurrently by clicking one and then holding down `Ctrl` while\n",
        "clicking another. Similarly, using `Shift` instead of `Ctrl` will select\n",
        "all intermediate cells.\n",
        "\n",
        "# 2. Working with Colab\n",
        "\n",
        "To create a new Colab notebook you can use **File-\\>New**, or use the\n",
        "following link: [Create a new Colab\n",
        "notebook](http://colab.research.google.com/#create=true).\n",
        "\n",
        "Below are some examples of important Colab features.\n",
        "\n",
        "## 2.1 Continuity and runtime management\n",
        "\n",
        "First of all, variables defined in one cell can be used in cells that\n",
        "are defined later on in the notebook. Let’s use the number of seconds in\n",
        "a day calculated above to calculate how many seconds there are in a\n",
        "week.\n",
        "\n",
        "Run the following cell."
      ],
      "id": "250c6725-b84e-49c1-aabe-78208b8a3ae8"
    },
    {
      "cell_type": "code",
      "execution_count": 3,
      "metadata": {
        "outputId": "8a750a51-5300-409a-b555-f41f8900c7ca"
      },
      "outputs": [],
      "source": [
        "seconds_in_a_week = 7 * seconds_in_a_day\n",
        "seconds_in_a_week"
      ],
      "id": "cell-6"
    },
    {
      "cell_type": "markdown",
      "metadata": {},
      "source": [
        "It is important to notice that the outputs of code cells are not updated\n",
        "automatically. This can lead to problems, for example,\n",
        "\n",
        "-   If you realise that you’ve calculated the number of seconds in a day\n",
        "    incorrectly above *after* you’ve calculated the number of seconds in\n",
        "    a week, then you will need to rerun the appropriate code cell again.\n",
        "\n",
        "-   It may happen that you introduce a new variable (let’s call it `x`)\n",
        "    towards the end of the notebook, and while you are working,\n",
        "    inadvertently use `x` in a code cell at the start of the notebook.\n",
        "    At the time you are working, there are unlikely to be error\n",
        "    messages, but when the notebook is run with a fresh runtime, then\n",
        "    running the code cell at the start of the document may produce an\n",
        "    error because the value of `x` has been lost.\n",
        "\n",
        "It’s a good idea to occasionally run your entire workbook from scratch\n",
        "to refresh the value of all variables. Use **Runtime -\\> Restart and run\n",
        "all** for this purpose.\n",
        "\n",
        "## 2.2 Interrupting long running (or non-terminating) Python processes\n",
        "\n",
        "Long running Python processes can be interrupted. Run the following cell\n",
        "and select **Runtime -\\> Interrupt execution** (or press `Cmd/Ctrl-M I`)\n",
        "to stop execution."
      ],
      "id": "0afc587c-571a-41a9-8ae3-3a062ba3a011"
    },
    {
      "cell_type": "code",
      "execution_count": 4,
      "metadata": {
        "cellView": "both",
        "outputId": "9b16c392-5fdb-4115-ddf0-5870e1a636f7"
      },
      "outputs": [],
      "source": [
        "import time\n",
        "print(\"Sleeping for 30 seconds\")\n",
        "time.sleep(30) # Interrupt this to see what happens.\n",
        "print(\"Done sleeping\")"
      ],
      "id": "cell-9"
    },
    {
      "cell_type": "markdown",
      "metadata": {},
      "source": [
        "## 2.3 Automatic completion and exploring code\n",
        "\n",
        "Colab provides automatic completion to explore attributes of Python\n",
        "objects, as well as to quickly view documentation strings. As an\n",
        "example, first run the following cell to import the\n",
        "[`numpy`](http://www.numpy.org) module."
      ],
      "id": "05046e98-2caa-4e4a-a753-a0418eb59182"
    },
    {
      "cell_type": "code",
      "execution_count": 5,
      "metadata": {
        "cellView": "both"
      },
      "outputs": [],
      "source": [
        "import numpy as np"
      ],
      "id": "cell-11"
    },
    {
      "cell_type": "markdown",
      "metadata": {},
      "source": [
        "Insert your cursor after `np` in the code cell below and press period\n",
        "(`.`), you will see the list of available completions within the `np`\n",
        "module (you may have to wait a few seconds). Completions can be opened\n",
        "again by using **Ctrl+Space**."
      ],
      "id": "1e4501ec-7df5-4beb-82e6-5e5fbbcaf50f"
    },
    {
      "cell_type": "code",
      "execution_count": 6,
      "metadata": {
        "cellView": "both",
        "outputId": "7bf14f96-e160-4fa8-d381-aa97d997580e"
      },
      "outputs": [],
      "source": [
        "np"
      ],
      "id": "cell-13"
    },
    {
      "cell_type": "markdown",
      "metadata": {},
      "source": [
        "Typing an open parenthesis (`(`) after any function or class in the\n",
        "module, produces a pop-up of its documentation string. Try this by\n",
        "adding an open parenthesis after `sin` in the code cell below to see\n",
        "what happens (again you may have to wait a rew seconds)."
      ],
      "id": "d3e66fa5-d6bc-4ae6-9873-71d761fc154c"
    },
    {
      "cell_type": "code",
      "execution_count": 7,
      "metadata": {
        "cellView": "both",
        "outputId": "63c27213-79f9-433e-cafe-bcf3360f7710"
      },
      "outputs": [],
      "source": [
        "np.sin"
      ],
      "id": "cell-15"
    },
    {
      "cell_type": "markdown",
      "metadata": {},
      "source": [
        "The documentation can be opened again using `Ctrl+Shift+Space` or you\n",
        "can view the documentation for method by mouse hovering over the method\n",
        "name. When hovering over the method name the **Open in tab** link will\n",
        "open the documentation in a persistent pane. The **View source** link\n",
        "will navigate to the source code for the method.\n",
        "\n",
        "## 2.4 Error messages and exception formatting\n",
        "\n",
        "Error messages and exceptions are formatted nicely in Colab outputs. Run\n",
        "the following code cell and observe what happens."
      ],
      "id": "4c201d27-fb03-4e2c-af15-ace3d92a3b7c"
    },
    {
      "cell_type": "code",
      "execution_count": 8,
      "metadata": {
        "cellView": "both",
        "outputId": "daf93f83-3d74-4f50-83e3-abeb41d3ecd6"
      },
      "outputs": [],
      "source": [
        "x = 1\n",
        "y = 4\n",
        "\n",
        "#Let's try to divide by zero and see what happens\n",
        "z = y/(1-x)"
      ],
      "id": "cell-18"
    },
    {
      "cell_type": "markdown",
      "metadata": {},
      "source": [
        "Can you make an edit in this cell to remove the error?\n",
        "\n",
        "## 2.5 Rich, interactive outputs\n",
        "\n",
        "Until now all of the generated outputs have been static text or\n",
        "graphics, but they can be more interesting. Run the next code cell to\n",
        "produce an animation."
      ],
      "id": "3aeefbaa-ac37-484c-9925-3ba76079f6a1"
    },
    {
      "cell_type": "code",
      "execution_count": 14,
      "metadata": {
        "outputId": "18c216c7-a165-402d-b097-b61a71b5035a"
      },
      "outputs": [],
      "source": [
        "import matplotlib.pyplot as plt\n",
        "from matplotlib import animation, rc\n",
        "from IPython.display import HTML\n",
        "\n",
        "np.random.seed(19689891) # Fix random state for reproducibility\n",
        "\n",
        "# Set up figure\n",
        "fig, ax = plt.subplots()\n",
        "plt.title('Simulated Brownian motion')  \n",
        "plt.close()\n",
        "ax.set_xlim((0,1))\n",
        "ax.xaxis.grid(True)\n",
        "ax.set_ylim((-2.5, 2.5))\n",
        "ax.yaxis.grid(True)\n",
        "\n",
        "line, = ax.plot([], [], linewidth=2) # sets linewidth equal to 2\n",
        "\n",
        "# Simulate random walk\n",
        "t=np.linspace(0,1,100)\n",
        "steps = np.random.normal(loc=0,scale=0.1,size=100)\n",
        "W=[0]\n",
        "for n in range(1,100):\n",
        "  W.append(W[-1]+steps[n-1])\n",
        "\n",
        "# Animation function. This is called sequentially.  \n",
        "def animate(n):\n",
        "    line.set_data(t[0:n], W[0:n])\n",
        "    return (line,)\n",
        "\n",
        "# Animate. Interval sets the speed of animation.\n",
        "anim = animation.FuncAnimation(fig, animate, frames=101, \n",
        "                               interval=50, blit=True)\n",
        "\n",
        "# Make it work on Colab.\n",
        "rc('animation', html='jshtml')\n",
        "anim"
      ],
      "id": "cell-22"
    },
    {
      "cell_type": "markdown",
      "metadata": {},
      "source": [
        "## 2.6 Python libraries\n",
        "\n",
        "Colab contains many popular Colab libraries. To **import** a Python\n",
        "library that isn’t in Colab by default, see the instructions on\n",
        "[importing libraries and installing\n",
        "dependencies](https://colab.research.google.com/notebooks/snippets/importing_libraries.ipynb).\n",
        "\n",
        "## 2.7 Google integration\n",
        "\n",
        "### 2.7.1 Integration with Google Drive\n",
        "\n",
        "Colaboratory is integrated with [Google\n",
        "Drive](https://drive.google.com/drive/priority). It allows you to share,\n",
        "comment, and collaborate on the same document with multiple people.\n",
        "\n",
        "-   The **Share** button (top-right of the toolbar) allows you to share\n",
        "    the notebook and control permissions set on it. This can be\n",
        "    particularly helpful if you want to ask for advice on your work.\n",
        "\n",
        "-   **File-\\>Make a Copy** creates a copy of the notebook in Google\n",
        "    Drive. You should use this before making any changes to a file to\n",
        "    which you have read-only access.\n",
        "\n",
        "-   **File-\\>Save** saves the file to Google Drive.\n",
        "\n",
        "-   **File-\\>Save and pin revision** pins the version so it doesn’t get\n",
        "    deleted from the revision history.\n",
        "\n",
        "-   **File-\\>Revision history** shows the notebook’s revision history.\n",
        "\n",
        "To edit an existing notebook (\\`.ipynb’ file) in Colab, simply upload it\n",
        "to a Google Drive folder. It can then be opened in Colab directly from\n",
        "Google Drive.\n",
        "\n",
        "Files can be downloaded from Colab, or directly from Google Drive\n",
        "(notebook format only). The option **File-\\>Download** provides two\n",
        "options: the `.ipynb` notebook format or a .py file, which is a\n",
        "traditional Python code file with the contents of text cells appearing\n",
        "as comments.\n",
        "\n",
        "### 2.7.2 Commenting on a cell\n",
        "\n",
        "You can comment on a Colab notebook like you would on a Google Document.\n",
        "Comments are attached to cells, and are displayed next to the cell they\n",
        "refer to. If you have **comment-only** permissions, you will see a\n",
        "comment button on the top right of the cell when you hover over it.\n",
        "\n",
        "If you have edit or comment permissions you can comment on a cell in one\n",
        "of three ways:\n",
        "\n",
        "1.  Select a cell and click the comment button in the toolbar above the\n",
        "    top-right corner of the cell.\n",
        "2.  Right click a text cell and select **Add a comment** from the\n",
        "    context menu.\n",
        "3.  Use the shortcut `Ctrl+Shift+M` to add a comment to the currently\n",
        "    selected cell.\n",
        "\n",
        "You can resolve and reply to comments, and you can target comments to\n",
        "specific collaborators by typing *+\\[email address\\]* (e.g.,\n",
        "`+user@domain.com`). Addressed collaborators will be emailed.\n",
        "\n",
        "The **Comment** button in the top-right corner of the page shows all\n",
        "comments attached to the notebook.\n",
        "\n",
        "## 2.8 GitHub integration\n",
        "\n",
        "Colaboratory is designed to integrate well with\n",
        "[GitHub](https://github.com/). Instructions are provided on [saving and\n",
        "loading notebooks in\n",
        "GitHub](https://colab.research.google.com/github/googlecolab/colabtools/blob/main/notebooks/colab-github-demo.ipynb)."
      ],
      "id": "d6452c21-7861-4457-a6d2-7a80d2cfaaec"
    }
  ],
  "nbformat": 4,
  "nbformat_minor": 5,
  "metadata": {
    "colab": {
      "provenance": [],
      "toc_visible": true
    },
    "kernelspec": {
      "name": "python3",
      "display_name": "Python 3",
      "language": "python"
    },
    "language_info": {
      "name": "python",
      "codemirror_mode": {
        "name": "ipython",
        "version": "3"
      },
      "file_extension": ".py",
      "mimetype": "text/x-python",
      "nbconvert_exporter": "python",
      "pygments_lexer": "ipython3",
      "version": "3.11.5"
    }
  }
}
