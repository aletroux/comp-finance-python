{
 "cells": [
  {
   "cell_type": "raw",
   "id": "5f231183-f556-46a1-8d5c-5f03be18f2a2",
   "metadata": {},
   "source": [
    "---\n",
    "title: \"Practical 2: Tree models\"\n",
    "description: Using Python in tree models\n",
    "---"
   ]
  },
  {
   "attachments": {},
   "cell_type": "markdown",
   "id": "d2b1bd08-5bf3-41a1-ac58-a9e9d5e38d77",
   "metadata": {},
   "source": [
    "The aim of this practical is to practice using Python in a tree model.\n",
    "\n",
    "::: {.content-hidden when-profile=\"solutions\"}\n",
    "Click on the following to open this file in Google Colab:\n",
    "\n",
    "[![Open In Colab](https://colab.research.google.com/assets/colab-badge.svg)](https://colab.research.google.com/github/aletroux/comp-finance-python/blob/main/practicals/2_tree_models_prac.ipynb)\n",
    "\n",
    ":::\n",
    "\n",
    "# First things first\n",
    "\n",
    "This section contains a few short exercises to practice working in Colab with Python. It is important to work through these exercises to define the variables that we will use later on.\n",
    "\n",
    "## Variables\n",
    "\n",
    "We are going to create a Cox-Ross-Rubinstein tree with $N=4$ steps, and parameter values $\\Delta t=0.5$, $S_0=100$, $u=1.1$, $d=0.9$ and $r=0.05$. \n",
    "\n",
    "::: {#exr-variables}\n",
    "The following cell defines the variable `N`. Edit it to create the variables `dt`, `S0`, `u`, `d` and `r`. Then run the cell to define the variables.\n",
    ":::"
   ]
  },
  {
   "cell_type": "code",
   "execution_count": 1,
   "id": "11e87531-690f-4b08-a397-ae049b561164",
   "metadata": {},
   "outputs": [],
   "source": [
    "# Number of steps\n",
    "N = 4"
   ]
  },
  {
   "cell_type": "markdown",
   "id": "33a0442e-4f34-4212-bf9c-b5b694ccbea3",
   "metadata": {},
   "source": [
    "::: {.content-visible when-profile=\"solutions\"}\n",
    "::: {#sol-variables}"
   ]
  },
  {
   "cell_type": "code",
   "execution_count": 2,
   "id": "acbd2464-e911-42ca-9bc2-0862b11f1d2d",
   "metadata": {},
   "outputs": [],
   "source": [
    "# Number of steps\n",
    "N = 4\n",
    "\n",
    "# Step size\n",
    "dt = 0.5\n",
    "\n",
    "# Initial stock price\n",
    "S0 = 100\n",
    "\n",
    "# \"up\" jump\n",
    "u = 1.1\n",
    "\n",
    "# \"down\" jump\n",
    "d = 0.9\n",
    "\n",
    "# interest rate\n",
    "r = 0.05"
   ]
  },
  {
   "cell_type": "markdown",
   "id": "bafb801a-f27e-474f-acc9-686504475e2f",
   "metadata": {},
   "source": [
    ":::\n",
    ":::\n",
    "\n",
    "## Formulae\n",
    "\n",
    "At each time step there are two possibilities for the stock price under the risk-neutral probability:\n",
    "$$ S_{n+1} = \n",
    "\\begin{cases}\n",
    "u S_n & \\text{ with probability }q,\\\\\n",
    "d S_n & \\text{ with probability }1-q,\n",
    "\\end{cases}$$\n",
    "where\n",
    "$$q = \\frac{e^{r\\Delta t} - d}{u-d}.$$\n",
    "\n",
    "::: {#exr-formulae}\n",
    "\n",
    "Use the following code cell to calculate the value of $q$. \n",
    "\n",
    "The value of $e^{rt}$ has been calculated for you already, using the `math` package. @PSFmath provides more info about this package, which contains many useful mathematical functions and constants.\n",
    ":::"
   ]
  },
  {
   "cell_type": "code",
   "execution_count": 3,
   "id": "7e9d0375-1a18-4b37-b2ac-d75b66def2f2",
   "metadata": {},
   "outputs": [],
   "source": [
    "import math\n",
    "\n",
    "value = math.exp(r*dt)\n",
    "\n",
    "# insert your code here"
   ]
  },
  {
   "cell_type": "markdown",
   "id": "f1e517de-eb54-4ea5-8c95-6058a688cbd3",
   "metadata": {},
   "source": [
    "::: {.content-visible when-profile=\"solutions\"}\n",
    "::: {#sol-formulae}"
   ]
  },
  {
   "cell_type": "code",
   "execution_count": 4,
   "id": "1cdc68ec-1b9e-4bfc-9f75-a6cb371b3cd3",
   "metadata": {},
   "outputs": [],
   "source": [
    "import math\n",
    "\n",
    "value = math.exp(r*dt)\n",
    "\n",
    "# Risk-neutral probability\n",
    "q = (value-d)/(u-d)"
   ]
  },
  {
   "cell_type": "markdown",
   "id": "f277cb35-9321-4fce-a1e8-c0ac8e328a6f",
   "metadata": {},
   "source": [
    ":::\n",
    ":::\n",
    "\n",
    "## Booleans and `if` statements\n",
    "\n",
    "The model is free of arbitrage if and only if $q$ is a real probability, in other words, $0 < q < 1$.\n",
    "\n",
    "::: {#exr-if-statement}\n",
    "The code in the following cell checks whether $q<1$, and displays a message when it is not.\n",
    "\n",
    "Modify the code so that it also tests whether $q>0$, and displays a relevant message based on whether $0<q<1$ or not. Test your code for different values of $q$.\n",
    ":::"
   ]
  },
  {
   "cell_type": "code",
   "execution_count": 5,
   "id": "59c98440-8d09-4683-9170-ff46e1f1d59a",
   "metadata": {},
   "outputs": [
    {
     "name": "stdout",
     "output_type": "stream",
     "text": [
      "good news, q < 1\n"
     ]
    }
   ],
   "source": [
    "#| eval: false\n",
    "if q < 1:\n",
    "    print (\"good news, q < 1\")\n",
    "else:\n",
    "    print(f\"we need q < 1, but q = {q}.\")"
   ]
  },
  {
   "cell_type": "markdown",
   "id": "a22f3709-1da6-45ec-bdf3-6bc7bfeb421a",
   "metadata": {},
   "source": [
    "::: {.content-visible when-profile=\"solutions\"}\n",
    "::: {#sol-if-statement}\n",
    "There are different ways to approach this. Here are two possibilities:"
   ]
  },
  {
   "cell_type": "code",
   "execution_count": 6,
   "id": "43dde409-17ea-4ad3-a060-a4dd9c9a17bc",
   "metadata": {},
   "outputs": [
    {
     "name": "stdout",
     "output_type": "stream",
     "text": [
      "good news, 0 < q < 1\n"
     ]
    }
   ],
   "source": [
    "if 0 < q < 1:\n",
    "    print (\"good news, 0 < q < 1\")\n",
    "else:\n",
    "    print(f\"we need 0 < q < 1, but q = {q}.\")"
   ]
  },
  {
   "cell_type": "code",
   "execution_count": 7,
   "id": "40ba418e-4f8b-43ae-8fc3-5122ebe71b90",
   "metadata": {},
   "outputs": [
    {
     "name": "stdout",
     "output_type": "stream",
     "text": [
      "good news, q < 1\n"
     ]
    }
   ],
   "source": [
    "if 0 < q and q < 1:\n",
    "    print (\"good news, q < 1\")\n",
    "else:\n",
    "    print(f\"we need q < 1, but q = {q}.\")"
   ]
  },
  {
   "cell_type": "markdown",
   "id": "3d46d454-9620-494a-b08e-84dc43a74890",
   "metadata": {},
   "source": [
    ":::\n",
    ":::\n",
    "\n",
    "## `for` loops\n",
    "\n",
    "Let us start by calculating the value $$B_n = e^{n r \\Delta t}$$ of the money market account at all time steps $n=0,1,2,3,4$. For this we need a few things:\n",
    "\n",
    "- The exponential function. As the `math` package was imported above, we don't need to import it again in this notebook.\n",
    "- A loop to repeatedly calculate $B_n$ for different values of $n$. There are 5 possibilities for $n$, and so the object `range(5)` may be useful.\n",
    "- Somewhere to store these values. We will use a list. The list is initially empty, and then each value of $B_n$ is added at the end.\n",
    "\n",
    "The code follows below. There are two loops: one loop creates the list of values, and the other runs through the list to display the data."
   ]
  },
  {
   "cell_type": "code",
   "execution_count": 8,
   "id": "7dc4eb74-5dc7-4e41-b8bb-0d8072de1010",
   "metadata": {},
   "outputs": [
    {
     "name": "stdout",
     "output_type": "stream",
     "text": [
      "B[0] = 1.0\n",
      "B[1] = 1.0253151205244289\n",
      "B[2] = 1.0512710963760241\n",
      "B[3] = 1.0778841508846315\n",
      "B[4] = 1.1051709180756477\n"
     ]
    }
   ],
   "source": [
    "#Money market account\n",
    "B = []\n",
    "\n",
    "#Create money market account values\n",
    "for n in range(5):\n",
    "    Bn = math.exp(r*n*dt)\n",
    "    B.append(Bn)\n",
    "\n",
    "#Display money market account values\n",
    "for n in range(5):\n",
    "    print(f\"B[{n}] = {B[n]}\")"
   ]
  },
  {
   "cell_type": "markdown",
   "id": "01b5d5c1-7c0c-497e-831d-4a8a18fde2bd",
   "metadata": {},
   "source": [
    "Let us now calculate the different possible values $$S_N = S_0 u^n d^{N-n}$$ of the stock price $S_N$ at time step $N$. Here there are $N+1=5$ possibilities, so again $n=0,1,2,3,4$.\n",
    "\n",
    "For this we need a few things:\n",
    "\n",
    "- Knowing how to raise a number to a power. It's `**` in Python rather than `^`.\n",
    "- A loop to repeatedly calculate the formulae for the different values for $S_N$.\n",
    "- Somewhere to store these values. Let us use a list again.\n",
    "\n",
    "::: {#exr-variables}\n",
    "Use the code cell below to create a list `SN` where the value $S_0 u^n d^{N-n}$ is stored in `S[n]` for all `n`.\n",
    "\n",
    "Then display the contents of the list `SN` in decreasing order of magnitude\n",
    ":::"
   ]
  },
  {
   "cell_type": "code",
   "execution_count": 9,
   "id": "a812b72f-b53c-43b1-938a-e944c51b92ad",
   "metadata": {},
   "outputs": [],
   "source": [
    "# Insert your code here"
   ]
  },
  {
   "cell_type": "markdown",
   "id": "f074a9bb-9193-4fc8-87db-5307b7db0aef",
   "metadata": {},
   "source": [
    "::: {.content-visible when-profile=\"solutions\"}\n",
    "::: {#sol-loops}"
   ]
  },
  {
   "cell_type": "code",
   "execution_count": 10,
   "id": "acf9a418-4855-4dda-8ea3-0560e67016d9",
   "metadata": {},
   "outputs": [
    {
     "name": "stdout",
     "output_type": "stream",
     "text": [
      "Stock prices in increasing order:\n",
      "SN[0] = 65.61\n",
      "SN[1] = 80.19\n",
      "SN[2] = 98.01\n",
      "SN[3] = 119.79\n",
      "SN[4] = 146.41\n",
      "\n",
      "Stock prices in decreasing order:\n",
      "SN[4] = 146.41\n",
      "SN[3] = 119.79\n",
      "SN[2] = 98.01\n",
      "SN[1] = 80.19\n",
      "SN[0] = 65.61\n"
     ]
    }
   ],
   "source": [
    "#Stock price values at time step N\n",
    "SN = []\n",
    "for n in range(5):\n",
    "    Sn = S0 * u**n * d**(N-n)\n",
    "    SN.append(Sn)\n",
    "\n",
    "#Display stock prices in increasing order\n",
    "print(\"Stock prices in increasing order:\")\n",
    "for n in range(5):\n",
    "    print(f\"SN[{n}] = {round(SN[n],2)}\")\n",
    "\n",
    "#Display stock prices in decreasing order\n",
    "print(\"\\nStock prices in decreasing order:\")\n",
    "for n in range(4, -1, -1):\n",
    "    print(f\"SN[{n}] = {round(SN[n],2)}\")"
   ]
  },
  {
   "cell_type": "markdown",
   "id": "aa8db24f-488c-43b5-a00b-916a358b85f7",
   "metadata": {},
   "source": [
    ":::\n",
    ":::\n",
    "\n",
    "## Functions\n",
    "\n",
    "We will be calculating the prices of derivative securities in the tree model. Every derivative security has one or more maturity dates (it will be $N$ in our model) and a **payoff**, which can often (but not always) be expressed as a function of the stock price. For example, the payoff of a put option with pre-agreed strike price $K$ is\n",
    "$$P = \\max\\{K-S,0\\}$$\n",
    "where $S$ is the stock price at the maturity date of the option.\n",
    "\n",
    "This can be formulated as a Python function. Below we define the function `putpayoff` and plot it for a range of values."
   ]
  },
  {
   "cell_type": "code",
   "execution_count": 11,
   "id": "737bbd7f-05b9-43d8-972d-49a396043fa6",
   "metadata": {},
   "outputs": [
    {
     "data": {
      "image/png": "[encoded data removed]",
      "text/plain": [
       "<Figure size 640x480 with 1 Axes>"
      ]
     },
     "metadata": {},
     "output_type": "display_data"
    }
   ],
   "source": [
    "def putpayoff(S,K):\n",
    "    \"\"\"Put option payoff function. Arguments are\n",
    "    S: Stock price\n",
    "    K: Strike price\"\"\"\n",
    "    return max(K-S,0)\n",
    "\n",
    "# plot put payoff for strike K = 100\n",
    "import matplotlib.pyplot as plt\n",
    "import numpy as np\n",
    "\n",
    "fig, ax = plt.subplots()\n",
    "\n",
    "K = 100\n",
    "x = np.linspace(0, 2*K, 200)\n",
    "\n",
    "# np.vectorize function eliminates need to write a for loop when working with NumPy arrays\n",
    "y = np.vectorize(putpayoff, otypes=[np.float64])(x,K)\n",
    "\n",
    "ax.plot(x,y)\n",
    "ax.set_title('Put payoff')\n",
    "ax.xaxis.grid(True)\n",
    "ax.yaxis.grid(True)\n",
    "ax.set(xlabel='Stock price $S$', ylabel='Payoff', xlim=(0, 2*K))\n",
    "\n",
    "plt.show(fig)"
   ]
  },
  {
   "cell_type": "markdown",
   "id": "c492031e-778c-408a-8bcf-6b4b9f4efe30",
   "metadata": {},
   "source": [
    "::: {#exr-functions}\n",
    "Use the code cell below to create a payoff function `putpayoff` for the payoff of a call option, which is\n",
    "$$P = \\max\\{S-K,0\\}.$$\n",
    ":::"
   ]
  },
  {
   "cell_type": "code",
   "execution_count": 12,
   "id": "e7a73c0d-3e43-4f30-a8a8-cc1b9eb2bb69",
   "metadata": {},
   "outputs": [],
   "source": [
    "#Insert your code here"
   ]
  },
  {
   "cell_type": "markdown",
   "id": "4446776f-40d4-45de-9589-eaa23e511dda",
   "metadata": {},
   "source": [
    "::: {.content-visible when-profile=\"solutions\"}\n",
    "::: {#sol-functions}"
   ]
  },
  {
   "cell_type": "code",
   "execution_count": 13,
   "id": "86c4209a-e186-4a22-ada6-7f2a5059a60a",
   "metadata": {},
   "outputs": [
    {
     "name": "stdout",
     "output_type": "stream",
     "text": [
      "Help on function callpayoff in module __main__:\n",
      "\n",
      "callpayoff(S, K)\n",
      "    Call option payoff function. Arguments:\n",
      "    S: Stock price\n",
      "    K: Strike price\n",
      "\n"
     ]
    }
   ],
   "source": [
    "def callpayoff(S,K):\n",
    "    \"\"\"Call option payoff function. Arguments:\n",
    "    S: Stock price\n",
    "    K: Strike price\"\"\"\n",
    "    return max(S-K,0)\n",
    "\n",
    "help(callpayoff)"
   ]
  },
  {
   "cell_type": "markdown",
   "id": "ab4e52f1-bb88-4b5b-853a-5c58d4ec0bd6",
   "metadata": {},
   "source": [
    ":::\n",
    ":::\n",
    "\n",
    "# European option pricing with lists\n",
    "\n",
    "Let $f$ be the payoff of a derivative security with maturity date $N$. Then the option pricing procedure generates a process $V_n$ starting from $n=N$, as follows:\n",
    "\n",
    "1. Set $V_{N,k} = f(S_{N,k})$ where $k=0,\\ldots,N$ and $S_{N,k} = S_0 u^k d^{N-k}$.\n",
    "\n",
    "2. For $n = N-1, N-2, \\ldots, 0$, set\n",
    "$$ V_{n,k} = e^{-r\\Delta t} \\left(q V_{n+1,k+1} + (1-q)V_{n+1,k} \\right) $$\n",
    "for all $k=0,\\ldots,n$.\n",
    "\n",
    "3. Then the option price at time $0$ is $V_{0,0}$.\n",
    "\n",
    "In order to implement this algorithm, we need a few things:\n",
    "\n",
    "- Loops. Step 1 needs a single loop but there are two nested loops in step 2: an outer loop over `n` (backwards) and for each `n` an inner loop over `k`.\n",
    "- Somewhere to store the intermediate values. Notice in step 2 that $V_{n,k}$ depends on $V_{n+1,k+1}$ and $V_{n+1,k}$. For now we will use lists to store the intermediate values as they are straightforward to use, and allow us to focus on some of the other programming aspects. NumPy arrays are, however, ideally suited to this, and in addition more efficient. They will be introduced in @sec-Eoptions-Numpy.\n",
    "- Some values that have already been calculated, such as $S_{N,k}$ for all $k$ and the probability $q$.\n",
    "\n",
    "The following code calculates the price of a put option with strike price $K=100$. Study it carefully to see how it works. Then run it for a few different values of `K`."
   ]
  },
  {
   "cell_type": "code",
   "execution_count": 14,
   "id": "2a3b243f-f432-49fe-a252-e6aecffe45b1",
   "metadata": {},
   "outputs": [
    {
     "name": "stdout",
     "output_type": "stream",
     "text": [
      "Price of put option with strike 100 is 3.5359007954727515\n"
     ]
    }
   ],
   "source": [
    "# Strike\n",
    "K = 100\n",
    "\n",
    "# Risk-neutral probability\n",
    "q = (math.exp(r*dt) - d)/(u - d)\n",
    "\n",
    "# This value will be used frequently.\n",
    "discount = math.exp(-r*dt)\n",
    "\n",
    "# Step 1: Calculate V_N\n",
    "V = []\n",
    "for k in range(N+1):\n",
    "    S = S0*u**k*d**(N-k)\n",
    "    V.append( putpayoff(S,K) ) \n",
    "\n",
    "# Step 2: Now iterate backwards\n",
    "for n in range(N-1,-1,-1):\n",
    "    # At each time step n there are two lists:\n",
    "    # - oldV = V_{n+1}\n",
    "    # - V = V_{n}\n",
    "    oldV = V\n",
    "    V = []\n",
    "    \n",
    "    for k in range(n+1):\n",
    "        V.append(discount*(q*oldV[k+1] + (1-q)*oldV[k]))\n",
    "\n",
    "# Step 3\n",
    "print(f\"Price of put option with strike {K} is {V[0]}\")"
   ]
  },
  {
   "cell_type": "markdown",
   "id": "3088eff4-37d2-4352-a53a-3601079309f5",
   "metadata": {},
   "source": [
    "The above code can be improved in a number of ways. For example, notice that $V_{n,k}$ depends only on $V_{n+1,k+1}$ and $V_{n+1,k}$, and so we can actually rewrite the code to use only one list `V` as long as we are careful not to overwrite any values before they are used. (Try this as an exercise!)\n",
    "\n",
    "Also notice that the algorithm deletes the old (step $n+1$) values at each time step $n$. If we wanted to store these values, then we could use a nested list instead. Study the code below carefully to see how it works."
   ]
  },
  {
   "cell_type": "code",
   "execution_count": 15,
   "id": "1552710f-4a59-455b-967b-e90b065fb1f1",
   "metadata": {},
   "outputs": [
    {
     "name": "stdout",
     "output_type": "stream",
     "text": [
      "Price of put option with strike 100 is 3.5359007954727515\n",
      "\n",
      "Tree of option prices:\n",
      "                                    0.00\n",
      "                            0.00    0.00\n",
      "                    0.26    0.72    1.99\n",
      "            1.44    3.51    8.43   19.81\n",
      "    3.54    7.29   14.12   24.63   34.39\n"
     ]
    }
   ],
   "source": [
    "# Strike\n",
    "K = 100\n",
    "\n",
    "# Risk-neutral probability\n",
    "q = (math.exp(r*dt) - d)/(u - d)\n",
    "\n",
    "# This value will be used frequently.\n",
    "discount = math.exp(-r*dt)\n",
    "\n",
    "# Initialise nested list for V\n",
    "# To start with, it's a list of N+1 empty lists\n",
    "# Once the code finishes, V[n] will contain the values at time step n\n",
    "V = [ [] for k in range(N+1)]\n",
    "\n",
    "# Step 1: Calculate V_N\n",
    "for k in range(N+1):\n",
    "    S = S0*u**k*d**(N-k)\n",
    "    V[N].append( putpayoff(S,K) ) \n",
    "\n",
    "# Step 2: Now iterate backwards\n",
    "for n in range(N-1,-1,-1):\n",
    "    for k in range(n+1):\n",
    "        V[n].append(discount*(q*V[n+1][k+1] + (1-q)*V[n+1][k]))\n",
    "\n",
    "# Step 3\n",
    "print(f\"Price of put option with strike {K} is {V[0][0]}\")\n",
    "\n",
    "#We can now display the entire tree of prices\n",
    "print(\"\\nTree of option prices:\")\n",
    "for k in range(N,-1,-1):\n",
    "    linestring = \"\"\n",
    "    for n in range(k):\n",
    "        linestring += \"        \"\n",
    "    for n in range(k,N+1):\n",
    "        linestring += f\"{V[n][k]:8.2f}\"\n",
    "    print(linestring)"
   ]
  },
  {
   "cell_type": "markdown",
   "id": "515f815e-7955-4574-9a9c-6ad3ed8d8b9c",
   "metadata": {},
   "source": [
    "The code works, but it uses the global variables `N`, `u`, `d`, `r`, `dt`, `S0` and only works for call options. If we now wanted to modify `N`, for example, then we need to scroll up in the notebook, find where we have defined `N` and then recompile the whole notebook (which is tedious), or redefine `N` in the current code cell (which is risky because other variables might depend on it). A neat solution to this is to write our code in terms of a function, which takes all the values it needs as arguments.\n",
    "\n",
    "::: {#exr-pricecall}\n",
    "\n",
    "Complete the following code cell to create a function `callprice` which calculates the price of a call.\n",
    ":::"
   ]
  },
  {
   "cell_type": "code",
   "execution_count": 16,
   "id": "c31c0bcd-8feb-448b-a229-39a5bbe4358d",
   "metadata": {},
   "outputs": [
    {
     "name": "stdout",
     "output_type": "stream",
     "text": [
      "The price of a put option with the parameters in the notebook is None\n"
     ]
    }
   ],
   "source": [
    "#| eval: false\n",
    "def putprice (S0, N, u, r, d, dt, K):\n",
    "    \"\"\"Price a European put option in the Cox-Ross-Rubinstein model.\n",
    "    Arguments:\n",
    "    S0: initial price\n",
    "    N: number of steps\n",
    "    u: up jump, u > e^{r dt}\n",
    "    r: continuously compounded interest rate\n",
    "    d: down jump, d < e^{r dt}\n",
    "    dt: size of time step\n",
    "    K: strike of call option\n",
    "    Output:\n",
    "    Price of call at time 0.\"\"\"\n",
    "\n",
    "    #insert your code here\n",
    "    #remember indentation\n",
    "    #remember a return value\n",
    "\n",
    "print (\"The price of a put option with the parameters in the notebook is\", \n",
    "       putprice(100, 4, 1.1, 0.05, 0.9, 0.5, 100))    "
   ]
  },
  {
   "cell_type": "markdown",
   "id": "16cf0ccd-d0bc-4f5e-9ae9-ae366643a58d",
   "metadata": {},
   "source": [
    "::: {.content-visible when-profile=\"solutions\"}\n",
    "::: {#sol-pricecall}"
   ]
  },
  {
   "cell_type": "code",
   "execution_count": 17,
   "id": "efec4a1e-91f5-4c60-a6f6-c843e8ea84b1",
   "metadata": {},
   "outputs": [
    {
     "name": "stdout",
     "output_type": "stream",
     "text": [
      "The price of a put option with the parameters in the notebook is 3.5359007954727515\n"
     ]
    }
   ],
   "source": [
    "def putprice (S0, N, u, r, d, dt, K):\n",
    "    \"\"\"Price a European put option in the Cox-Ross-Rubinstein model.\n",
    "    Arguments:\n",
    "    S0: initial price\n",
    "    N: number of steps\n",
    "    u: up jump, u > e^{r dt}\n",
    "    r: continuously compounded interest rate\n",
    "    d: down jump, d < e^{r dt}\n",
    "    dt: size of time step\n",
    "    K: strike of call option\n",
    "    Output:\n",
    "    Price of call at time 0.\"\"\"\n",
    "\n",
    "    # Risk-neutral probability\n",
    "    q = (math.exp(r*dt) - d)/(u - d)\n",
    "    \n",
    "    # This value will be used frequently.\n",
    "    discount = math.exp(-r*dt)\n",
    "    \n",
    "    # Initialise nested list for V\n",
    "    V = [ [] for k in range(N+1)]\n",
    "    \n",
    "    # Step 1: Calculate V_N\n",
    "    for k in range(N+1):\n",
    "        S = S0*u**k*d**(N-k)\n",
    "        V[N].append( putpayoff(S,K) ) \n",
    "    \n",
    "    # Step 2: Now iterate backwards\n",
    "    for n in range(N-1,-1,-1):\n",
    "        for k in range(n+1):\n",
    "            V[n].append(discount*(q*V[n+1][k+1] + (1-q)*V[n+1][k]))\n",
    "\n",
    "    # Step 3\n",
    "    return V[0][0]\n",
    "\n",
    "print (\"The price of a put option with the parameters in the notebook is\", \n",
    "       putprice(100, 4, 1.1, 0.05, 0.9, 0.5, 100))    "
   ]
  },
  {
   "cell_type": "markdown",
   "id": "143ba5b3-5d5d-46d9-bbf5-f66a4bf8eb16",
   "metadata": {},
   "source": [
    ":::\n",
    ":::\n",
    "\n",
    "The function `putprice` can now be used to easily calculate prices for different values of the parameters. The following graph demonstrates this. (Notice that the graph isn't smooth; this is due to the fact that the model has only 4 steps, and hence there are only 5 possibilities for the payoff.)"
   ]
  },
  {
   "cell_type": "code",
   "execution_count": 18,
   "id": "b9a3debd-90f6-4425-8909-1991870e6b28",
   "metadata": {},
   "outputs": [
    {
     "data": {
      "image/png": "[encoded data removed]",
      "text/plain": [
       "<Figure size 640x480 with 1 Axes>"
      ]
     },
     "metadata": {},
     "output_type": "display_data"
    }
   ],
   "source": [
    "fig, ax = plt.subplots()\n",
    "\n",
    "K = np.linspace(0, 200, 200)\n",
    "y = np.vectorize(putprice, otypes=[np.float64])(100, 4, 1.1, 0.05, 0.9, 0.5, K)\n",
    "\n",
    "ax.plot(K,y)\n",
    "ax.set_title('Put price')\n",
    "ax.xaxis.grid(True)\n",
    "ax.yaxis.grid(True)\n",
    "ax.set(xlabel='Strike $K$', xlim=(0, 200))\n",
    "\n",
    "plt.show(fig)"
   ]
  },
  {
   "cell_type": "markdown",
   "id": "5224019e-b89d-4a38-9a02-c616d32f5686",
   "metadata": {},
   "source": [
    "The next step is to generalise the pricing procedure to derivatives that are not call options, for example, put options. To do this we need an argument representing the payoff function. This raises the question of the strike `K`: call and put options have a single strike parameter, but some derivatives (like bull and bear spreads) have two and others (like butterfly options) have more than two. To cater for all such eventualities, we remove the strike parameter and require it to be built into the payoff function. This is easily done by using a `lambda` function if needed. The result is something like the following."
   ]
  },
  {
   "cell_type": "code",
   "execution_count": 19,
   "id": "441a19fd-c2b0-403c-a1e8-ea712fb6f2e7",
   "metadata": {},
   "outputs": [
    {
     "name": "stdout",
     "output_type": "stream",
     "text": [
      "The price of a put option with the parameters in the notebook is 3.5359007954727515\n",
      "The price of a put option with the parameters in the notebook is 3.5359007954727515\n"
     ]
    }
   ],
   "source": [
    "def Eoptionprice_list (S0, N, u, r, d, dt, payoff):\n",
    "    \"\"\"Price a European option in the Cox-Ross-Rubinstein model.\n",
    "    Arguments:\n",
    "    S0: initial price\n",
    "    N: number of steps\n",
    "    u: up jump, u > e^{r dt}\n",
    "    r: continuously compounded interest rate\n",
    "    d: down jump, d < e^{r dt}\n",
    "    dt: size of time step\n",
    "    payoff: payoff function\n",
    "    Output:\n",
    "    Price of call at time 0.\"\"\"\n",
    "\n",
    "    # Risk-neutral probability\n",
    "    q = (math.exp(r*dt) - d)/(u - d)\n",
    "    \n",
    "    # This value will be used frequently.\n",
    "    discount = math.exp(-r*dt)\n",
    "    \n",
    "    # Initialise nested list for V\n",
    "    V = [ [] for k in range(N+1)]\n",
    "    \n",
    "    # Step 1: Calculate V_N\n",
    "    for k in range(N+1):\n",
    "        S = S0*u**k*d**(N-k)\n",
    "        V[N].append( payoff(S) ) \n",
    "    \n",
    "    # Step 2: Now iterate backwards\n",
    "    for n in range(N-1,-1,-1):\n",
    "        for k in range(n+1):\n",
    "            V[n].append(discount*(q*V[n+1][k+1] + (1-q)*V[n+1][k]))\n",
    "\n",
    "    # Step 3\n",
    "    return V[0][0]\n",
    "\n",
    "# modify put option payoff so we can use it with new function\n",
    "putpayoff100 = lambda x : putpayoff(x,100)\n",
    "\n",
    "print (\"The price of a put option with the parameters in the notebook is\", \n",
    "       Eoptionprice_list(100, 4, 1.1, 0.05, 0.9, 0.5, putpayoff100))\n",
    "\n",
    "# or, more briefly\n",
    "print (\"The price of a put option with the parameters in the notebook is\", \n",
    "       Eoptionprice_list(100, 4, 1.1, 0.05, 0.9, 0.5, lambda x : putpayoff(x,100)))\n"
   ]
  },
  {
   "cell_type": "markdown",
   "id": "0b99a90a-a31e-4f36-9481-c25eb07cbefd",
   "metadata": {},
   "source": [
    "::: {#exr-pricecall}\n",
    "A butterfly spread with strikes 90, 100 and 110 has the following payoff function:\n",
    "$$ B(S) = \\max\\{S - 90, 0\\} - 2\\max\\{S - 100, 0\\} + 2\\max\\{S - 100, 0\\} $$\n",
    "for all $S\\ge 0$. Write a function `butterflypayoff` to represent the payoff of the butterfly option, and use the function `Eoptionprice_list` to calculate its price at time 0.\n",
    ":::"
   ]
  },
  {
   "cell_type": "code",
   "execution_count": 20,
   "id": "50afcbe6-38e4-4de4-a359-0c6fe3046699",
   "metadata": {},
   "outputs": [],
   "source": [
    "# Insert code here"
   ]
  },
  {
   "cell_type": "markdown",
   "id": "d8624a92-f7ae-4f9d-bf06-55c1126ce3af",
   "metadata": {},
   "source": [
    "::: {.content-visible when-profile=\"solutions\"}\n",
    "::: {#sol-pricecall}"
   ]
  },
  {
   "cell_type": "code",
   "execution_count": 21,
   "id": "ff460dac-7506-4e7e-80f1-38358824647a",
   "metadata": {},
   "outputs": [
    {
     "name": "stdout",
     "output_type": "stream",
     "text": [
      "The price of a butterfly option with the parameters in the notebook is 2.3807108807929973\n"
     ]
    }
   ],
   "source": [
    "def butterflypayoff (S):\n",
    "    \"\"\"Payoff of butterfly option with strikes 90, 100 and 110.\"\"\"\n",
    "    C1 = max(S-90,0)\n",
    "    C2 = max(S-100,0)\n",
    "    C3 = max(S-110,0)\n",
    "    return C1 - 2*C2 + C3\n",
    "\n",
    "print (\"The price of a butterfly option with the parameters in the notebook is\", \n",
    "       Eoptionprice_list(100, 4, 1.1, 0.05, 0.9, 0.5, butterflypayoff))"
   ]
  },
  {
   "cell_type": "markdown",
   "id": "eb79dbcf-06a4-45ce-ba9e-191d36016fb0",
   "metadata": {},
   "source": [
    ":::\n",
    ":::\n",
    "\n",
    "# European option pricing with NumPy {#sec-Eoptions-Numpy}\n",
    "\n",
    "Programming with NumPy is very similar to working with lists, but there are a few differences:\n",
    "\n",
    "- Whilst multi-dimensionality can be achieved with nested lists, NumPy is more flexible, which means we can use different notation if we want to.\n",
    "- NumPy is very efficient, much faster than using Python `for` loops, and therefore we should make use of NumPy features to replace loops whereever we can.\n",
    "\n",
    "Numpy code can be very elegant and short. For example, the following code calculates the array of bond prices."
   ]
  },
  {
   "cell_type": "code",
   "execution_count": 22,
   "id": "715df37f-d7d4-4c84-ad4c-1359fab95412",
   "metadata": {},
   "outputs": [
    {
     "name": "stdout",
     "output_type": "stream",
     "text": [
      "[1.         1.02531512 1.0512711  1.07788415 1.10517092]\n"
     ]
    }
   ],
   "source": [
    "import numpy as np\n",
    "\n",
    "#array of equispaced time steps\n",
    "times = np.linspace(0, N*dt, N+1)\n",
    "\n",
    "#array of bond prices, using the universal function np.exp \n",
    "B = np.exp(r*times)\n",
    "print(B)"
   ]
  },
  {
   "cell_type": "markdown",
   "id": "e97cb23c-ff9b-4979-8d91-671290222a2a",
   "metadata": {},
   "source": [
    "Converting our European pricing procedure to use NumPy results in the following new function. Study the code carefully to see how it works."
   ]
  },
  {
   "cell_type": "code",
   "execution_count": 23,
   "id": "127e4237-a962-42d7-815b-eb781c33a7e3",
   "metadata": {},
   "outputs": [],
   "source": [
    "def Eoptionprice (S0, N, u, r, d, dt, payoff):\n",
    "    \"\"\"Price a European option in the Cox-Ross-Rubinstein model.\n",
    "    Arguments:\n",
    "    S0: initial price\n",
    "    N: number of steps\n",
    "    u: up jump, u > e^{r dt}\n",
    "    r: continuously compounded interest rate\n",
    "    d: down jump, d < e^{r dt}\n",
    "    dt: size of time step\n",
    "    payoff: payoff function\n",
    "    Output:\n",
    "    Price of call at time 0.\"\"\"\n",
    "\n",
    "    # Risk-neutral probability\n",
    "    q = (math.exp(r*dt) - d)/(u - d)\n",
    "    \n",
    "    # This value will be used frequently.\n",
    "    # Calculate it with math.exp rather than np.exp as it is faster on scalars.\n",
    "    discount = math.exp(-r*dt)\n",
    "        \n",
    "    # Initialise two-dimensional array V.\n",
    "    # Initial values equal to 0 (but could also have used empty).\n",
    "    # V[n, k] = node k at time step n.\n",
    "    # remember this is a matrix but only half of the positions are used\n",
    "    V = np.zeros((N+1,N+1))\n",
    "    \n",
    "    # Step 1: Calculate V_N\n",
    "    ks = np.arange(N+1)\n",
    "    # ks[::-1] is just a reversed view of ks\n",
    "    S = S0 * u**ks * d**ks[::-1]\n",
    "    V[N] = np.vectorize(payoff, otypes=[np.float64])(S)\n",
    "    \n",
    "    # Step 2: Now iterate backwards\n",
    "    # cannot replace this loop\n",
    "    for n in np.arange(N-1,-1,-1):\n",
    "        # loop replaced by NumPy operations\n",
    "        # notice selection of sub-arrays in the calculation\n",
    "        V[n, :n+1] = discount*(q*V[n+1, 1:n+2] + (1-q)*V[n+1, :n+1])\n",
    "\n",
    "    # Step 3\n",
    "    return V[0, 0]"
   ]
  },
  {
   "cell_type": "markdown",
   "id": "69172287-a949-4786-ad35-338feeda1292",
   "metadata": {},
   "source": [
    "Let us compare the speed of the two methods for pricing European options."
   ]
  },
  {
   "cell_type": "code",
   "execution_count": 24,
   "id": "f6c7e0b3-bf11-43f7-8b9f-f1dc2b8af833",
   "metadata": {},
   "outputs": [
    {
     "name": "stdout",
     "output_type": "stream",
     "text": [
      "3.39 µs ± 29.1 ns per loop (mean ± std. dev. of 7 runs, 100,000 loops each)\n",
      "34 µs ± 214 ns per loop (mean ± std. dev. of 7 runs, 10,000 loops each)\n"
     ]
    }
   ],
   "source": [
    "#| output: true\n",
    "%timeit Eoptionprice_list (100, 4, 1.1, 0.05, 0.9, 0.5, putpayoff100)\n",
    "%timeit Eoptionprice (100, 4, 1.1, 0.05, 0.9, 0.5, putpayoff100)"
   ]
  },
  {
   "cell_type": "markdown",
   "id": "9de3e1c8-7623-444b-87a2-495461fae8ea",
   "metadata": {},
   "source": [
    "Notice that the NumPy version is significantly slower than the version with lists. The reason for this is that NumPy comes with overhead cost (for allocating memory, etc), which can take up a significant proportion of the running time when the amount of data is small. In this case we have 4 time steps, which mean 15 nodes. On the other hand, the code for a model with 200 time steps (i.e. 20301 nodes) shows a significant speedup over the version with lists. Try the following with a few different values. (Be warned, it does take a while to run!)"
   ]
  },
  {
   "cell_type": "code",
   "execution_count": 25,
   "id": "c432e9ec-04c0-40ea-8be1-e98db34c3565",
   "metadata": {},
   "outputs": [
    {
     "name": "stdout",
     "output_type": "stream",
     "text": [
      "2.01 ms ± 6.89 µs per loop (mean ± std. dev. of 7 runs, 100 loops each)\n",
      "1.02 ms ± 2.24 µs per loop (mean ± std. dev. of 7 runs, 1,000 loops each)\n"
     ]
    }
   ],
   "source": [
    "#| output: true\n",
    "bigN = 200\n",
    "\n",
    "%timeit Eoptionprice_list (100, bigN, 1.1, 0.05, 0.9, 0.5, putpayoff100)\n",
    "%timeit Eoptionprice (100, bigN, 1.1, 0.05, 0.9, 0.5, putpayoff100)"
   ]
  },
  {
   "cell_type": "markdown",
   "id": "cefb75ec-ae30-4908-8d3c-9c8959088ef5",
   "metadata": {},
   "source": [
    "Assignment 1 builds on the work you have done so far, so you can start working on it now.\n",
    "\n",
    "# American option pricing\n",
    "\n",
    "An American style derivative can be exercised at any time up to the maturity date. When the option is exercised, the holder receives a payoff. The American option pricing procedure is as follows.\n",
    "\n",
    "1. Calculate $P_{n,k} = f(S_{n,k})$ for all $n=0,\\ldots,N$ and $k=0,\\ldots,N$, where $S_{n,k} = S_0 u^k d^{n-k}$.\n",
    "\n",
    "2. Set $V_{N,k} = P_{N,k}$ for all $k=0,\\ldots,N$.\n",
    "\n",
    "3. For $n = N-1, N-2, \\ldots, 0$, set\n",
    "$$ V_{n,k} = \\max\\left\\{P_{n,k}, e^{-r\\Delta t} \\left(q V_{n+1,k+1} + (1-q)V_{n+1,k} \\right)\\right\\} $$\n",
    "for all $k=0,\\ldots,n$.\n",
    "\n",
    "5. The option price at time $0$ is $V_{0,0}$.\n",
    "\n",
    "::: {#exr-American}\n",
    "\n",
    "Read more about `np.maximize()` in the NumPy documentation (@NumPyReference).\n",
    "\n",
    "Then modify the function `Eoptionprice` to create a new function `Aoptionprice` in the following code block that calculates the price of an American option. For the given parameter values, the price of a European and American call should be the same---use this fact to test your function.\n",
    ":::"
   ]
  },
  {
   "cell_type": "code",
   "execution_count": 26,
   "id": "587e7b8f-72ba-4c3c-a709-8acfa5844d73",
   "metadata": {},
   "outputs": [
    {
     "name": "stdout",
     "output_type": "stream",
     "text": [
      "The price of a European call option with the parameters in the notebook is 13.052158991876807\n",
      "The price of an American call option with the parameters in the notebook is 0.0\n",
      "The price of a European put option with the parameters in the notebook is 3.5359007954727515\n",
      "The price of an American put option with the parameters in the notebook is 0.0\n"
     ]
    }
   ],
   "source": [
    "def Aoptionprice (S0, N, u, r, d, dt, payoff):\n",
    "    \"\"\"Price an American option in the Cox-Ross-Rubinstein model.\n",
    "    Arguments:\n",
    "    S0: initial price\n",
    "    N: number of steps\n",
    "    u: up jump, u > e^{r dt}\n",
    "    r: continuously compounded interest rate\n",
    "    d: down jump, d < e^{r dt}\n",
    "    dt: size of time step\n",
    "    payoff: payoff function\n",
    "    Output:\n",
    "    Vector of prices at all times and nodes.\"\"\"\n",
    "\n",
    "    # Risk-neutral probability\n",
    "    q = (math.exp(r*dt) - d)/(u - d)\n",
    "    \n",
    "    # This value will be used frequently.\n",
    "    # Calculate it with math.exp rather than np.exp as it is faster on scalars.\n",
    "    discount = math.exp(-r*dt)\n",
    "        \n",
    "    # Initialise two-dimensional arrays P and V.\n",
    "    # Initial values equal to 0 (but could also have used empty).\n",
    "    # V[n, k] = node k at time step n.\n",
    "    # remember this is a matrix but only half of the positions are used\n",
    "    P = np.zeros((N+1,N+1))\n",
    "    V = np.zeros((N+1,N+1))\n",
    "    \n",
    "    # Step 1: Calculate P\n",
    "    # insert your code here\n",
    "\n",
    "    # Step 2: Calculate V[N]\n",
    "    # insert your code here\n",
    "    \n",
    "    # Step 3: Now iterate backwards\n",
    "    # insert your code here\n",
    "\n",
    "    # Step 4\n",
    "    return V\n",
    "\n",
    "# modify call option payoff so we can use it with Aoptionprice\n",
    "callpayoff100 = lambda x : callpayoff(x,100)\n",
    "print (\"The price of a European call option with the parameters in the notebook is\", \n",
    "       Eoptionprice(100, 4, 1.1, 0.05, 0.9, 0.5, callpayoff100))\n",
    "print (\"The price of an American call option with the parameters in the notebook is\", \n",
    "       Aoptionprice(100, 4, 1.1, 0.05, 0.9, 0.5, callpayoff100)[0,0])\n",
    "\n",
    "print (\"The price of a European put option with the parameters in the notebook is\", \n",
    "       Eoptionprice(100, 4, 1.1, 0.05, 0.9, 0.5, putpayoff100))\n",
    "print (\"The price of an American put option with the parameters in the notebook is\", \n",
    "       Aoptionprice(100, 4, 1.1, 0.05, 0.9, 0.5, putpayoff100)[0,0])"
   ]
  },
  {
   "cell_type": "markdown",
   "id": "64da7227-ea06-4d63-953d-12e5182efe46",
   "metadata": {},
   "source": [
    "\n",
    "\n",
    "::: {.content-visible when-profile=\"solutions\"}\n",
    "::: {#sol-American}"
   ]
  },
  {
   "cell_type": "code",
   "execution_count": 27,
   "id": "1fd84b20-255a-41ce-8785-185e2d1a2690",
   "metadata": {},
   "outputs": [
    {
     "name": "stdout",
     "output_type": "stream",
     "text": [
      "The price of a European call option with the parameters in the notebook is 13.052158991876807\n",
      "The price of an American call option with the parameters in the notebook is 13.052158991876807\n",
      "The price of a European put option with the parameters in the notebook is 3.5359007954727515\n",
      "The price of an American put option with the parameters in the notebook is 4.722753680432218\n"
     ]
    }
   ],
   "source": [
    "def Aoptionprice (S0, N, u, r, d, dt, payoff):\n",
    "    \"\"\"Price an American option in the Cox-Ross-Rubinstein model.\n",
    "    Arguments:\n",
    "    S0: initial price\n",
    "    N: number of steps\n",
    "    u: up jump, u > e^{r dt}\n",
    "    r: continuously compounded interest rate\n",
    "    d: down jump, d < e^{r dt}\n",
    "    dt: size of time step\n",
    "    payoff: payoff function\n",
    "    Output:\n",
    "    Vector of prices at all times and nodes.\"\"\"\n",
    "\n",
    "    # Risk-neutral probability\n",
    "    q = (math.exp(r*dt) - d)/(u - d)\n",
    "    \n",
    "    # This value will be used frequently.\n",
    "    # Calculate it with math.exp rather than np.exp as it is faster on scalars.\n",
    "    discount = math.exp(-r*dt)\n",
    "        \n",
    "    # Initialise two-dimensional arrays P and V.\n",
    "    P = np.zeros((N+1,N+1))\n",
    "    V = np.zeros((N+1,N+1))\n",
    "    \n",
    "    # Step 1: Calculate P\n",
    "    vectorized_payoff = np.vectorize(payoff, otypes=[np.float64])\n",
    "    for n in np.arange(N+1):\n",
    "        ks = np.arange(n+1)\n",
    "        S = S0 * u**ks * d**ks[::-1]\n",
    "        P[n, :n+1] = vectorized_payoff(S)\n",
    "\n",
    "    # Step 2: Calculate V[N]\n",
    "    V[N] = P[N]\n",
    "    \n",
    "    # Step 3: Now iterate backwards\n",
    "    for n in range(N-1,-1,-1):\n",
    "        C = discount*(q*V[n+1, 1:n+2] + (1-q)*V[n+1, :n+1])\n",
    "        V[n, :n+1] = np.maximum(C , P[n, :n+1])\n",
    "\n",
    "    # Step 4\n",
    "    return V\n",
    "\n",
    "# modify call option payoff so we can use it with Aoptionprice\n",
    "callpayoff100 = lambda x : callpayoff(x,100)\n",
    "print (\"The price of a European call option with the parameters in the notebook is\", \n",
    "       Eoptionprice(100, 4, 1.1, 0.05, 0.9, 0.5, callpayoff100))\n",
    "print (\"The price of an American call option with the parameters in the notebook is\", \n",
    "       Aoptionprice(100, 4, 1.1, 0.05, 0.9, 0.5, callpayoff100)[0,0])\n",
    "\n",
    "print (\"The price of a European put option with the parameters in the notebook is\", \n",
    "       Eoptionprice(100, 4, 1.1, 0.05, 0.9, 0.5, putpayoff100))\n",
    "print (\"The price of an American put option with the parameters in the notebook is\", \n",
    "       Aoptionprice(100, 4, 1.1, 0.05, 0.9, 0.5, putpayoff100)[0,0])"
   ]
  },
  {
   "cell_type": "markdown",
   "id": "fa2eb942-af0b-44f6-ac80-83cd0e9e760d",
   "metadata": {},
   "source": [
    ":::\n",
    ":::\n",
    "\n",
    "# References {.unnumbered}"
   ]
  }
 ],
 "metadata": {
  "kernelspec": {
   "display_name": "Python 3 (ipykernel)",
   "language": "python",
   "name": "python3"
  },
  "language_info": {
   "codemirror_mode": {
    "name": "ipython",
    "version": 3
   },
   "file_extension": ".py",
   "mimetype": "text/x-python",
   "name": "python",
   "nbconvert_exporter": "python",
   "pygments_lexer": "ipython3",
   "version": "3.11.5"
  }
 },
 "nbformat": 4,
 "nbformat_minor": 5
}
