{
  "cells": [
    {
      "cell_type": "markdown",
      "metadata": {},
      "source": [
        "# Assignment 1: Tree models\n",
        "\n",
        "Computational Finance with Python\n",
        "\n",
        "[Alet Roux](https://www.york.ac.uk/maths/staff/alet-roux/) ([Department\n",
        "of Mathematics](https://maths.york.ac.uk), University of York)\n",
        "\n",
        "The aim of this assignment is to familiarise yourself with tree models,\n",
        "and practice using them in Python. This assignment contains a mixture of\n",
        "pen-and-paper and Python exercises.\n",
        "\n",
        "Click on the following to open this file in Google Colab:\n",
        "\n",
        "<figure>\n",
        "<a\n",
        "href=\"https://colab.research.google.com/github/aletroux/comp-finance-python/blob/main/assignments/1_tree_models_ass.ipynb\"><img\n",
        "src=\"https://colab.research.google.com/assets/colab-badge.svg\"\n",
        "alt=\"Open In Colab\" /></a>\n",
        "<figcaption>Open In Colab</figcaption>\n",
        "</figure>\n",
        "\n",
        "In the lectures we saw that it is possible to replicate any derivative\n",
        "security with payoff function $f$ in the Cox-Ross-Rubinstein model. The\n",
        "procedure for creating a trading strategy consisting of a sequence of\n",
        "$x_n$ units of the money market account and $y_n$ shares at times\n",
        "$n=0,\\ldots,N-1$ is as follows:\n",
        "\n",
        "1.  At step $N$: $V(N,S_N) = f(S_N)$.\n",
        "\n",
        "2.  At step $n<N$:\n",
        "\n",
        "    1.  Calculate $$\n",
        "        \\begin{aligned}\n",
        "        y_n  &= \\frac{V(n+1,u S_n) - V(n+1,d S_n)}{(u-d)S_n}, \\\\\n",
        "        x_n &= \\frac{1}{B_{n+1}}\\left[V(n+1,u S_n) - y_n u S_n\\right] \\\\\n",
        "        &= \\frac{1}{B_{n+1}}\\left[V(n+1,d S_n) - y_n d S_n\\right].\n",
        "        \\end{aligned}\n",
        "        $$ for $x_n$ and $y_n$.\n",
        "\n",
        "    2.  Calculate $$ V(n,S_n) = x_n B_n + y_n S_n. $$\n",
        "\n",
        "The aim of this assignment is to implement this procedure in Python.\n",
        "\n",
        "<span class=\"theorem-title\">**Exercise 1**</span> Determine the\n",
        "replicating strategy of a call option with strike $100$ in a\n",
        "Cox-Ross-Rubinstein tree with $N=2$ steps and parameter values\n",
        "$\\Delta t=0.5$, $S_0=100$, $u=1.1$, $d=0.9$ and $r=0.05$.\n",
        "\n",
        "It is recommended that you do this exercise by hand to help you develop\n",
        "a sense of the calculations and the data involved.\n",
        "\n",
        "<span class=\"theorem-title\">**Exercise 2**</span> Now write some code to\n",
        "do the following:\n",
        "\n",
        "1.  Determine the replicating strategy of a call option.\n",
        "2.  Display the replicating strategy on screen.\n",
        "\n",
        "Use the following code cell to develop your code. Test your code against\n",
        "the values you calculated in\n",
        "<a href=\"#exr-basic\" class=\"quarto-xref\">Exercise 1</a> and by using the\n",
        "option pricing functions from Practical 2.\n",
        "\n",
        "Finally use your code to determine the replicating strategy of a call\n",
        "option with strike $100$ in a Cox-Ross-Rubinstein tree with $N=10$ steps\n",
        "and parameter values $\\Delta t=0.5$, $S_0=100$, $u=1.1$, $d=0.9$ and\n",
        "$r=0.05$."
      ],
      "id": "4c2b35cb-a551-4bef-9fbe-2bd1eaaeeafb"
    },
    {
      "cell_type": "code",
      "execution_count": 2,
      "metadata": {},
      "outputs": [],
      "source": [
        "# Insert your code here."
      ],
      "id": "2ad2aa27-37a9-4f13-ba77-606ceb1bac2b"
    }
  ],
  "nbformat": 4,
  "nbformat_minor": 5,
  "metadata": {
    "kernelspec": {
      "name": "conda-env-compfin-py",
      "display_name": "Python [conda env:compfin]",
      "language": "python"
    },
    "language_info": {
      "name": "python",
      "codemirror_mode": {
        "name": "ipython",
        "version": "3"
      },
      "file_extension": ".py",
      "mimetype": "text/x-python",
      "nbconvert_exporter": "python",
      "pygments_lexer": "ipython3",
      "version": "3.12.1"
    }
  }
}