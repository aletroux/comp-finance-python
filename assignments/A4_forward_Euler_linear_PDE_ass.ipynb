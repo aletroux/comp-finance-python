{
  "cells": [
    {
      "cell_type": "markdown",
      "metadata": {},
      "source": [
        "# Assignment 4: Forward Euler finite difference method\n",
        "\n",
        "Computational Finance with Python\n",
        "\n",
        "[Alet Roux](https://www.york.ac.uk/maths/staff/alet-roux/) ([Department\n",
        "of Mathematics](https://maths.york.ac.uk), University of York)\n",
        "\n",
        "Consider the first-order partial differential equation $$\n",
        "\\frac{\\partial u}{\\partial t}(t,x) +c\\frac{\\partial u}{\\partial x}(t,x) = 0\n",
        "$$ for all $(t,x)\\in[0,T]\\times[a,b]$, where $c>0$ is a constant, with\n",
        "initial condition $$\n",
        "u(0,x) = f(x)\n",
        "$$ for all $x\\in[a,b]$ and boundary conditions $$\\begin{aligned}\n",
        "    u(t,a) &= g(t), &\n",
        "    u(t,b) &= h(t)\\end{aligned}$$ for all $t\\in[0,T]$.\n",
        "\n",
        "Lay out a grid in the $(x, t)$ plane using points $t_i = i\\Delta t$ and\n",
        "$x_j = j\\Delta x$, where $\\Delta x = \\frac{1}{N}(b-a)$ and\n",
        "$\\Delta t = \\frac{T}{M}$. The goal is to calculate $u_{i,j}$ such that\n",
        "$$\n",
        "u_{i,j} \\approx u(t_i, x_j)\n",
        "$$ and ensure that this approximation converges to the exact solution as\n",
        "$\\Delta t, \\Delta x \\to  0$.\n",
        "\n",
        "Throughout this assignment we use the **forward Euler method** which\n",
        "uses a forward difference for the $t$-derivative.\n",
        "\n",
        "# 1. Forward difference for x-derivative\n",
        "\n",
        "<span class=\"theorem-title\">**Exercise 1**</span> Derive the difference\n",
        "equation for $u_{i+1,j}$ by using a **forward difference approximation**\n",
        "to discretize $\\frac{\\partial u}{\\partial x}$ at the point $(t_i,x_j)$.\n",
        "\n",
        "<span class=\"theorem-title\">**Exercise 2**</span> Explain why it is\n",
        "correct to say that the scheme in\n",
        "<a href=\"#exr-forward\" class=\"quarto-xref\">Exercise 1</a> is *unstable*\n",
        "no matter how small $\\Delta t$ and $\\Delta x$ are.\n",
        "\n",
        "# 2. Backward difference for x-derivative\n",
        "\n",
        "<span class=\"theorem-title\">**Exercise 3**</span> Derive the difference\n",
        "equation for $u_{i+1,j}$ by using a **backward difference\n",
        "approximation** to discretize $\\frac{\\partial u}{\\partial x}$ at the\n",
        "point $(t_i,x_j)$.\n",
        "\n",
        "<span class=\"theorem-title\">**Exercise 4**</span> Derive a condition on\n",
        "$\\Delta t$ and $\\Delta x$ under which the scheme in\n",
        "<a href=\"#exr-backward\" class=\"quarto-xref\">Exercise 3</a> becomes\n",
        "stable.\n",
        "\n",
        "*Hint*: The eigenvalues of a real-valued matrix $A$ is the same as that\n",
        "of its transpose $A^T$."
      ],
      "id": "e57650e1-573e-46c7-98b7-044be7e212e4"
    }
  ],
  "nbformat": 4,
  "nbformat_minor": 5,
  "metadata": {
    "kernelspec": {
      "name": "python3",
      "display_name": "Python 3",
      "language": "python"
    },
    "language_info": {
      "name": "python",
      "codemirror_mode": {
        "name": "ipython",
        "version": "3"
      },
      "file_extension": ".py",
      "mimetype": "text/x-python",
      "nbconvert_exporter": "python",
      "pygments_lexer": "ipython3",
      "version": "3.11.11"
    }
  }
}