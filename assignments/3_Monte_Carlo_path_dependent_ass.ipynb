{
 "cells": [
  {
   "cell_type": "markdown",
   "id": "2cb24dcb-43bf-4bea-aafa-6b65c904f088",
   "metadata": {},
   "source": [
    "# Assignment 3: Pricing path-dependent derivatives\n",
    "\n",
    "Computational Finance with Python\n",
    "\n",
    "[Alet Roux](https://www.york.ac.uk/maths/staff/alet-roux/) ([Department\n",
    "of Mathematics](https://maths.york.ac.uk), University of York)\n",
    "\n",
    "Click on the following to open this file in Google Colab:\n",
    "\n",
    "<figure>\n",
    "<a\n",
    "href=\"https://colab.research.google.com/github/aletroux/comp-finance-python/blob/main/assignments/3_Monte_Carlo_path_dependent_ass.ipynb\"><img\n",
    "src=\"https://colab.research.google.com/assets/colab-badge.svg\"\n",
    "alt=\"Open In Colab\" /></a>\n",
    "<figcaption>Open In Colab</figcaption>\n",
    "</figure>\n",
    "\n",
    "The payoff at maturity of an average price (Asian) call option with\n",
    "strike $K$ is $$ \\left(\\frac{1}{T}\\int_0^T S_t dt - K\\right)^+, $$ where\n",
    "$S$ is the price process of the underlying stock.\n",
    "\n",
    "# 1. Pricing an average price option\n",
    "\n",
    "<span class=\"theorem-title\">**Exercise 1**</span> Write a function to\n",
    "compute a Monte Carlo estimate of the price of this option in the\n",
    "Black-Scholes model. The function should have appropriate arguments\n",
    "reflecting the parameters of the Black-Scholes model, the call option\n",
    "and the Monte Carlo estimation. Your function should return the estimate\n",
    "of the price and its standard error.\n",
    "\n",
    "Use antithetic variates to reduce the variance of the Monte Carlo\n",
    "estimate.\n",
    "\n",
    "Your code should approximate the integral $\\int_0^T S_t dt$ by the\n",
    "Trapezoidal Rule as\n",
    "$$\\int_0^T S_t dt \\approx \\Delta t\\sum_{k=0}^{m-1} \\tfrac{1}{2}(S_{k\\Delta t} + S_{(k+1)\\Delta t}) = \\Delta t\\left(\\tfrac{1}{2}S_0 + \\sum_{k=1}^{m-1} S_{k\\Delta t} + \\tfrac{1}{2}S_T\\right).$$\n",
    "where $\\Delta t = T/m$.\n",
    "\n",
    "Hint: The function `numpy.sum` (NumPy Developers (2022)) might help with\n",
    "the approximation of the integral.\n",
    "\n",
    "Report your results for the parameter values $S_0=80$, $r=0.05$,\n",
    "$\\sigma=0.15$, $T=1$ and $K=80$. You should take $m=12$ and $n=1000$."
   ]
  },
  {
   "cell_type": "code",
   "execution_count": 1,
   "id": "2ad2aa27-37a9-4f13-ba77-606ceb1bac2b",
   "metadata": {},
   "outputs": [],
   "source": [
    "# Insert your code here."
   ]
  },
  {
   "cell_type": "markdown",
   "id": "c4fad3a6-0bf7-4b19-91f6-8df44ab1271e",
   "metadata": {},
   "source": [
    "# 2. Confidence intervals\n",
    "\n",
    "Recall that there is an approximate 95% confidence interval for the\n",
    "Monte Carlo estimator $\\mu$ of the mean of a random variable $X$ with\n",
    "theoretical variance $\\sigma^2_X$: it is\n",
    "$$\\left[\\hat{\\mu}-\\tfrac{1}{\\sqrt{n}}1.96\\sigma_X, \\hat{\\mu} + \\tfrac{1}{\\sqrt{n}}1.96\\sigma_X\\right],$$\n",
    "where $n$ is the number of samples. When $\\sigma_X$ is unknown, we can\n",
    "replace it with the standard deviation $s$ of the samples, and the\n",
    "approximate confidence interval becomes\n",
    "$$\\left[\\hat{\\mu}-\\tfrac{1}{\\sqrt{n}}1.96 s, \\hat{\\mu} + \\tfrac{1}{\\sqrt{n}}1.96 s\\right].$$\n",
    "\n",
    "<span class=\"theorem-title\">**Exercise 2**</span> For the Asian option\n",
    "above, how many samples $n$ do we need in order to ensure that the\n",
    "estimate is less than 0.01 away from the theoretical value $\\mu$ (with\n",
    "95% probability)?\n",
    "\n",
    "# References\n",
    "\n",
    "NumPy Developers. 2022. “Numpy.sum.”\n",
    "<https://numpy.org/doc/stable/reference/generated/numpy.sum.html>."
   ]
  }
 ],
 "metadata": {
  "kernelspec": {
   "display_name": "Python 3 (ipykernel)",
   "language": "python",
   "name": "python3"
  },
  "language_info": {
   "codemirror_mode": {
    "name": "ipython",
    "version": 3
   },
   "file_extension": ".py",
   "mimetype": "text/x-python",
   "name": "python",
   "nbconvert_exporter": "python",
   "pygments_lexer": "ipython3",
   "version": "3.11.5"
  }
 },
 "nbformat": 4,
 "nbformat_minor": 5
}
