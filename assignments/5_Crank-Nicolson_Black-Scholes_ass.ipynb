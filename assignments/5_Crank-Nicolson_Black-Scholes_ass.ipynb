{
  "cells": [
    {
      "cell_type": "markdown",
      "metadata": {},
      "source": [
        "# Assignment 5: Applying the Crank-Nicolson method in the Black-Scholes\n",
        "\n",
        "model\n",
        "\n",
        "Computational Finance with Python\n",
        "\n",
        "[Alet Roux](https://www.york.ac.uk/maths/staff/alet-roux/) ([Department\n",
        "of Mathematics](https://maths.york.ac.uk), University of York)\n",
        "\n",
        "Click on the following to open this file in Google Colab:\n",
        "\n",
        "<figure>\n",
        "<a\n",
        "href=\"https://colab.research.google.com/github/aletroux/comp-finance-python/blob/main/assignments/5_Crank-Nicolson_Black-Scholes_ass.ipynb\"><img\n",
        "src=\"https://colab.research.google.com/assets/colab-badge.svg\"\n",
        "alt=\"Open In Colab\" /></a>\n",
        "<figcaption>Open In Colab</figcaption>\n",
        "</figure>\n",
        "\n",
        "The aim of this assignment is to explore the Crank-Nicolson method in\n",
        "the context of the Black-Scholes model with time-dependent coefficients.\n",
        "It builds on Practical 10.\n",
        "\n",
        "Consider a European call option with strike $K=90$ and maturity date\n",
        "$T=1$ in the Black-Scholes model with parameters $S_0=100$, where the\n",
        "interest rate and volatility are given by the functions\n",
        "$$\\begin{aligned}\n",
        "r(\\tau) &= 0.05 - 0.01\\tau, \\\\\n",
        "\\sigma(\\tau) &= 0.15 + 0.05\\tau,\n",
        "\\end{aligned}$$ where $\\tau$ is time to maturity. The partial\n",
        "differential equation and initial value is $$\\begin{aligned}\n",
        "\\frac{\\partial V}{\\partial \\tau}(\\tau,S) &= r(\\tau) S\\frac{\\partial V}{\\partial S}(\\tau,S) + \\tfrac{1}{2}\\sigma^2(\\tau) S^2\\frac{\\partial^2 V}{\\partial S^2}(\\tau,S)  -r(\\tau) V(\\tau,S), \\\\\n",
        "V(0, S) &= (K-S)^+ \\text{ for all }S\\in[0,\\infty).\n",
        "\\end{aligned}\n",
        "$$ We use the boundary conditions $$\\begin{aligned}\n",
        "\\lim_{S\\rightarrow 0} \\frac{\\partial^2 V}{\\partial S^2}(\\tau,S) &= 0, \\\\\n",
        "\\lim_{S\\rightarrow \\infty} V(\\tau, S) &= 0.\n",
        "\\end{aligned}\n",
        "$$\n",
        "\n",
        "<span class=\"theorem-title\">**Exercise 1**</span> Use the Crank-Nicolson\n",
        "method to approximate the price of this option.\n",
        "\n",
        "Present your results graphically, and compare them with the results\n",
        "obtained in the model with constant coefficients $r=0.05$ and\n",
        "$\\sigma=0.2$."
      ],
      "id": "82a033ae-fa34-4404-9518-a25224f357bb"
    }
  ],
  "nbformat": 4,
  "nbformat_minor": 5,
  "metadata": {
    "kernelspec": {
      "name": "python3",
      "display_name": "Python 3",
      "language": "python"
    },
    "language_info": {
      "name": "python",
      "codemirror_mode": {
        "name": "ipython",
        "version": "3"
      },
      "file_extension": ".py",
      "mimetype": "text/x-python",
      "nbconvert_exporter": "python",
      "pygments_lexer": "ipython3",
      "version": "3.11.5"
    }
  }
}