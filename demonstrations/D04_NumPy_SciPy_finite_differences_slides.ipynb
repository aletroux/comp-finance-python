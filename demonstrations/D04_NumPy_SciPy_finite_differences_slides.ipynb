{
  "cells": [
    {
      "cell_type": "markdown",
      "metadata": {},
      "source": [
        "# NumPy and SciPy for finite difference methods\n",
        "\n",
        "Computational Finance with Python\n",
        "\n",
        "[Alet Roux](https://www.york.ac.uk/maths/staff/alet-roux/) ([Department\n",
        "of Mathematics](https://maths.york.ac.uk), University of York)\n",
        "\n",
        "Click on the following to open this file in Google Colab:\n",
        "\n",
        "<figure>\n",
        "<a\n",
        "href=\"https://colab.research.google.com/github/aletroux/comp-finance-python/blob/main/demonstrations/D04_NumPy_SciPy_finite_differences_slides.ipynb\"><img\n",
        "src=\"https://colab.research.google.com/assets/colab-badge.svg\"\n",
        "alt=\"Open In Colab\" /></a>\n",
        "<figcaption>Open In Colab</figcaption>\n",
        "</figure>\n",
        "\n",
        "# Diagonal matrices and eigenvalues with NumPy\n",
        "\n",
        "## Diagonal matrices\n",
        "\n",
        "### Identity matrix\n",
        "\n",
        "-   The square identity matrix can be created in a number of ways.\n",
        "-   Using `numpy.eye`:"
      ],
      "id": "2c220e55-c912-4794-8c4f-dd0ec71be88b"
    },
    {
      "cell_type": "code",
      "execution_count": 1,
      "metadata": {},
      "outputs": [
        {
          "output_type": "display_data",
          "metadata": {},
          "data": {
            "text/plain": [
              "array([[1., 0., 0., 0.],\n",
              "       [0., 1., 0., 0.],\n",
              "       [0., 0., 1., 0.],\n",
              "       [0., 0., 0., 1.]])"
            ]
          }
        }
      ],
      "source": [
        "import numpy as np\n",
        "np.eye(4)"
      ],
      "id": "97ffe99b-d397-4224-853b-c9906ab280d4"
    },
    {
      "cell_type": "markdown",
      "metadata": {},
      "source": [
        "-   Using `numpy.identity`:"
      ],
      "id": "8818b15f-7f71-473a-99a5-e4a5e4ffa817"
    },
    {
      "cell_type": "code",
      "execution_count": 2,
      "metadata": {},
      "outputs": [
        {
          "output_type": "display_data",
          "metadata": {},
          "data": {
            "text/plain": [
              "array([[1., 0., 0., 0.],\n",
              "       [0., 1., 0., 0.],\n",
              "       [0., 0., 1., 0.],\n",
              "       [0., 0., 0., 1.]])"
            ]
          }
        }
      ],
      "source": [
        "np.identity(4)"
      ],
      "id": "d0e3add6-a468-484e-835c-7feb308d7633"
    },
    {
      "cell_type": "markdown",
      "metadata": {},
      "source": [
        "------------------------------------------------------------------------\n",
        "\n",
        "### Creating diagonal matrices\n",
        "\n",
        "-   The function `numpy.diag` can be used to create diagonal matrices.\n",
        "-   Usage:\n",
        "\n",
        "``` python\n",
        "np.diag(<array with diagonal entries>, <diagonal index = 0>)\n",
        "```\n",
        "\n",
        "-   The diagonal index is:\n",
        "    -   0 for the main diagonal.\n",
        "    -   $k>0$, for the $k^\\text{th}$ diagonal *above* the main diagonal.\n",
        "    -   $-k<0$, for the $k^\\text{th}$ diagonal *below* the main\n",
        "        diagonal.\n",
        "\n",
        "------------------------------------------------------------------------\n",
        "\n",
        "### Examples\n",
        "\n",
        "-   Create a $4\\times 4$ matrix with 1 on the main diagonal, 0.5 on the\n",
        "    diagonal above it and -0.5 on the diagonal below it."
      ],
      "id": "cff456a0-b89b-4f69-89c6-7a5b71cc7bb6"
    },
    {
      "cell_type": "code",
      "execution_count": 3,
      "metadata": {},
      "outputs": [
        {
          "output_type": "stream",
          "name": "stdout",
          "text": [
            "A =\n",
            " [[ 1.   0.5  0.   0. ]\n",
            " [-0.5  1.   0.5  0. ]\n",
            " [ 0.  -0.5  1.   0.5]\n",
            " [ 0.   0.  -0.5  1. ]]"
          ]
        }
      ],
      "source": [
        "d = np.ones(3)\n",
        "A = np.eye(4) + np.diag(0.5*d,1) - np.diag(0.5*d,-1)\n",
        "print(\"A =\\n\", A)"
      ],
      "id": "34a62147-cc7c-4a4e-8cb3-c7977e5e4f8e"
    },
    {
      "cell_type": "markdown",
      "metadata": {},
      "source": [
        "-   Create a $5\\times 5$ matrix with 1, …, 5 on the main diagonal, and\n",
        "    3, 2, 1 on the second diagonal below it."
      ],
      "id": "d2977a63-b027-4767-8a62-46ab9f5f6969"
    },
    {
      "cell_type": "code",
      "execution_count": 4,
      "metadata": {},
      "outputs": [
        {
          "output_type": "display_data",
          "metadata": {},
          "data": {
            "text/plain": [
              "array([[1, 0, 0, 0, 0],\n",
              "       [0, 2, 0, 0, 0],\n",
              "       [3, 0, 3, 0, 0],\n",
              "       [0, 2, 0, 4, 0],\n",
              "       [0, 0, 1, 0, 5]])"
            ]
          }
        }
      ],
      "source": [
        "d = np.arange(1, 6)\n",
        "l = np.arange(3, 0, -1)\n",
        "np.diag(d) + np.diag(l,-2)"
      ],
      "id": "8b7972ea-602c-40c4-8692-060e381b077a"
    },
    {
      "cell_type": "markdown",
      "metadata": {},
      "source": [
        "------------------------------------------------------------------------\n",
        "\n",
        "### Extracting diagonals from matrices\n",
        "\n",
        "-   The function `numpy.diag` can also be used to extract diagonals from\n",
        "    matrices.\n",
        "-   Usage:\n",
        "\n",
        "``` python\n",
        "np.diag(<2-dimensional square array>, <diagonal index = 0>)\n",
        "```\n",
        "\n",
        "-   Example: Extract the main diagonal from the matrix `A` of the\n",
        "    previous slide."
      ],
      "id": "3e359a27-1fe1-441c-a6fd-4600b0777d2c"
    },
    {
      "cell_type": "code",
      "execution_count": 5,
      "metadata": {},
      "outputs": [
        {
          "output_type": "display_data",
          "metadata": {},
          "data": {
            "text/plain": [
              "array([1., 1., 1., 1.])"
            ]
          }
        }
      ],
      "source": [
        "np.diag(A, 0)"
      ],
      "id": "083e7d3d-40a0-499c-b834-9123d039c713"
    },
    {
      "cell_type": "code",
      "execution_count": 6,
      "metadata": {},
      "outputs": [
        {
          "output_type": "display_data",
          "metadata": {},
          "data": {
            "text/plain": [
              "array([1., 1., 1., 1.])"
            ]
          }
        }
      ],
      "source": [
        "np.diag(A)"
      ],
      "id": "1f493070-3c7d-42f4-bee6-d8b4faf5192b"
    },
    {
      "cell_type": "markdown",
      "metadata": {},
      "source": [
        "-   Example: Extract the diagonal above the main diagonal."
      ],
      "id": "2fd4a232-44e7-4388-bd4e-0a74a45d5adc"
    },
    {
      "cell_type": "code",
      "execution_count": 7,
      "metadata": {},
      "outputs": [
        {
          "output_type": "display_data",
          "metadata": {},
          "data": {
            "text/plain": [
              "array([0.5, 0.5, 0.5])"
            ]
          }
        }
      ],
      "source": [
        "np.diag(A, 1)"
      ],
      "id": "32f92947-ca78-4873-b6da-a1bed76192de"
    },
    {
      "cell_type": "markdown",
      "metadata": {},
      "source": [
        "-   Example: Extract the diagonal below the main diagonal."
      ],
      "id": "ea9fb39b-dbfc-4f3e-8d27-35c0bdf49f5a"
    },
    {
      "cell_type": "code",
      "execution_count": 8,
      "metadata": {},
      "outputs": [
        {
          "output_type": "display_data",
          "metadata": {},
          "data": {
            "text/plain": [
              "array([-0.5, -0.5, -0.5])"
            ]
          }
        }
      ],
      "source": [
        "np.diag(A, -1)"
      ],
      "id": "75191b9f-5bbe-4562-ab69-e807c18bdf42"
    },
    {
      "cell_type": "markdown",
      "metadata": {},
      "source": [
        "## Eigenvalues and eigenvectors\n",
        "\n",
        "-   The Linear Algebra module of NumPy (NumPy Developers (2024)) can be\n",
        "    used to find the eigenvalues and eigenvectors of a matrix."
      ],
      "id": "e55eaf98-f63c-429b-8407-5128acc335e3"
    },
    {
      "cell_type": "code",
      "execution_count": 9,
      "metadata": {},
      "outputs": [],
      "source": [
        "import numpy.linalg as npla"
      ],
      "id": "29df7165-6ea4-4b75-be0b-956914285bb1"
    },
    {
      "cell_type": "markdown",
      "metadata": {},
      "source": [
        "-   Usage for general (square) matrices:\n",
        "\n",
        "``` python\n",
        "[eigenvalues, eigenvectors] = npla.eig(<2-dimensional square array>)\n",
        "```\n",
        "\n",
        "-   To obtain only eigenvalues:\n",
        "\n",
        "``` python\n",
        "eigenvalues = npla.eigvals(<2-dimensional square array>)\n",
        "```\n",
        "\n",
        "-   Usage for symmetric (Hermitian) matrices:\n",
        "\n",
        "``` python\n",
        "[eigenvalues, eigenvectors] = npla.eigh(<2-dimensional symmetric (Hermitian) array>)\n",
        "eigenvalues = npla.eigvalsh(<2-dimensional symmetric (Hermitian) array>)\n",
        "```\n",
        "\n",
        "-   Use the appropriate routines for symmetric matrices for a\n",
        "    performance boost.\n",
        "\n",
        "------------------------------------------------------------------------\n",
        "\n",
        "### Example: General matrix"
      ],
      "id": "537b5805-71e3-455b-bc68-563e4f10f77b"
    },
    {
      "cell_type": "code",
      "execution_count": 10,
      "metadata": {
        "jupyter": {
          "source_hidden": true
        },
        "tags": []
      },
      "outputs": [
        {
          "output_type": "stream",
          "name": "stdout",
          "text": [
            "A =\n",
            " [[ 1.   0.5  0.   0. ]\n",
            " [-0.5  1.   0.5  0. ]\n",
            " [ 0.  -0.5  1.   0.5]\n",
            " [ 0.   0.  -0.5  1. ]]"
          ]
        }
      ],
      "source": [
        "print(\"A =\\n\", A)"
      ],
      "id": "572b787f-080a-4daa-a2bc-c92f69e277a9"
    },
    {
      "cell_type": "markdown",
      "metadata": {},
      "source": [
        "-   Eigenvalues can be complex-valued (`j` represents the imaginary\n",
        "    number):"
      ],
      "id": "d6b322b3-808c-4c18-a1a9-1708282e3535"
    },
    {
      "cell_type": "code",
      "execution_count": 11,
      "metadata": {
        "tags": []
      },
      "outputs": [
        {
          "output_type": "stream",
          "name": "stdout",
          "text": [
            "Eigenvalues:\n",
            " [1.+0.80901699j 1.-0.80901699j 1.+0.30901699j 1.-0.30901699j]\n",
            "Eigenvectors:\n",
            " [[-3.71748034e-01+1.66533454e-16j -3.71748034e-01-1.66533454e-16j\n",
            "   6.01500955e-01+0.00000000e+00j  6.01500955e-01-0.00000000e+00j]\n",
            " [ 5.55111512e-16-6.01500955e-01j  5.55111512e-16+6.01500955e-01j\n",
            "  -6.93889390e-16+3.71748034e-01j -6.93889390e-16-3.71748034e-01j]\n",
            " [ 6.01500955e-01+0.00000000e+00j  6.01500955e-01-0.00000000e+00j\n",
            "   3.71748034e-01-5.55111512e-17j  3.71748034e-01+5.55111512e-17j]\n",
            " [-1.66533454e-16+3.71748034e-01j -1.66533454e-16-3.71748034e-01j\n",
            "  -1.11022302e-15+6.01500955e-01j -1.11022302e-15-6.01500955e-01j]]"
          ]
        }
      ],
      "source": [
        "[eigenvalues, eigenvectors] = npla.eig(A)\n",
        "print(\"Eigenvalues:\\n\", eigenvalues)\n",
        "print(\"Eigenvectors:\\n\", eigenvectors)"
      ],
      "id": "a9986285-5d98-4950-8c69-4cae61a5843d"
    },
    {
      "cell_type": "markdown",
      "metadata": {},
      "source": [
        "-   Calculating absolute values of eigenvalues:"
      ],
      "id": "f21c0af8-f8fc-4f10-b1b3-656e3284ff1b"
    },
    {
      "cell_type": "code",
      "execution_count": 12,
      "metadata": {
        "tags": []
      },
      "outputs": [
        {
          "output_type": "display_data",
          "metadata": {},
          "data": {
            "text/plain": [
              "array([1.28627699, 1.28627699, 1.0466573 , 1.0466573 ])"
            ]
          }
        }
      ],
      "source": [
        "np.abs(npla.eigvals(A))"
      ],
      "id": "b291ced4-26da-4888-9a84-ddfb1d09b3cc"
    },
    {
      "cell_type": "markdown",
      "metadata": {},
      "source": [
        "------------------------------------------------------------------------\n",
        "\n",
        "### Example: Symmetric matrix\n",
        "\n",
        "-   Create a symmetric matrix:"
      ],
      "id": "0b3203ab-88e8-4328-bb79-1c8f91fd449c"
    },
    {
      "cell_type": "code",
      "execution_count": 13,
      "metadata": {},
      "outputs": [
        {
          "output_type": "stream",
          "name": "stdout",
          "text": [
            "B =\n",
            " [[1.  0.5 0.  0. ]\n",
            " [0.5 1.  0.5 0. ]\n",
            " [0.  0.5 1.  0.5]\n",
            " [0.  0.  0.5 1. ]]"
          ]
        }
      ],
      "source": [
        "B = abs(A)\n",
        "print(\"B =\\n\", B)"
      ],
      "id": "e30b6cdb-316b-490c-9ef7-be9a28b15ef3"
    },
    {
      "cell_type": "markdown",
      "metadata": {},
      "source": [
        "-   The eigenvalues of symmetric matrices are real-valued:"
      ],
      "id": "9521af6c-1802-44b5-a16a-317178ad9d36"
    },
    {
      "cell_type": "code",
      "execution_count": 14,
      "metadata": {},
      "outputs": [
        {
          "output_type": "display_data",
          "metadata": {},
          "data": {
            "text/plain": [
              "array([0.19098301, 0.69098301, 1.30901699, 1.80901699])"
            ]
          }
        }
      ],
      "source": [
        "npla.eigvalsh(B)"
      ],
      "id": "0842b8d9-312a-42fe-86ce-8c784607817d"
    },
    {
      "cell_type": "code",
      "execution_count": 15,
      "metadata": {},
      "outputs": [
        {
          "output_type": "display_data",
          "metadata": {},
          "data": {
            "text/plain": [
              "array([1.80901699, 1.30901699, 0.19098301, 0.69098301])"
            ]
          }
        }
      ],
      "source": [
        "npla.eigvals(B)"
      ],
      "id": "5073b15d-0a6a-4517-b9b8-176a52d8c59b"
    },
    {
      "cell_type": "markdown",
      "metadata": {},
      "source": [
        "-   Taking advantage of symmetry gives a performance boost:"
      ],
      "id": "ecd056cf-27bb-4bbe-8d49-d2fd299eb05f"
    },
    {
      "cell_type": "code",
      "execution_count": 16,
      "metadata": {},
      "outputs": [
        {
          "output_type": "stream",
          "name": "stdout",
          "text": [
            "5.26 μs ± 67.9 ns per loop (mean ± std. dev. of 7 runs, 100,000 loops each)"
          ]
        }
      ],
      "source": [
        "%timeit npla.eigvalsh(B)"
      ],
      "id": "2e1b4bf5-111f-46d3-a8bd-5196b90791e9"
    },
    {
      "cell_type": "code",
      "execution_count": 17,
      "metadata": {},
      "outputs": [
        {
          "output_type": "stream",
          "name": "stdout",
          "text": [
            "11.7 μs ± 274 ns per loop (mean ± std. dev. of 7 runs, 100,000 loops each)"
          ]
        }
      ],
      "source": [
        "%timeit npla.eigvals(B)"
      ],
      "id": "d60eb6c7-aaa8-4afd-895c-501ff5ca4725"
    },
    {
      "cell_type": "markdown",
      "metadata": {},
      "source": [
        "# Sparse matrices with SciPy\n",
        "\n",
        "-   A matrix is called **sparse** if it contains many zero entries *and\n",
        "    it’s worth taking advantage of*.\n",
        "-   Sparse matrices are common in applications such as finite difference\n",
        "    methods, where matrices are large but (typically) of a diagonal\n",
        "    nature.\n",
        "-   The `scipy.sparse` module (The SciPy Community (2024e)) is designed\n",
        "    to work with sparse matrices.\n",
        "-   To use this module in your work:"
      ],
      "id": "5eafa680-e1d1-47ff-bec8-8c76f8bee874"
    },
    {
      "cell_type": "code",
      "execution_count": 18,
      "metadata": {},
      "outputs": [],
      "source": [
        "import scipy.sparse as ssparse"
      ],
      "id": "40e3cc3c-eef0-4083-a10d-8031a1c47459"
    },
    {
      "cell_type": "markdown",
      "metadata": {},
      "source": [
        "## Toy example\n",
        "\n",
        "-   The following $6\\times6$ NumPy matrix has 20 zero entries and 16\n",
        "    non-zero entries:"
      ],
      "id": "9df28915-6259-4ace-96fa-eb69c4c61c91"
    },
    {
      "cell_type": "code",
      "execution_count": 19,
      "metadata": {},
      "outputs": [
        {
          "output_type": "stream",
          "name": "stdout",
          "text": [
            "C =\n",
            " [[ 1.   0.5  0.   0.   0.   0. ]\n",
            " [-0.5  1.   0.5  0.   0.   0. ]\n",
            " [ 0.  -0.5  1.   0.5  0.   0. ]\n",
            " [ 0.   0.  -0.5  1.   0.5  0. ]\n",
            " [ 0.   0.   0.  -0.5  1.   0.5]\n",
            " [ 0.   0.   0.   0.  -0.5  1. ]]"
          ]
        }
      ],
      "source": [
        "d = np.ones(5)\n",
        "C = np.eye(6) + 0.5*np.diag(d,1) - 0.5*np.diag(d,-1)\n",
        "print(\"C =\\n\", C)"
      ],
      "id": "34218cac-c03a-4b23-8fae-fdfcfe798e64"
    },
    {
      "cell_type": "markdown",
      "metadata": {},
      "source": [
        "-   It can be converted into a more efficient *DIAgonal storage*\n",
        "    representation, which records only the non-zero entries (keeping\n",
        "    diagonals together):"
      ],
      "id": "8c2b929f-672e-4b2d-8720-d9bd4cb444ba"
    },
    {
      "cell_type": "code",
      "execution_count": 20,
      "metadata": {
        "tags": []
      },
      "outputs": [
        {
          "output_type": "stream",
          "name": "stdout",
          "text": [
            "Number of non-zero entries: 16\n",
            "Diagonal offsets: [-1  0  1]\n",
            "Data:\n",
            " [[-0.5 -0.5 -0.5 -0.5 -0.5  0. ]\n",
            " [ 1.   1.   1.   1.   1.   1. ]\n",
            " [ 0.   0.5  0.5  0.5  0.5  0.5]]"
          ]
        }
      ],
      "source": [
        "C_dia = ssparse.dia_array(C)\n",
        "print (\"Number of non-zero entries:\", C_dia.size)\n",
        "print (\"Diagonal offsets:\", C_dia.offsets)\n",
        "print (\"Data:\\n\", C_dia.data)"
      ],
      "id": "1def29b1-f529-4da2-802e-8d1c67531dbd"
    },
    {
      "cell_type": "markdown",
      "metadata": {},
      "source": [
        "------------------------------------------------------------------------\n",
        "\n",
        "## Toy example (cont)\n",
        "\n",
        "-   Conversion back to a NumPy array is straightforward:"
      ],
      "id": "c78fb9cd-9c78-4bdc-a144-4501c3a40a39"
    },
    {
      "cell_type": "code",
      "execution_count": 21,
      "metadata": {
        "tags": []
      },
      "outputs": [
        {
          "output_type": "display_data",
          "metadata": {},
          "data": {
            "text/plain": [
              "array([[ 1. ,  0.5,  0. ,  0. ,  0. ,  0. ],\n",
              "       [-0.5,  1. ,  0.5,  0. ,  0. ,  0. ],\n",
              "       [ 0. , -0.5,  1. ,  0.5,  0. ,  0. ],\n",
              "       [ 0. ,  0. , -0.5,  1. ,  0.5,  0. ],\n",
              "       [ 0. ,  0. ,  0. , -0.5,  1. ,  0.5],\n",
              "       [ 0. ,  0. ,  0. ,  0. , -0.5,  1. ]])"
            ]
          }
        }
      ],
      "source": [
        "C_dia.toarray()"
      ],
      "id": "91cabca0-d5c5-4a62-98c2-272f2941b355"
    },
    {
      "cell_type": "markdown",
      "metadata": {},
      "source": [
        "-   Sparse matrices can be treated just like ordinary NumPy matrices.\n",
        "-   For example:"
      ],
      "id": "0d2daf90-4ca7-46a8-83a9-a4fb6af14ae1"
    },
    {
      "cell_type": "code",
      "execution_count": 22,
      "metadata": {},
      "outputs": [
        {
          "output_type": "stream",
          "name": "stdout",
          "text": [
            "C**2 =\n",
            " [[ 0.75  1.    0.25  0.    0.    0.  ]\n",
            " [-1.    0.5   1.    0.25  0.    0.  ]\n",
            " [ 0.25 -1.    0.5   1.    0.25  0.  ]\n",
            " [ 0.    0.25 -1.    0.5   1.    0.25]\n",
            " [ 0.    0.    0.25 -1.    0.5   1.  ]\n",
            " [ 0.    0.    0.    0.25 -1.    0.75]]"
          ]
        }
      ],
      "source": [
        "print(\"C**2 =\\n\", (C_dia @ C_dia).toarray())"
      ],
      "id": "3c80b40b-a466-44ef-9296-ad4299d891f4"
    },
    {
      "cell_type": "markdown",
      "metadata": {},
      "source": [
        "## Sparse diagonal matrices\n",
        "\n",
        "-   A sparse diagonal matrix can be created using the\n",
        "    `scipy.sparse.diags` function (The SciPy Community (2024b)). Usage:\n",
        "\n",
        "``` python\n",
        "<array> = ssparse.diags(<diagonals>, offsets=0, shape=None)\n",
        "```\n",
        "\n",
        "-   `offsets` is a sequence of integers (or just one integer)\n",
        "    corresponding to the diagonal indices:\n",
        "    -   0 for the main diagonal.\n",
        "    -   $k>0$, for the $k^\\text{th}$ diagonal *above* the main diagonal.\n",
        "    -   $-k<0$, for the $k^\\text{th}$ diagonal *below* the main\n",
        "        diagonal. If omitted, assumes the main diagonal.\n",
        "-   `diagonals` is a sequence of arrays containing the array diagonals\n",
        "    corresponding to `offsets`. Can be replaced by a number if the\n",
        "    diagonal is constant.\n",
        "-   `shape` optionally gives the size $(n,n)$ of the matrix, only needed\n",
        "    if it cannot be inferred from the other arguments.\n",
        "\n",
        "------------------------------------------------------------------------\n",
        "\n",
        "### An important note about `scipy.sparse.diags`\n",
        "\n",
        "-   Since version 1.11 of the SciPy library, the function\n",
        "    `scipy.sparse.diags` has been superceded by the new function\n",
        "    `scipy.sparse.diags_array` (The SciPy Community (2024c)), which has\n",
        "    the same arguments.\n",
        "\n",
        "-   It is recommended to use the new function where it is available.\n",
        "    However it does not work in version 1.11.4, and so\n",
        "    `scipy.sparse.diags` should be used on Colab in 2024.\n",
        "\n",
        "------------------------------------------------------------------------\n",
        "\n",
        "### Example: constant diagonals\n",
        "\n",
        "-   Let us recreate the matrix $C$ of the toy example:"
      ],
      "id": "6766351d-f7c5-4aca-81fa-3af55c6fe409"
    },
    {
      "cell_type": "code",
      "execution_count": 23,
      "metadata": {},
      "outputs": [
        {
          "output_type": "stream",
          "name": "stdout",
          "text": [
            "Number of non-zero entries: 16\n",
            "Diagonal offsets: [ 1  0 -1]\n",
            "Data:\n",
            " [[ 0.   0.5  0.5  0.5  0.5  0.5]\n",
            " [ 1.   1.   1.   1.   1.   1. ]\n",
            " [-0.5 -0.5 -0.5 -0.5 -0.5  0. ]]"
          ]
        }
      ],
      "source": [
        "diagonals = [0.5, 1, -0.5]\n",
        "offsets = [1, 0, -1]\n",
        "C = ssparse.diags(diagonals, offsets = offsets, shape = (6,6))\n",
        "\n",
        "print (\"Number of non-zero entries:\", C.size)\n",
        "print (\"Diagonal offsets:\", C.offsets)\n",
        "print (\"Data:\\n\", C.data)"
      ],
      "id": "192b8c8a-e223-40c4-8fb2-d8a4e292734c"
    },
    {
      "cell_type": "code",
      "execution_count": 24,
      "metadata": {},
      "outputs": [
        {
          "output_type": "stream",
          "name": "stdout",
          "text": [
            "NumPy array:\n",
            " [[ 1.   0.5  0.   0.   0.   0. ]\n",
            " [-0.5  1.   0.5  0.   0.   0. ]\n",
            " [ 0.  -0.5  1.   0.5  0.   0. ]\n",
            " [ 0.   0.  -0.5  1.   0.5  0. ]\n",
            " [ 0.   0.   0.  -0.5  1.   0.5]\n",
            " [ 0.   0.   0.   0.  -0.5  1. ]]"
          ]
        }
      ],
      "source": [
        "print (\"NumPy array:\\n\", C.toarray())"
      ],
      "id": "1568fe09-0016-4ca9-a4ee-4e9f5c186312"
    },
    {
      "cell_type": "markdown",
      "metadata": {},
      "source": [
        "------------------------------------------------------------------------\n",
        "\n",
        "### Example: variable diagonals\n",
        "\n",
        "-   Create a $10\\times 10$ matrix with 1, …, 10 on the main diagonal,\n",
        "    and 8, …, 1 on the second diagonal below it."
      ],
      "id": "b4ca568f-cf71-4c2e-bf2e-02ff7df38cb3"
    },
    {
      "cell_type": "code",
      "execution_count": 25,
      "metadata": {},
      "outputs": [
        {
          "output_type": "stream",
          "name": "stdout",
          "text": [
            "Number of non-zero entries: 18\n",
            "Diagonal offsets: [ 0 -2]\n",
            "Data:\n",
            " [[ 1.  2.  3.  4.  5.  6.  7.  8.  9. 10.]\n",
            " [ 8.  7.  6.  5.  4.  3.  2.  1.  0.  0.]]"
          ]
        }
      ],
      "source": [
        "diagonals = [np.arange(1,11), np.arange(8, 0, -1)]\n",
        "offsets = [0, -2]\n",
        "D = ssparse.diags(diagonals, offsets = offsets)\n",
        "\n",
        "print (\"Number of non-zero entries:\", D.size)\n",
        "print (\"Diagonal offsets:\", D.offsets)\n",
        "print (\"Data:\\n\", D.data)"
      ],
      "id": "8b8e1dd8-b1e3-4b58-8413-46e0f1c2482d"
    },
    {
      "cell_type": "code",
      "execution_count": 26,
      "metadata": {},
      "outputs": [
        {
          "output_type": "stream",
          "name": "stdout",
          "text": [
            "NumPy array:\n",
            " [[ 1.  0.  0.  0.  0.  0.  0.  0.  0.  0.]\n",
            " [ 0.  2.  0.  0.  0.  0.  0.  0.  0.  0.]\n",
            " [ 8.  0.  3.  0.  0.  0.  0.  0.  0.  0.]\n",
            " [ 0.  7.  0.  4.  0.  0.  0.  0.  0.  0.]\n",
            " [ 0.  0.  6.  0.  5.  0.  0.  0.  0.  0.]\n",
            " [ 0.  0.  0.  5.  0.  6.  0.  0.  0.  0.]\n",
            " [ 0.  0.  0.  0.  4.  0.  7.  0.  0.  0.]\n",
            " [ 0.  0.  0.  0.  0.  3.  0.  8.  0.  0.]\n",
            " [ 0.  0.  0.  0.  0.  0.  2.  0.  9.  0.]\n",
            " [ 0.  0.  0.  0.  0.  0.  0.  1.  0. 10.]]"
          ]
        }
      ],
      "source": [
        "print (\"NumPy array:\\n\", D.toarray())"
      ],
      "id": "c5218945-2d60-41ab-b42b-b187fd5946ba"
    },
    {
      "cell_type": "markdown",
      "metadata": {},
      "source": [
        "------------------------------------------------------------------------\n",
        "\n",
        "### Example: efficiency of sparse matrices\n",
        "\n",
        "-   Let us compare the speed of multiplying a $500\\times500$ matrix by\n",
        "    itself, using both sparse arrays and standard NumPy arrays."
      ],
      "id": "1b336702-4f17-4c0e-a37c-ada2c67c12dc"
    },
    {
      "cell_type": "code",
      "execution_count": 27,
      "metadata": {},
      "outputs": [
        {
          "output_type": "stream",
          "name": "stdout",
          "text": [
            "Number of non-zero entries: 1498\n",
            "Number of entries in total: 250000"
          ]
        }
      ],
      "source": [
        "diagonals = [0.5, 1, 0.5]\n",
        "offsets = [1, 0, -1]\n",
        "E = ssparse.diags(diagonals, offsets = offsets, shape = (500,500))\n",
        "Earray = E.toarray()\n",
        "print (\"Number of non-zero entries:\", E.size)\n",
        "print (\"Number of entries in total:\", 500**2)"
      ],
      "id": "870b4d47-f932-4fe1-9a2e-b915efb3d2cf"
    },
    {
      "cell_type": "markdown",
      "metadata": {},
      "source": [
        "-   As a sparse matrix:"
      ],
      "id": "fb15e4b8-fe59-437a-8c8e-a6a7d20aae44"
    },
    {
      "cell_type": "code",
      "execution_count": 28,
      "metadata": {},
      "outputs": [
        {
          "output_type": "stream",
          "name": "stdout",
          "text": [
            "357 μs ± 18.9 μs per loop (mean ± std. dev. of 7 runs, 1,000 loops each)"
          ]
        }
      ],
      "source": [
        "%timeit E @ E"
      ],
      "id": "3e0161c0-5a95-439d-991a-41d33c722c3b"
    },
    {
      "cell_type": "markdown",
      "metadata": {},
      "source": [
        "-   As a NumPy array:"
      ],
      "id": "585f9511-7dcd-4a9e-91f2-0cdfb582bef2"
    },
    {
      "cell_type": "code",
      "execution_count": 29,
      "metadata": {},
      "outputs": [
        {
          "output_type": "stream",
          "name": "stdout",
          "text": [
            "851 μs ± 11.6 μs per loop (mean ± std. dev. of 7 runs, 1,000 loops each)"
          ]
        }
      ],
      "source": [
        "%timeit Earray @ Earray"
      ],
      "id": "ba417e62-7ac7-4a65-8ce2-66451b3a156a"
    },
    {
      "cell_type": "markdown",
      "metadata": {},
      "source": [
        "------------------------------------------------------------------------\n",
        "\n",
        "### Sparse matrices in other formats\n",
        "\n",
        "-   We focus on diagonal matrices because they are most relevant for our\n",
        "    work. However, there are different representations for sparse\n",
        "    matrices that work well in different contexts. The SciPy Community\n",
        "    (2024e) provides detail on different representations, classes, as\n",
        "    well as functions for building sparse matrices and working with\n",
        "    them.\n",
        "\n",
        "-   One particular case is *Compressed Sparse Column*, which is very\n",
        "    efficient for inverting matrices and solving linear equations. The\n",
        "    SciPy Community (2024a) provides full information. Convert a\n",
        "    diagonal sparse matrix into this format as follows:"
      ],
      "id": "86250794-eec5-4953-95c1-544c10119015"
    },
    {
      "cell_type": "code",
      "execution_count": 30,
      "metadata": {},
      "outputs": [
        {
          "output_type": "display_data",
          "metadata": {},
          "data": {
            "text/plain": [
              "<Compressed Sparse Column sparse matrix of dtype 'float64'\n",
              "    with 1498 stored elements and shape (500, 500)>"
            ]
          }
        }
      ],
      "source": [
        "Ecsc = E.tocsc()\n",
        "Ecsc"
      ],
      "id": "ce9cb880-02ef-4212-a3b7-278be90e3afc"
    },
    {
      "cell_type": "markdown",
      "metadata": {},
      "source": [
        "-   Convert a sparse matrix in any other format to diagonal format as\n",
        "    follows:"
      ],
      "id": "d8338669-5285-4343-86b0-b391641fa4b1"
    },
    {
      "cell_type": "code",
      "execution_count": 31,
      "metadata": {},
      "outputs": [
        {
          "output_type": "display_data",
          "metadata": {},
          "data": {
            "text/plain": [
              "<DIAgonal sparse matrix of dtype 'float64'\n",
              "    with 1498 stored elements (3 diagonals) and shape (500, 500)>"
            ]
          }
        }
      ],
      "source": [
        "Edia = Ecsc.todia()\n",
        "Edia"
      ],
      "id": "f2dbbbf7-0b82-4d05-8f84-ab9e8ae071b5"
    },
    {
      "cell_type": "markdown",
      "metadata": {},
      "source": [
        "## Linear algebra with sparse matrices\n",
        "\n",
        "-   The `scipy.sparse.linalg` submodule provides functionality for doing\n",
        "    linear algebra with sparse arrays.\n",
        "\n",
        "-   Include this module in your code as follows:"
      ],
      "id": "7edae0c9-3855-4a9c-9d47-dc1179811356"
    },
    {
      "cell_type": "code",
      "execution_count": 32,
      "metadata": {},
      "outputs": [],
      "source": [
        "import scipy.sparse.linalg as ssla"
      ],
      "id": "3f67ca0c-68cf-4cc3-ba66-d8873f0276d4"
    },
    {
      "cell_type": "markdown",
      "metadata": {},
      "source": [
        "-   In the following slides we will cover the basics of solving linear\n",
        "    equations, eigenvalues and eigenvectors, but this is only a very\n",
        "    small part of the available functionality. Consult the documentation\n",
        "    (The SciPy Community (2024d)) for further information.\n",
        "\n",
        "-   **Warning**: do not apply NumPy routines to sparse arrays because\n",
        "    NumPy might not properly convert them, leading to unexpected and\n",
        "    incorrect results. Do the following:\n",
        "\n",
        "    -   Check if SciPy has its own implementation.\n",
        "    -   If not, then convert the sparse array to a NumPy array before\n",
        "        applying the method.\n",
        "\n",
        "------------------------------------------------------------------------\n",
        "\n",
        "### Inverting a sparse matrix\n",
        "\n",
        "-   The Compressed Sparse Column format is most efficient for computing\n",
        "    inverses and solving linear equations."
      ],
      "id": "082f08b2-4a3f-4c1f-86c8-65ee7acabd1b"
    },
    {
      "cell_type": "code",
      "execution_count": 33,
      "metadata": {},
      "outputs": [],
      "source": [
        "Ecsc = E.tocsc()"
      ],
      "id": "06f8fc1d-95e9-45c5-90aa-b8e4ede40362"
    },
    {
      "cell_type": "markdown",
      "metadata": {},
      "source": [
        "-   The inverse of a matrix can be computed as follows:"
      ],
      "id": "c4fe1094-ce80-494b-98ec-39ed266aacf4"
    },
    {
      "cell_type": "code",
      "execution_count": 34,
      "metadata": {},
      "outputs": [
        {
          "output_type": "display_data",
          "metadata": {},
          "data": {
            "text/plain": [
              "<Compressed Sparse Column sparse matrix of dtype 'float64'\n",
              "    with 250000 stored elements and shape (500, 500)>"
            ]
          }
        }
      ],
      "source": [
        "ssla.inv(Ecsc)"
      ],
      "id": "3d97c047-d24b-496d-9046-b070f938820d"
    },
    {
      "cell_type": "markdown",
      "metadata": {},
      "source": [
        "-   The number of stored elements increases, even for tridiagonal\n",
        "    matrices. This means that multiplying the inverse of an $n\\times n$\n",
        "    matrix by a vector takes $n^2$ calculations, even though the matrix\n",
        "    itself may be sparse.\n",
        "\n",
        "-   For this reason, calculating the inverse is not always the most\n",
        "    efficient way of solving a linear system.\n",
        "\n",
        "------------------------------------------------------------------------\n",
        "\n",
        "### Solving linear systems with sparse matrices\n",
        "\n",
        "-   Use `scipy.sparse.linalg.spsolve` to solve a system $Ex=b$ of linear\n",
        "    equations:"
      ],
      "id": "23145840-4abf-45e0-b24d-8d259d0281d2"
    },
    {
      "cell_type": "code",
      "execution_count": 35,
      "metadata": {},
      "outputs": [
        {
          "output_type": "stream",
          "name": "stdout",
          "text": [
            "Size of x: 500\n",
            "First 5 elements of x: [0.99800399 0.00399202 0.99401198 0.00798403 0.99001996]"
          ]
        }
      ],
      "source": [
        "b = np.ones((500,1))\n",
        "x = ssla.spsolve(Ecsc, b)\n",
        "print(\"Size of x:\", x.size)\n",
        "print(\"First 5 elements of x:\", x[:5])"
      ],
      "id": "2f1acca6-257c-4b01-924a-2f6de42adf65"
    },
    {
      "cell_type": "markdown",
      "metadata": {},
      "source": [
        "-   Use `scipy.sparse.linalg.factorized` to create a function that\n",
        "    solves systems of the form $Ex=b$ (where $b$ is given as a\n",
        "    parameter):"
      ],
      "id": "2015a405-5006-4a6f-b99a-2301705e96a0"
    },
    {
      "cell_type": "code",
      "execution_count": 36,
      "metadata": {},
      "outputs": [
        {
          "output_type": "stream",
          "name": "stdout",
          "text": [
            "Size of x: 500\n",
            "First 5 elements of x: [[0.99800399 0.00399202 0.99401198 0.00798403 0.99001996]]"
          ]
        }
      ],
      "source": [
        "solveit = ssla.factorized(Ecsc)\n",
        "x = solveit(b)\n",
        "print(\"Size of x:\", x.size)\n",
        "print(\"First 5 elements of x:\", x[:5].T)"
      ],
      "id": "6a46210e-b16c-48a8-9643-595fa9175cc1"
    },
    {
      "cell_type": "markdown",
      "metadata": {},
      "source": [
        "------------------------------------------------------------------------\n",
        "\n",
        "### Eigenvalues and eigenvectors of sparse matrices\n",
        "\n",
        "-   Usage for general (square) sparse matrices:\n",
        "\n",
        "``` python\n",
        "[eigenvalues, eigenvectors] = ssla.eigs(<square sparse matrix>, k=6, which = 'LM', return_eigenvectors=True)\n",
        "```\n",
        "\n",
        "-   `k` is the number of eigenvalues (and optionally eigenvectors) to\n",
        "    find, must be less than the dimension of the matrix. It is not\n",
        "    generally possible to find all eigenvalues of sparse matrices.\n",
        "\n",
        "-   `which` indicates which eigenvalues to find. The most relevant\n",
        "    options for our work are `LM` for *largest magnitude* and `SM` for\n",
        "    *smallest magnitude*.\n",
        "\n",
        "-   Use `return_eigenvectors=False` if eigenvectors are not required.\n",
        "\n",
        "-   Usage for symmetric (Hermitian) matrices:\n",
        "\n",
        "``` python\n",
        "[eigenvalues, eigenvectors] = ssla.eigsh(<square sparse matrix>, k=6, which = 'LM', return_eigenvectors=True)\n",
        "```\n",
        "\n",
        "-   Use the appropriate routines for symmetric matrices for a\n",
        "    performance boost.\n",
        "\n",
        "------------------------------------------------------------------------\n",
        "\n",
        "#### Example: General matrix\n",
        "\n",
        "-   Create a $500\\times 500$ matrix with 1 on the main diagonal, 0.5 on\n",
        "    the diagonal above it and -0.5 on the diagonal below it."
      ],
      "id": "f823f6fd-3e9f-426a-857c-e4f38923104c"
    },
    {
      "cell_type": "code",
      "execution_count": 37,
      "metadata": {
        "tags": []
      },
      "outputs": [],
      "source": [
        "diagonals = [0.5, 1, -0.5]\n",
        "offsets = [1, 0, -1]\n",
        "F = ssparse.diags(diagonals, offsets = offsets, shape = (500,500))"
      ],
      "id": "27b9cfd0-d063-48ed-97c7-07bb6beac368"
    },
    {
      "cell_type": "markdown",
      "metadata": {},
      "source": [
        "-   Eigenvalues can be complex-valued (`j` represents the imaginary\n",
        "    number).\n",
        "-   Use `LM` or `SM` to find the smallest or largest eigenvalues (in\n",
        "    absolute value):"
      ],
      "id": "12255859-0463-4b37-8b41-dbaae94d46f6"
    },
    {
      "cell_type": "code",
      "execution_count": 38,
      "metadata": {
        "tags": []
      },
      "outputs": [
        {
          "output_type": "stream",
          "name": "stdout",
          "text": [
            "Four largest eigenvalues: [1.+0.99992136j 1.-0.99992136j 1.+0.99998034j 1.-0.99998034j]\n",
            "In absolute value:        [1.41415796 1.41415796 1.41419966 1.41419966]"
          ]
        }
      ],
      "source": [
        "largest_eigenvalues = ssla.eigs(F, k=4, which = 'LM', return_eigenvectors=False)\n",
        "print(\"Four largest eigenvalues:\", largest_eigenvalues)\n",
        "print(\"In absolute value:       \", np.abs(largest_eigenvalues))"
      ],
      "id": "238b70a0-a63d-440c-a03d-dd08ce0cfcea"
    },
    {
      "cell_type": "code",
      "execution_count": 39,
      "metadata": {
        "tags": []
      },
      "outputs": [
        {
          "output_type": "stream",
          "name": "stdout",
          "text": [
            "Four smallest eigenvalues: [1.+0.00940583j 1.-0.00940583j 1.+0.00313532j 1.-0.00313532j]\n",
            "In absolute value:         [1.00004423 1.00004423 1.00000492 1.00000492]"
          ]
        }
      ],
      "source": [
        "smallest_eigenvalues = ssla.eigs(F, k=4, which = 'SM', return_eigenvectors=False)\n",
        "print(\"Four smallest eigenvalues:\", smallest_eigenvalues)\n",
        "print(\"In absolute value:        \", np.abs(smallest_eigenvalues))"
      ],
      "id": "6d98b52a-adaf-48ba-a5d4-ff26be632998"
    },
    {
      "cell_type": "markdown",
      "metadata": {},
      "source": [
        "------------------------------------------------------------------------\n",
        "\n",
        "#### Example: Symmetric matrix\n",
        "\n",
        "-   Create a $500\\times 500$ matrix with 1 on the main diagonal, 0.5 on\n",
        "    the diagonal above it and 0.5 on the diagonal below it."
      ],
      "id": "f3b5962a-6341-4796-b4d8-77df01ff1864"
    },
    {
      "cell_type": "code",
      "execution_count": 40,
      "metadata": {},
      "outputs": [],
      "source": [
        "diagonals = [0.5, 1, 0.5]\n",
        "offsets = [1, 0, -1]\n",
        "E = ssparse.diags(diagonals, offsets = offsets, shape = (500,500))"
      ],
      "id": "3b21f366-1109-4f6e-9f85-3493a845b2a1"
    },
    {
      "cell_type": "markdown",
      "metadata": {},
      "source": [
        "-   The eigenvalues of symmetric matrices are real-valued."
      ],
      "id": "15565bf3-2e6c-4c34-8b3b-9edd1931715e"
    },
    {
      "cell_type": "code",
      "execution_count": 41,
      "metadata": {
        "tags": []
      },
      "outputs": [
        {
          "output_type": "stream",
          "name": "stdout",
          "text": [
            "Four largest eigenvalues: [1.99968545 1.99982306 1.99992136 1.99998034]"
          ]
        }
      ],
      "source": [
        "largest_eigenvalues = ssla.eigsh(E, k=4, which = 'LM', return_eigenvectors=False)\n",
        "print(\"Four largest eigenvalues:\", largest_eigenvalues)"
      ],
      "id": "039a3635-5686-43cc-9a9f-86f43a216ff9"
    },
    {
      "cell_type": "code",
      "execution_count": 42,
      "metadata": {
        "tags": []
      },
      "outputs": [
        {
          "output_type": "stream",
          "name": "stdout",
          "text": [
            "Four smallest eigenvalues: [3.14551320e-04 1.76939176e-04 7.86409221e-05 1.96604238e-05]"
          ]
        }
      ],
      "source": [
        "smallest_eigenvalues = ssla.eigsh(E, k=4, which = 'SM', return_eigenvectors=False)\n",
        "print(\"Four smallest eigenvalues:\", smallest_eigenvalues)"
      ],
      "id": "e2fbc533-6e93-4522-a605-cf0cd24145eb"
    },
    {
      "cell_type": "markdown",
      "metadata": {},
      "source": [
        "-   Taking advantage of symmetry gives a small performance boost:"
      ],
      "id": "fca62362-e6f0-4a61-9453-b09cd138f1d7"
    },
    {
      "cell_type": "code",
      "execution_count": 43,
      "metadata": {},
      "outputs": [
        {
          "output_type": "stream",
          "name": "stdout",
          "text": [
            "104 ms ± 2.95 ms per loop (mean ± std. dev. of 7 runs, 10 loops each)"
          ]
        }
      ],
      "source": [
        "%timeit ssla.eigs(E, k=4, which = 'LM', return_eigenvectors=False)"
      ],
      "id": "9f83e19e-81c4-49e7-83c9-8dc471d1b54a"
    },
    {
      "cell_type": "code",
      "execution_count": 44,
      "metadata": {},
      "outputs": [
        {
          "output_type": "stream",
          "name": "stdout",
          "text": [
            "88 ms ± 2.91 ms per loop (mean ± std. dev. of 7 runs, 10 loops each)"
          ]
        }
      ],
      "source": [
        "%timeit ssla.eigsh(E, k=4, which = 'LM', return_eigenvectors=False)"
      ],
      "id": "c4c82088-d6eb-4c06-99e5-89277dd78397"
    },
    {
      "cell_type": "markdown",
      "metadata": {},
      "source": [
        "# Tridiagonal matrix solver\n",
        "\n",
        "-   Recall the algorithm for solving $$Ax = b,$$ where $A$ is the\n",
        "    tridiagonal matrix $$A = \\begin{bmatrix}\n",
        "    d_1 & u_1 & 0 & \\cdots & 0 \\\\\n",
        "    l_2 & d_2 & u_2 & \\ddots & \\vdots \\\\\n",
        "    0 & \\ddots & \\ddots & \\ddots & 0 \\\\\n",
        "    \\vdots & \\ddots & l_{n-1} & d_{n-1} & u_{n-1} \\\\\n",
        "    0 & \\cdots & 0 & l_n & d_n\n",
        "    \\end{bmatrix}.$$\n",
        "\n",
        "## Tridiagonal matrix solver procedure\n",
        "\n",
        "1.  Set $$\\begin{aligned}\n",
        "    d'_1 &= d_1, & b'_1 &= b_1.\n",
        "    \\end{aligned}$$\n",
        "\n",
        "2.  For $k=2,\\ldots,n$, set $$\\begin{aligned}\n",
        "    d'_k &= d_k - \\tfrac{l_k}{d'_{k-1}}u_{k-1}, & b'_k &= b_k - \\tfrac{l_k}{d'_{k-1}}b'_{k-1}.\n",
        "    \\end{aligned}$$\n",
        "\n",
        "3.  Set $$x_n = \\tfrac{b'_n}{d'_n}.$$\n",
        "\n",
        "4.  For $k=n-1,n-2,\\ldots,1$ set\n",
        "    $$x_k = \\tfrac{1}{d'_k}(b'_k - u_k x_{k+1}).$$\n",
        "\n",
        "## Implementing tridiagonal matrix solver in Python\n",
        "\n",
        "-   Data structures\n",
        "    -   NumPy array indexes start at 0. How do we deal with $u_1$ and\n",
        "        $d_n$?\n",
        "    -   Internal representation of sparse diagonal matrices a little\n",
        "        complex for off-diagonals.\n",
        "    -   Diagonals of sparse diagonal matrices not always stored in the\n",
        "        same order.\n",
        "-   Needs to be fast: vectorize where possible.\n",
        "-   Other considerations?\n",
        "\n",
        "## Implementation using NumPy arrays\n",
        "\n",
        "-   We obtain the following procedure after:\n",
        "    -   Starting at $k=0$ instead of $k=1$.\n",
        "    -   Ignoring $l_0$ and $u_{n-1}$ (wasteful but not significant).\n",
        "\n",
        "1.  Set $d'_0 = d_0$ and $b'_0 = b_0$.\n",
        "\n",
        "2.  For $k=1,\\ldots,n-1$, set $$\\begin{aligned}\n",
        "    d'_k &= d_k - \\tfrac{l_k}{d'_{k-1}}u_{k-1}, & b'_k &= b_k - \\tfrac{l_k}{d'_{k-1}}b'_{k-1}.\n",
        "    \\end{aligned}$$\n",
        "\n",
        "3.  Set $x_{n-1} = b'_{n-1} / d'_{n-1}$.\n",
        "\n",
        "4.  For $k=n-2,n-3,\\ldots,0$ set\n",
        "    $$x_k = \\tfrac{1}{d'_k}(b'_k - u_k x_{k+1}).$$\n",
        "\n",
        "------------------------------------------------------------------------"
      ],
      "id": "bc9ed2b1-8109-4b81-946e-cd184cb7cc59"
    },
    {
      "cell_type": "code",
      "execution_count": 45,
      "metadata": {},
      "outputs": [
        {
          "output_type": "stream",
          "name": "stdout",
          "text": [
            "Size of x: 500\n",
            "First 5 elements of x: [0.99800399 0.00399202 0.99401198 0.00798403 0.99001996]"
          ]
        }
      ],
      "source": [
        "def tri_matrix_solver (u, d, l, b):\n",
        "    \"\"\"Solves tridiagonal system Ax = b where A is a tridiagonal matrix with diagonals u, d, l\"\"\"\n",
        "\n",
        "    n = len(b)\n",
        "    \n",
        "    # new arrays for calculations - includes step 1\n",
        "    ddash = np.array(d, dtype=float)\n",
        "    bdash = np.array(b, dtype=float)\n",
        "\n",
        "    # step 2\n",
        "    for k in range(1,n):\n",
        "        ddash[k] -= l[k]/ddash[k-1]*u[k-1]\n",
        "        bdash[k] -= l[k]/ddash[k-1]*bdash[k-1]\n",
        "        \n",
        "    x = np.empty_like(b, dtype=float)\n",
        "\n",
        "    #step 3\n",
        "    x[-1] = bdash[-1]/ddash[-1]\n",
        "\n",
        "    #step 4\n",
        "    for k in range(n-2,-1,-1):\n",
        "        x[k] = (bdash[k] - u[k] * x[k+1])/ddash[k]\n",
        "\n",
        "    return x\n",
        "\n",
        "u = np.tile(0.5,500)\n",
        "d = np.tile(1, 500)\n",
        "l = np.tile(0.5, 500)\n",
        "b = np.ones(500)\n",
        "\n",
        "x = tri_matrix_solver (u, d, l, b)\n",
        "print(\"Size of x:\", x.size)\n",
        "print(\"First 5 elements of x:\", x[:5])"
      ],
      "id": "f171c60c-248f-4f45-9c27-c0e9534123d2"
    },
    {
      "cell_type": "markdown",
      "metadata": {},
      "source": [
        "------------------------------------------------------------------------\n",
        "\n",
        "## Implementation using SciPy sparse diagonal matrix\n",
        "\n",
        "-   Create a $3\\times 3$ matrix with 1 on the main diagonal, 0.5 on the\n",
        "    diagonal above it and -0.5 on the diagonal below it:"
      ],
      "id": "658eca53-d48e-4053-8bb1-9853dd385ebb"
    },
    {
      "cell_type": "code",
      "execution_count": 46,
      "metadata": {},
      "outputs": [
        {
          "output_type": "stream",
          "name": "stdout",
          "text": [
            "Diagonal offsets: [ 1  0 -1]\n",
            "Data:\n",
            " [[ 0.   0.5  0.5]\n",
            " [ 1.   1.   1. ]\n",
            " [-0.5 -0.5  0. ]]"
          ]
        }
      ],
      "source": [
        "u = np.tile(0.5, 2)\n",
        "d = np.tile(1, 3)\n",
        "l = np.tile(-0.5, 2)\n",
        "\n",
        "G = ssparse.diags([u, d, l], offsets = [1, 0, -1])\n",
        "print (\"Diagonal offsets:\", G.offsets)\n",
        "print (\"Data:\\n\", G.data)"
      ],
      "id": "16082e28-2f8e-4894-9cfb-38e3dfc4ca10"
    },
    {
      "cell_type": "code",
      "execution_count": 47,
      "metadata": {},
      "outputs": [
        {
          "output_type": "stream",
          "name": "stdout",
          "text": [
            "Diagonal offsets: [-1  0  1]\n",
            "Data:\n",
            " [[-0.5 -0.5  0. ]\n",
            " [ 1.   1.   1. ]\n",
            " [ 0.   0.5  0.5]]"
          ]
        }
      ],
      "source": [
        "H = ssparse.diags([l, d, u], offsets = [-1, 0, 1])\n",
        "print (\"Diagonal offsets:\", H.offsets)\n",
        "print (\"Data:\\n\", H.data)"
      ],
      "id": "f0e7c76b-df65-4e8f-9a51-264af9754a9e"
    },
    {
      "cell_type": "markdown",
      "metadata": {},
      "source": [
        "------------------------------------------------------------------------\n",
        "\n",
        "### Notes\n",
        "\n",
        "-   **Warning**: internal representation depends on how the sparse\n",
        "    diagonal matrix is defined. We can’t assume anything about the order\n",
        "    of diagonals.\n",
        "\n",
        "-   Indices need to be adjusted to take internal representation into\n",
        "    account:\n",
        "\n",
        "    -   Contents of lower diagonal array shifted one step towards 0.\n",
        "    -   Contents of upper diagonal array shifted one step away from 0.\n",
        "\n",
        "------------------------------------------------------------------------"
      ],
      "id": "ecf213e0-d795-4e73-abe4-46a2fd77c88a"
    },
    {
      "cell_type": "code",
      "execution_count": 48,
      "metadata": {},
      "outputs": [
        {
          "output_type": "stream",
          "name": "stdout",
          "text": [
            "Size of x: 500\n",
            "First 5 elements of x: [0.99800399 0.00399202 0.99401198 0.00798403 0.99001996]"
          ]
        }
      ],
      "source": [
        "def tri_matrix_solver_sparse (A, b):\n",
        "    \"\"\"Solves tridiagonal system Ax = b. A is in sparse diagonal format with A.offsets == [1, 0, -1]\"\"\"\n",
        "\n",
        "    if not (A.offsets == np.array([1,0,-1])).all():\n",
        "        print(\"Diagonal offsets of A in incorrect order: should be 1,0,-1.\")\n",
        "        return None\n",
        "\n",
        "    u = A.data[0]\n",
        "    d = A.data[1]\n",
        "    l = A.data[2]\n",
        "    \n",
        "    ddash = np.array(d, dtype=float)\n",
        "    bdash = np.array(b, dtype=float)\n",
        "\n",
        "    n = len(d)\n",
        "\n",
        "    # step 2\n",
        "    for k in range(1,n):\n",
        "        ddash[k] -= l[k-1]/ddash[k-1]*u[k]\n",
        "        bdash[k] -= l[k-1]/ddash[k-1]*bdash[k-1]\n",
        "        \n",
        "    x = np.empty_like(b, dtype=float)\n",
        "\n",
        "    #step 3\n",
        "    x[-1] = bdash[-1]/ddash[-1]\n",
        "\n",
        "    #step 4\n",
        "    for k in range(n-2,-1,-1):\n",
        "        x[k] = (bdash[k] - u[k+1] * x[k+1])/ddash[k]\n",
        "\n",
        "    return x\n",
        "\n",
        "diagonals = [0.5, 1, 0.5]\n",
        "offsets = [1, 0, -1]\n",
        "E = ssparse.diags(diagonals, offsets = offsets, shape = (500,500))\n",
        "x = tri_matrix_solver_sparse (E, b)\n",
        "print(\"Size of x:\", x.size)\n",
        "print(\"First 5 elements of x:\", x[:5])"
      ],
      "id": "b75ac939-4014-40e6-8793-de241c752389"
    },
    {
      "cell_type": "markdown",
      "metadata": {},
      "source": [
        "## Comparing efficiency for tridiagonal matrices\n",
        "\n",
        "-   Let’s test the efficiency of the various methods for a large\n",
        "    tridiagonal matrix.\n",
        "-   Create a $500\\times 500$ matrix with 1 on the main diagonal, 0.5 on\n",
        "    the diagonal above it and 0.5 on the diagonal below it:"
      ],
      "id": "1a76ef80-dd84-43f5-9b21-f35da4a55f6b"
    },
    {
      "cell_type": "code",
      "execution_count": 49,
      "metadata": {},
      "outputs": [],
      "source": [
        "diagonals = [0.5, 1, 0.5]\n",
        "offsets = [1, 0, -1]\n",
        "E = ssparse.diags(diagonals, offsets = offsets, shape = (500,500))"
      ],
      "id": "6f8e6a85-ab5b-45c3-b72a-7e4c57966860"
    },
    {
      "cell_type": "markdown",
      "metadata": {},
      "source": [
        "-   The SciPy built-in methods require conversion to compressed sparse\n",
        "    column format:"
      ],
      "id": "95277ae3-8df8-4b1a-a354-5a7cabce1b1f"
    },
    {
      "cell_type": "code",
      "execution_count": 50,
      "metadata": {},
      "outputs": [
        {
          "output_type": "stream",
          "name": "stdout",
          "text": [
            "72 μs ± 2.79 μs per loop (mean ± std. dev. of 7 runs, 10,000 loops each)"
          ]
        }
      ],
      "source": [
        "%timeit Ecsc = E.tocsc()"
      ],
      "id": "ad229a44-d3d3-45e0-8e4f-6ce6ee0dd400"
    },
    {
      "cell_type": "markdown",
      "metadata": {},
      "source": [
        "-   Define 500-dimensional vector of 1s:"
      ],
      "id": "d4c55fbf-db03-4f37-abf1-42fe6e9d5ca7"
    },
    {
      "cell_type": "code",
      "execution_count": 51,
      "metadata": {},
      "outputs": [],
      "source": [
        "b = np.ones(500)"
      ],
      "id": "b6b636d0-ce66-4695-becb-bdea32d9663a"
    },
    {
      "cell_type": "markdown",
      "metadata": {},
      "source": [
        "## NumPy built-in methods\n",
        "\n",
        "-   First convert our matrix to a NumPy array:"
      ],
      "id": "1d55eb68-385a-440f-b3d7-c0ec9aad4496"
    },
    {
      "cell_type": "code",
      "execution_count": 52,
      "metadata": {},
      "outputs": [
        {
          "output_type": "stream",
          "name": "stdout",
          "text": [
            "113 μs ± 2.21 μs per loop (mean ± std. dev. of 7 runs, 10,000 loops each)"
          ]
        }
      ],
      "source": [
        "%timeit Enp = E.toarray()"
      ],
      "id": "f6367dea-1214-48ef-9e95-98e97d866d5d"
    },
    {
      "cell_type": "markdown",
      "metadata": {},
      "source": [
        "-   Matrix inverse:"
      ],
      "id": "834fe1a9-4bc4-40e9-b0f6-ff7c2ee4d00b"
    },
    {
      "cell_type": "code",
      "execution_count": 54,
      "metadata": {},
      "outputs": [
        {
          "output_type": "stream",
          "name": "stdout",
          "text": [
            "2.97 ms ± 52.4 μs per loop (mean ± std. dev. of 7 runs, 100 loops each)"
          ]
        }
      ],
      "source": [
        "%timeit npla.inv(Enp) @ b"
      ],
      "id": "da2900f9-e38c-4d68-ba0a-1a89b0e1d807"
    },
    {
      "cell_type": "markdown",
      "metadata": {},
      "source": [
        "-   Solving linear system:"
      ],
      "id": "9e6245dd-7936-4eda-8287-fc284a3d516d"
    },
    {
      "cell_type": "code",
      "execution_count": 55,
      "metadata": {},
      "outputs": [
        {
          "output_type": "stream",
          "name": "stdout",
          "text": [
            "1.35 ms ± 74.4 μs per loop (mean ± std. dev. of 7 runs, 1,000 loops each)"
          ]
        }
      ],
      "source": [
        "%timeit npla.solve(Enp,b)"
      ],
      "id": "a3b435f8-0583-426d-ad3c-012795c0e6d5"
    },
    {
      "cell_type": "markdown",
      "metadata": {},
      "source": [
        "-   This is faster than calculating the inverse of $E$ as a sparse\n",
        "    matrix, but slower than all other methods (including tridiagonal\n",
        "    solver).\n",
        "\n",
        "## SciPy built-in methods\n",
        "\n",
        "-   Matrix inverse:"
      ],
      "id": "d5e96a4a-ca8c-463a-b836-76b2beb6fa5c"
    },
    {
      "cell_type": "code",
      "execution_count": 56,
      "metadata": {},
      "outputs": [
        {
          "output_type": "stream",
          "name": "stdout",
          "text": [
            "68.3 ms ± 2.49 ms per loop (mean ± std. dev. of 7 runs, 10 loops each)"
          ]
        }
      ],
      "source": [
        "%timeit ssla.inv(Ecsc) @ b"
      ],
      "id": "e19448bd-8a76-4f76-b13b-9c496b8a0558"
    },
    {
      "cell_type": "markdown",
      "metadata": {},
      "source": [
        "-   Solving linear system:"
      ],
      "id": "46811539-fbae-410e-8b6c-22ad668d8772"
    },
    {
      "cell_type": "code",
      "execution_count": 57,
      "metadata": {},
      "outputs": [
        {
          "output_type": "stream",
          "name": "stdout",
          "text": [
            "123 μs ± 840 ns per loop (mean ± std. dev. of 7 runs, 10,000 loops each)"
          ]
        }
      ],
      "source": [
        "%timeit ssla.spsolve(Ecsc, b)"
      ],
      "id": "50596f3b-bdc9-4507-8816-30ed10b4d2c9"
    },
    {
      "cell_type": "markdown",
      "metadata": {},
      "source": [
        "-   Creating a solver:"
      ],
      "id": "723e2f2b-de1b-42a1-afcc-fb5baf957ae2"
    },
    {
      "cell_type": "code",
      "execution_count": 58,
      "metadata": {},
      "outputs": [
        {
          "output_type": "stream",
          "name": "stdout",
          "text": [
            "117 μs ± 2.56 μs per loop (mean ± std. dev. of 7 runs, 10,000 loops each)"
          ]
        }
      ],
      "source": [
        "%timeit solve = ssla.factorized(Ecsc)"
      ],
      "id": "11b7208d-ac7f-45e4-97c1-4f2bc021e62a"
    },
    {
      "cell_type": "code",
      "execution_count": 60,
      "metadata": {},
      "outputs": [
        {
          "output_type": "stream",
          "name": "stdout",
          "text": [
            "9.88 μs ± 168 ns per loop (mean ± std. dev. of 7 runs, 100,000 loops each)"
          ]
        }
      ],
      "source": [
        "%timeit solve(b)"
      ],
      "id": "ae336ce0-4b97-4a32-8653-748f61af021b"
    },
    {
      "cell_type": "markdown",
      "metadata": {},
      "source": [
        "-   `scipy.sparse.linalg.spsolve` is fastest when only one system needs\n",
        "    to be solved. `scipy.sparse.linalg.factorized` is considerably\n",
        "    faster if two or more systems need to be solved. `scipy.sparse.inv`\n",
        "    is slow and to be avoided.\n",
        "\n",
        "## Tridiagonal matrix solver\n",
        "\n",
        "-   Tridiagonal matrix solver with NumPy arrays:"
      ],
      "id": "72532b14-2835-4b52-b0dd-3e047c2e4a62"
    },
    {
      "cell_type": "code",
      "execution_count": 61,
      "metadata": {},
      "outputs": [],
      "source": [
        "u = np.tile(0.5,500)\n",
        "d = np.tile(1, 500)\n",
        "l = np.tile(0.5, 500)"
      ],
      "id": "48400709-5267-42c3-ba17-8b5be566c6a7"
    },
    {
      "cell_type": "code",
      "execution_count": 62,
      "metadata": {},
      "outputs": [
        {
          "output_type": "stream",
          "name": "stdout",
          "text": [
            "676 μs ± 3.94 μs per loop (mean ± std. dev. of 7 runs, 1,000 loops each)"
          ]
        }
      ],
      "source": [
        "%timeit tri_matrix_solver (u, d, l, b)"
      ],
      "id": "dfa846ec-493a-4b31-b47e-25fd68b3158f"
    },
    {
      "cell_type": "markdown",
      "metadata": {},
      "source": [
        "-   Tridiagonal matrix solver with diagonal sparse array"
      ],
      "id": "7e73356f-6097-4192-bbe1-5cc3a4d7e797"
    },
    {
      "cell_type": "code",
      "execution_count": 63,
      "metadata": {},
      "outputs": [
        {
          "output_type": "stream",
          "name": "stdout",
          "text": [
            "48.5 μs ± 1.39 μs per loop (mean ± std. dev. of 7 runs, 10,000 loops each)"
          ]
        }
      ],
      "source": [
        "%timeit E = ssparse.diags(diagonals, offsets = offsets, shape = (500,500))"
      ],
      "id": "dcb12ae1-fb4f-48fa-8796-e2d42dca77d3"
    },
    {
      "cell_type": "code",
      "execution_count": 64,
      "metadata": {},
      "outputs": [
        {
          "output_type": "stream",
          "name": "stdout",
          "text": [
            "711 μs ± 8.28 μs per loop (mean ± std. dev. of 7 runs, 1,000 loops each)"
          ]
        }
      ],
      "source": [
        "%timeit tri_matrix_solver_sparse (E, b)"
      ],
      "id": "263e1d6d-20ee-47ef-91c3-adc38e3c869a"
    },
    {
      "cell_type": "markdown",
      "metadata": {},
      "source": [
        "-   Speed of two methods is comparable. The cost of creating the sparse\n",
        "    matrix becomes insignificant if system needs to be solved many\n",
        "    times.\n",
        "-   Tridiagonal solver is faster than `scipy.sparse.inv` but slower than\n",
        "    `scipy.sparse.linalg.spsolve` and `scipy.sparse.linalg.factorized`,\n",
        "    which is recommended.\n",
        "\n",
        "# References\n",
        "\n",
        "NumPy Developers. 2024. “Linear Algebra (Numpy.linalg).”\n",
        "<https://numpy.org/doc/stable/reference/routines.linalg.html#module-numpy.linalg>.\n",
        "\n",
        "The SciPy Community. 2024a. “Scipy.sparse.csc_array.”\n",
        "<https://docs.scipy.org/doc/scipy/reference/generated/scipy.sparse.csc_array.html#scipy.sparse.csc_array>.\n",
        "\n",
        "———. 2024b. “Scipy.sparse.diags.”\n",
        "<https://docs.scipy.org/doc/scipy/reference/generated/scipy.sparse.diags.html#scipy.sparse.diags>.\n",
        "\n",
        "———. 2024c. “Scipy.sparse.diags_array.”\n",
        "<https://docs.scipy.org/doc/scipy/reference/generated/scipy.sparse.diags_array.html#scipy.sparse.diags_array>.\n",
        "\n",
        "———. 2024d. “Sparse Linear Algebra (Scipy.sparse.linalg).”\n",
        "<https://docs.scipy.org/doc/scipy/reference/sparse.linalg.html#module-scipy.sparse.linalg>.\n",
        "\n",
        "———. 2024e. “Sparse Matrices (Scipy.sparse).”\n",
        "<https://docs.scipy.org/doc/scipy/reference/sparse.html>."
      ],
      "id": "f785b39d-e596-4f6b-8364-36c86a3e111d"
    }
  ],
  "nbformat": 4,
  "nbformat_minor": 5,
  "metadata": {
    "kernelspec": {
      "name": "conda-env-compfin-py",
      "display_name": "Python [conda env:compfin]",
      "language": "python"
    },
    "language_info": {
      "name": "python",
      "codemirror_mode": {
        "name": "ipython",
        "version": "3"
      },
      "file_extension": ".py",
      "mimetype": "text/x-python",
      "nbconvert_exporter": "python",
      "pygments_lexer": "ipython3",
      "version": "3.10.16"
    }
  }
}