{
  "cells": [
    {
      "cell_type": "markdown",
      "metadata": {},
      "source": [
        "# Python basics\n",
        "\n",
        "Computational Finance with Python\n",
        "\n",
        "[Alet Roux](https://www.york.ac.uk/maths/staff/alet-roux/) ([Department\n",
        "of Mathematics](https://maths.york.ac.uk), University of York)\n",
        "\n",
        "Click on the following to open this file in Google Colab:\n",
        "\n",
        "<figure>\n",
        "<a\n",
        "href=\"https://colab.research.google.com/github/aletroux/comp-finance-python/blob/main/demonstrations/D01_Python_basics_slides.ipynb\"><img\n",
        "src=\"https://colab.research.google.com/assets/colab-badge.svg\"\n",
        "alt=\"Open In Colab\" /></a>\n",
        "<figcaption>Open In Colab</figcaption>\n",
        "</figure>\n",
        "\n",
        "# First things first\n",
        "\n",
        "## A first example\n",
        "\n",
        "-   Python code and output:"
      ],
      "id": "6503d5ef-927f-4b9f-b0b4-5586652c4f82"
    },
    {
      "cell_type": "code",
      "execution_count": 1,
      "metadata": {
        "tags": []
      },
      "outputs": [
        {
          "output_type": "stream",
          "name": "stdout",
          "text": [
            "Hello world!\n",
            "42"
          ]
        }
      ],
      "source": [
        "print(\"Hello world!\")\n",
        "\n",
        "# Assign a variable and display its value\n",
        "my_answer = 42\n",
        "print(my_answer)"
      ],
      "id": "c5d5b536-f495-46bc-b5ee-89776b130067"
    },
    {
      "cell_type": "markdown",
      "metadata": {},
      "source": [
        "## Variables\n",
        "\n",
        "-   To create a variable, give it a name and assign a value using the\n",
        "    equality sign `=`.\n",
        "\n",
        "-   Variable names must satisfy the following:\n",
        "\n",
        "    -   Consist of letters (upper and lower case), numbers, and\n",
        "        underscores (“`_`”)\n",
        "    -   Start with a letter or an underscore.\n",
        "    -   Case-sensitive. For example, `age`, `Age` and `AGE` are three\n",
        "        different variables.\n",
        "    -   Python keywords (The Python Software Foundation (2023b)) cannot\n",
        "        be used.\n",
        "\n",
        "## Python keywords\n",
        "\n",
        "-   The Python Software Foundation (2023b):\n",
        "\n",
        "|            |           |          |            |          |\n",
        "|------------|-----------|----------|------------|----------|\n",
        "| `False`    | `None`    | `True`   | `and`      | `as`     |\n",
        "| `assert`   | `async`   | `await`  | `break`    | `class`  |\n",
        "| `continue` | `def`     | `del`    | `elif`     | `else`   |\n",
        "| `except`   | `finally` | `for`    | `from`     | `global` |\n",
        "| `in`       | `is`      | `lambda` | `nonlocal` | `not`    |\n",
        "| `return`   | `try`     | `while`  | `with`     | `yield`  |\n",
        "\n",
        "# Basic data types\n",
        "\n",
        "-   Python is a *dynamically typed* language, which simplifies\n",
        "    programming.\n",
        "\n",
        "-   The built-in function `type` tells us the type of an object if\n",
        "    needed:"
      ],
      "id": "eaf44271-a3f8-4ae7-8a78-61179ce6c126"
    },
    {
      "cell_type": "code",
      "execution_count": 2,
      "metadata": {
        "tags": []
      },
      "outputs": [
        {
          "output_type": "stream",
          "name": "stdout",
          "text": [
            "<class 'int'>"
          ]
        }
      ],
      "source": [
        "print(type(my_answer))"
      ],
      "id": "f1f5b7c5-f07d-4e20-b9ee-d4890feac7ec"
    },
    {
      "cell_type": "markdown",
      "metadata": {},
      "source": [
        "-   Python has a number of basic data types that are useful for our\n",
        "    work:\n",
        "    -   Integers\n",
        "    -   Floating point numbers\n",
        "    -   Booleans\n",
        "    -   Strings\n",
        "\n",
        "## Integers\n",
        "\n",
        "-   Python integers (`int`) can be arbitrarily large: Python uses as\n",
        "    many bits as needed.\n",
        "-   Assign two integer variables and display their values:"
      ],
      "id": "9f0524cd-82a3-4f72-b830-253a92038926"
    },
    {
      "cell_type": "code",
      "execution_count": 3,
      "metadata": {
        "tags": []
      },
      "outputs": [
        {
          "output_type": "stream",
          "name": "stdout",
          "text": [
            "a = 5\n",
            "b = 3"
          ]
        }
      ],
      "source": [
        "a = 5\n",
        "b = 3\n",
        "print(\"a =\", a)\n",
        "print(\"b =\", b)"
      ],
      "id": "285f37c9-8f47-4ebd-8f2c-a32f3368a89b"
    },
    {
      "cell_type": "markdown",
      "metadata": {},
      "source": [
        "------------------------------------------------------------------------\n",
        "\n",
        "### `int` arithmetic\n",
        "\n",
        "-   Addition, subtraction and multiplication:"
      ],
      "id": "be457ef6-2c7a-4ea9-b8c6-9c488492d06d"
    },
    {
      "cell_type": "code",
      "execution_count": 4,
      "metadata": {
        "tags": []
      },
      "outputs": [
        {
          "output_type": "stream",
          "name": "stdout",
          "text": [
            "a + b = 8\n",
            "a - b = 2\n",
            "a * b = 15"
          ]
        }
      ],
      "source": [
        "print(\"a + b =\", a + b)\n",
        "print(\"a - b =\", a - b)\n",
        "print(\"a * b =\", a * b)"
      ],
      "id": "687a6ad9-5d24-4896-be86-f1e63c7e8275"
    },
    {
      "cell_type": "markdown",
      "metadata": {},
      "source": [
        "-   Powers:"
      ],
      "id": "45ceb458-c44e-4810-97f6-736223c53f23"
    },
    {
      "cell_type": "code",
      "execution_count": 5,
      "metadata": {
        "tags": []
      },
      "outputs": [
        {
          "output_type": "stream",
          "name": "stdout",
          "text": [
            "a ** b = 125\n",
            "a ** (-b) = 0.008"
          ]
        }
      ],
      "source": [
        "print(\"a ** b =\", a ** b)\n",
        "print(\"a ** (-b) =\", a ** (-b))"
      ],
      "id": "18d9de41-41fd-4628-ba5a-3caade27a1e6"
    },
    {
      "cell_type": "markdown",
      "metadata": {},
      "source": [
        "------------------------------------------------------------------------\n",
        "\n",
        "### `int` division"
      ],
      "id": "c8017e1a-67c8-4859-b0fd-e47945678056"
    },
    {
      "cell_type": "code",
      "execution_count": 6,
      "metadata": {
        "tags": []
      },
      "outputs": [
        {
          "output_type": "stream",
          "name": "stdout",
          "text": [
            "a / b = 1.6666666666666667\n",
            "a // b = 1\n",
            "a % b = 2"
          ]
        }
      ],
      "source": [
        "print(\"a / b =\", a / b)\n",
        "print(\"a // b =\", a // b)\n",
        "print(\"a % b =\", a % b)"
      ],
      "id": "bb64c209-0563-4aca-825d-2a7a267a545f"
    },
    {
      "cell_type": "markdown",
      "metadata": {},
      "source": [
        "------------------------------------------------------------------------\n",
        "\n",
        "### Assigning and modifying integer variables"
      ],
      "id": "a6c3dbf1-da31-4bdd-8f7b-8c95e039dd29"
    },
    {
      "cell_type": "code",
      "execution_count": 7,
      "metadata": {
        "tags": []
      },
      "outputs": [
        {
          "output_type": "stream",
          "name": "stdout",
          "text": [
            "a = 9"
          ]
        }
      ],
      "source": [
        "# Assigning a to a new value\n",
        "a = b + 6\n",
        "print(\"a =\", a)"
      ],
      "id": "6d0fca9f-b902-4510-8cab-2d9246548bed"
    },
    {
      "cell_type": "markdown",
      "metadata": {},
      "source": [
        "-   The shorthand operators `+=`, `-=`, `*=`, `/=`, etc, can be used to\n",
        "    modify a variable directly:"
      ],
      "id": "7fd3a7ff-4f21-485c-8b7e-856fc883be40"
    },
    {
      "cell_type": "code",
      "execution_count": 8,
      "metadata": {
        "tags": []
      },
      "outputs": [
        {
          "output_type": "stream",
          "name": "stdout",
          "text": [
            "a = 8"
          ]
        }
      ],
      "source": [
        "# Subtract 1 from a\n",
        "a -= 1\n",
        "print(\"a =\", a)"
      ],
      "id": "cea26f04-41a5-4450-baae-27c35fefd774"
    },
    {
      "cell_type": "code",
      "execution_count": 9,
      "metadata": {
        "tags": []
      },
      "outputs": [
        {
          "output_type": "stream",
          "name": "stdout",
          "text": [
            "a = 2.6666666666666665\n",
            "Data type of a is now <class 'float'>"
          ]
        }
      ],
      "source": [
        "#Now divide the result by 3\n",
        "a /= 3\n",
        "print(\"a =\", a)\n",
        "print(\"Data type of a is now\", type(a)) "
      ],
      "id": "679bfce8-45e9-4e39-bfdd-bd996f0455b7"
    },
    {
      "cell_type": "markdown",
      "metadata": {},
      "source": [
        "## Floating point numbers\n",
        "\n",
        "-   `float` is used to represent decimal numbers."
      ],
      "id": "a9d45bba-4b7e-40c4-97c1-1e12023743ac"
    },
    {
      "cell_type": "code",
      "execution_count": 10,
      "metadata": {
        "tags": []
      },
      "outputs": [
        {
          "output_type": "stream",
          "name": "stdout",
          "text": [
            "c = 0.35\n",
            "d = 0.15"
          ]
        }
      ],
      "source": [
        "# Assign two floats and display their values\n",
        "c = 0.35\n",
        "d = 0.15\n",
        "print(\"c =\", c)\n",
        "print(\"d =\", d)"
      ],
      "id": "7af9036e-4cfc-4f5c-a054-3fcf4e029c8e"
    },
    {
      "cell_type": "markdown",
      "metadata": {},
      "source": [
        "-   Python tends to conform to the IEEE 754 double-precision standard,\n",
        "    which is 15-digit relative accuracy (IEEE (2008)).\n",
        "-   Higher accuracy can be achieved with the `decimal` module (The\n",
        "    Python Software Foundation (2023a)).\n",
        "\n",
        "------------------------------------------------------------------------\n",
        "\n",
        "### Floating number arithmetic"
      ],
      "id": "9e6408d7-363d-47ef-b722-d20c483d465f"
    },
    {
      "cell_type": "code",
      "execution_count": 11,
      "metadata": {
        "tags": []
      },
      "outputs": [
        {
          "output_type": "stream",
          "name": "stdout",
          "text": [
            "c + d = 0.5\n",
            "c - d = 0.19999999999999998\n",
            "c * d = 0.0525\n",
            "c / d = 2.3333333333333335\n",
            "c ** d = 0.8542996071500324"
          ]
        }
      ],
      "source": [
        "c = 0.35\n",
        "d = 0.15\n",
        "print(\"c + d =\", c + d)\n",
        "print(\"c - d =\", c - d)\n",
        "print(\"c * d =\", c * d)\n",
        "print(\"c / d =\", c / d)\n",
        "print(\"c ** d =\", c ** d)"
      ],
      "id": "cc0aa0a1-3f58-4fc7-be0f-65cdf7a9052a"
    },
    {
      "cell_type": "markdown",
      "metadata": {},
      "source": [
        "------------------------------------------------------------------------\n",
        "\n",
        "### `float` assigning and modification\n",
        "\n",
        "-   `float` variables are assigned with `=`, just like integers.\n",
        "-   The value of a `float` variable can be changed after its initial\n",
        "    definition.\n",
        "-   The shorthand operators `+=`, `-=`, `*=`, `/=`, etc, can be used for\n",
        "    compactness."
      ],
      "id": "872a5e5c-c5b3-459f-97fe-42c639efa539"
    },
    {
      "cell_type": "code",
      "execution_count": 12,
      "metadata": {
        "tags": []
      },
      "outputs": [
        {
          "output_type": "stream",
          "name": "stdout",
          "text": [
            "f = 12.646177800680515"
          ]
        }
      ],
      "source": [
        "# calculate 1.5^2.4\n",
        "f = 1.5 ** 2.4\n",
        "\n",
        "# then add 10\n",
        "f += 10\n",
        "\n",
        "print (\"f =\",f)"
      ],
      "id": "373a7bb4-c165-4c85-b4bf-d92bf283b35f"
    },
    {
      "cell_type": "markdown",
      "metadata": {},
      "source": [
        "------------------------------------------------------------------------\n",
        "\n",
        "### Rounding\n",
        "\n",
        "-   Use the built-in function `round` for rounding.\n",
        "-   Rounding to fixed number of decimal places:"
      ],
      "id": "4ed28889-934a-4159-a2f5-2b3cf8010c45"
    },
    {
      "cell_type": "code",
      "execution_count": 13,
      "metadata": {},
      "outputs": [
        {
          "output_type": "stream",
          "name": "stdout",
          "text": [
            "2.3333333333333335 rounded to 3 d.p. is 2.333\n",
            "0.19999999999999998 rounded to 1 d.p. is 0.2"
          ]
        }
      ],
      "source": [
        "c = 0.35\n",
        "d = 0.15\n",
        "print(c/d, \"rounded to 3 d.p. is\", round(c/d, 3) )\n",
        "print(c-d, \"rounded to 1 d.p. is\", round(c-d, 1) )"
      ],
      "id": "bf8bdfa1-37e4-4f88-b983-f96e2a2ef856"
    },
    {
      "cell_type": "markdown",
      "metadata": {},
      "source": [
        "-   Rounding can yield unexpected results:"
      ],
      "id": "8e2a4e16-5509-44cd-a759-bf0d1ef0d6f1"
    },
    {
      "cell_type": "code",
      "execution_count": 14,
      "metadata": {},
      "outputs": [
        {
          "output_type": "stream",
          "name": "stdout",
          "text": [
            "Nearest int to 0.5 is 0\n",
            "Nearest int to 1.5 is 2\n",
            "Data type of rounded num is <class 'int'>"
          ]
        }
      ],
      "source": [
        "print (\"Nearest int to\", 0.5, \"is\", round(0.5))\n",
        "print (\"Nearest int to\", 1.5, \"is\", round(1.5))\n",
        "print (\"Data type of rounded num is\", type(round(1.5)))"
      ],
      "id": "b135ee44-9164-4e4a-8c6c-413c1d788880"
    },
    {
      "cell_type": "markdown",
      "metadata": {},
      "source": [
        "## Boolean variables\n",
        "\n",
        "-   Boolean (`bool`) variables take two values: `True` or `False`.\n",
        "-   Useful for logical expressions, such as comparisons."
      ],
      "id": "abbe00b7-d1f2-4ddb-9d07-68bf5528f392"
    },
    {
      "cell_type": "code",
      "execution_count": 15,
      "metadata": {
        "tags": []
      },
      "outputs": [
        {
          "output_type": "stream",
          "name": "stdout",
          "text": [
            "Is a strictly less than d? False\n",
            "Is a greater than or equal to d? True"
          ]
        }
      ],
      "source": [
        "a = 2.66675\n",
        "d = 0.15\n",
        "\n",
        "# Less-than and greater than comparison\n",
        "print(\"Is a strictly less than d?\", a < d)\n",
        "print(\"Is a greater than or equal to d?\", a >= d)"
      ],
      "id": "813b783d-f5fd-43ed-b15c-ee5cccbc9800"
    },
    {
      "cell_type": "code",
      "execution_count": 16,
      "metadata": {
        "tags": []
      },
      "outputs": [
        {
          "output_type": "stream",
          "name": "stdout",
          "text": [
            "Is a equal to d? False\n",
            "Is a not equal to d? True"
          ]
        }
      ],
      "source": [
        "# Equality comparison\n",
        "print(\"Is a equal to d?\", a == d)\n",
        "print(\"Is a not equal to d?\", a != d)"
      ],
      "id": "e3459458-5383-4ad3-a07f-62811cfc250e"
    },
    {
      "cell_type": "markdown",
      "metadata": {},
      "source": [
        "------------------------------------------------------------------------\n",
        "\n",
        "### Logical operators\n",
        "\n",
        "| Priority | Operator | Definition |\n",
        "|:-----------------:|:-----------------:|------------------------------------|\n",
        "| 1 | `not x` | If `x` is `True`, then `False`, otherwise `True`. |\n",
        "| 2 | `x and y` | `True` if both `x` and `y` are `True`, otherwise `False`. |\n",
        "| 3 | `x or y` | `True` if at least one of `x` and `y` are `True`, otherwise `False`. |\n",
        "\n",
        "-   These operators evaluate the first expression (`x`) and depending on\n",
        "    its value, may or may not evaluate the second (`y`).\n",
        "-   Logical operators have lower priority than other operators. For\n",
        "    example, `not a == b` is interpreted as `not (a == b)`. It’s a good\n",
        "    idea to use brackets regardless for clarity.\n",
        "\n",
        "------------------------------------------------------------------------\n",
        "\n",
        "### `bool` assigning\n",
        "\n",
        "-   Assigning `True` or `False` directly:"
      ],
      "id": "8df8ef76-51d6-46ca-b47d-13a04296c877"
    },
    {
      "cell_type": "code",
      "execution_count": 17,
      "metadata": {
        "tags": []
      },
      "outputs": [
        {
          "output_type": "stream",
          "name": "stdout",
          "text": [
            "True is True\n",
            "False is False"
          ]
        }
      ],
      "source": [
        "my_bool3 = True\n",
        "print(\"True is\",my_bool3)\n",
        "\n",
        "# A very bad choice of variable name\n",
        "true = False\n",
        "print(\"False is\", true)"
      ],
      "id": "6ed66278-e4cb-449a-9a52-36b4231f9087"
    },
    {
      "cell_type": "code",
      "execution_count": 18,
      "metadata": {
        "tags": []
      },
      "outputs": [
        {
          "output_type": "stream",
          "name": "stdout",
          "text": [
            "1 == 3 is False\n",
            "(1 > 3) or (5 > 3) and not (4 > 5) is True"
          ]
        }
      ],
      "source": [
        "my_bool1 = 1 == 3\n",
        "print(\"1 == 3 is\", my_bool1)\n",
        "\n",
        "# Assigning a more complex Boolean variable\n",
        "my_bool2 = 1 > 3 or 5 > 3 and not 4 > 5\n",
        "my_bool2 = (1 > 3) or (5 > 3) and not (4 > 5)\n",
        "print(\"(1 > 3) or (5 > 3) and not (4 > 5) is\", my_bool2)"
      ],
      "id": "d6f3f7c3-34d0-4665-b25b-70a4362afe6e"
    },
    {
      "cell_type": "markdown",
      "metadata": {},
      "source": [
        "## Strings\n",
        "\n",
        "-   Python uses strings (`str`) for text.\n",
        "-   Strings can be defined using either double or single quotation\n",
        "    marks:"
      ],
      "id": "3a7fa3c6-4835-43c9-97c4-de615a8428cf"
    },
    {
      "cell_type": "code",
      "execution_count": 19,
      "metadata": {
        "tags": []
      },
      "outputs": [
        {
          "output_type": "stream",
          "name": "stdout",
          "text": [
            "string with double quotation marks\n",
            "same string but with single marks"
          ]
        }
      ],
      "source": [
        "my_string1 = \"string with double quotation marks\"\n",
        "my_string2 = 'same string but with single marks'\n",
        "print(my_string1)\n",
        "print(my_string2)"
      ],
      "id": "532d1e38-76c2-4eeb-b207-cdc78c67b81c"
    },
    {
      "cell_type": "markdown",
      "metadata": {},
      "source": [
        "-   Nested strings use both types of quotation marks:"
      ],
      "id": "27212d17-524e-4d56-ba4a-250183f5e802"
    },
    {
      "cell_type": "code",
      "execution_count": 20,
      "metadata": {
        "tags": []
      },
      "outputs": [
        {
          "output_type": "stream",
          "name": "stdout",
          "text": [
            "string with 'single quotation marks'\n",
            "same string but with \"double marks\""
          ]
        }
      ],
      "source": [
        "my_string3 = \"string with 'single quotation marks'\"\n",
        "my_string4 = 'same string but with \"double marks\"'\n",
        "print(my_string3)\n",
        "print(my_string4)"
      ],
      "id": "5ce4523f-1f04-47ed-850a-302c398b1e68"
    },
    {
      "cell_type": "markdown",
      "metadata": {},
      "source": [
        "------------------------------------------------------------------------\n",
        "\n",
        "### Long strings and concatenation\n",
        "\n",
        "-   Long strings can be defined using triple quotation marks:"
      ],
      "id": "4c14d743-85ae-4803-b4e1-80d8ea68589e"
    },
    {
      "cell_type": "code",
      "execution_count": 21,
      "metadata": {
        "tags": []
      },
      "outputs": [
        {
          "output_type": "stream",
          "name": "stdout",
          "text": [
            "This is a very long string\n",
            "spanning many lines\n",
            "and an extra line break."
          ]
        }
      ],
      "source": [
        "my_string5 = '''This is a very long string\n",
        "spanning many lines\\nand an extra line break.'''\n",
        "print(my_string5)"
      ],
      "id": "2b5562ba-8ae1-4253-b56c-541f0bfcc3d5"
    },
    {
      "cell_type": "markdown",
      "metadata": {},
      "source": [
        "-   Strings can be concatenated in different ways:"
      ],
      "id": "d4a1af7b-acb3-436a-858e-63e405186736"
    },
    {
      "cell_type": "code",
      "execution_count": 22,
      "metadata": {
        "tags": []
      },
      "outputs": [
        {
          "output_type": "stream",
          "name": "stdout",
          "text": [
            "The answer is 42.\n",
            "String-1String-2"
          ]
        }
      ],
      "source": [
        "my_string6 = \"The answer is \" + \"42.\"\n",
        "my_string7 = \"String-1\" \"String-2\"\n",
        "print(my_string6)\n",
        "print(my_string7)"
      ],
      "id": "3e2495af-9c2d-4807-96d7-ff7323fc81f0"
    },
    {
      "cell_type": "markdown",
      "metadata": {},
      "source": [
        "------------------------------------------------------------------------\n",
        "\n",
        "### String conversion\n",
        "\n",
        "-   Converting objects to `string`:"
      ],
      "id": "0795ed03-2a77-4c5b-907d-083781fdb234"
    },
    {
      "cell_type": "code",
      "execution_count": 23,
      "metadata": {},
      "outputs": [
        {
          "output_type": "stream",
          "name": "stdout",
          "text": [
            "The answer is 99.8134.\n",
            "The answer is 42."
          ]
        }
      ],
      "source": [
        "my_string8 = \"The answer is \" + str(99.8134) + \".\"\n",
        "my_string9 = \"The answer is \" + str(42) + \".\"\n",
        "print(my_string8)\n",
        "print(my_string9)"
      ],
      "id": "1165ad74-a55f-4970-8b29-1383e7f35e24"
    },
    {
      "cell_type": "markdown",
      "metadata": {},
      "source": [
        "-   Converting `string` to other objects:"
      ],
      "id": "5f4ff4f8-33a7-4faf-85e6-1886b688a91f"
    },
    {
      "cell_type": "code",
      "execution_count": 24,
      "metadata": {},
      "outputs": [
        {
          "output_type": "stream",
          "name": "stdout",
          "text": [
            "my_float = 12.34\n",
            "Data type of my_float is  <class 'float'>"
          ]
        }
      ],
      "source": [
        "my_number = \"12.34\"\n",
        "my_float = float(my_number)\n",
        "print(\"my_float =\",my_float)\n",
        "print(\"Data type of my_float is \", type(my_float))"
      ],
      "id": "b76b143b-657e-43ae-ae7d-fe2a3e2e8601"
    },
    {
      "cell_type": "markdown",
      "metadata": {},
      "source": [
        "------------------------------------------------------------------------\n",
        "\n",
        "### String replacement\n",
        "\n",
        "-   Useful when displaying variables:"
      ],
      "id": "ec273afd-c09a-43a4-9f87-ea4acc20a15b"
    },
    {
      "cell_type": "code",
      "execution_count": 25,
      "metadata": {
        "tags": []
      },
      "outputs": [
        {
          "output_type": "stream",
          "name": "stdout",
          "text": [
            "Have 42 and 84.759 and a message."
          ]
        }
      ],
      "source": [
        "my_int = 42\n",
        "my_fl = 84.759\n",
        "my_str = \"message\"\n",
        "\n",
        "# Replacement\n",
        "my_string1 = f'Have {my_int} and {my_fl} and a {my_str}.'\n",
        "print(my_string1)"
      ],
      "id": "da25d3ac-63f8-4e5a-8e02-c51e0ff6b339"
    },
    {
      "cell_type": "markdown",
      "metadata": {},
      "source": [
        "-   String replacement with fixed width:"
      ],
      "id": "fb0da447-9c45-4a52-81ed-8b263e2228cb"
    },
    {
      "cell_type": "code",
      "execution_count": 26,
      "metadata": {
        "tags": []
      },
      "outputs": [
        {
          "output_type": "stream",
          "name": "stdout",
          "text": [
            "Have       42 and a message  .\n",
            "Have    84.76."
          ]
        }
      ],
      "source": [
        "print(f'Have {my_int:8} and a {my_str:9}.')\n",
        "print(f'Have {my_fl:8.2f}.' )"
      ],
      "id": "ef6353dc-0cc9-447e-a0bd-fef8f8e73cbe"
    },
    {
      "cell_type": "markdown",
      "metadata": {},
      "source": [
        "# Basic data structures\n",
        "\n",
        "-   A *data structure* is an object that contains other objects.\n",
        "-   Python has many built-in data structures.\n",
        "    -   `tuple` and `list` are the most relevant for us.\n",
        "    -   Other types are `dict` to store objects by key, and `set` to\n",
        "        collect unique objects.\n",
        "\n",
        "## Tuples\n",
        "\n",
        "-   A `tuple` is an ordered collection of objects.\n",
        "-   Created with (or without) round brackets (`()`):"
      ],
      "id": "77e12c32-d054-4d18-841d-c2de4327e1ca"
    },
    {
      "cell_type": "code",
      "execution_count": 27,
      "metadata": {},
      "outputs": [
        {
          "output_type": "stream",
          "name": "stdout",
          "text": [
            "(1, 'hello', 5.6)"
          ]
        }
      ],
      "source": [
        "my_tuple1 = (1, \"hello\", 5.6)\n",
        "my_tuple2 = 1, \"hello\", 5.6\n",
        "print(my_tuple2)"
      ],
      "id": "ca846fd6-5338-4d15-90b9-9dcbadc81c43"
    },
    {
      "cell_type": "markdown",
      "metadata": {},
      "source": [
        "-   Items in tuples can be accessed similar to lists (see below).\n",
        "-   Tuples are *immutable*: they cannot be changed easily.\n",
        "-   Lists are more useful in most circumstances.\n",
        "\n",
        "## Lists and ranges\n",
        "\n",
        "-   The items in a `list` can be of any type (including a list).\n",
        "\n",
        "-   Created using square brackets (`[]`):"
      ],
      "id": "439dc2d2-3216-4386-ac96-83353d1b408a"
    },
    {
      "cell_type": "code",
      "execution_count": 28,
      "metadata": {
        "tags": []
      },
      "outputs": [
        {
          "output_type": "stream",
          "name": "stdout",
          "text": [
            "my_list = [1, 'hello', 5.6, -3.9, True, 'end item']\n",
            "The length of the list is 6"
          ]
        }
      ],
      "source": [
        "my_list = [1, \"hello\", 5.6, -3.9, True, 'end item']\n",
        "print(\"my_list =\", my_list)\n",
        "print(\"The length of the list is\", len(my_list))"
      ],
      "id": "a6706515-ef3b-46ea-861c-51f19cf1825a"
    },
    {
      "cell_type": "markdown",
      "metadata": {},
      "source": [
        "-   Lists are very powerful; see the Python documentation (The Python\n",
        "    Software Foundation (2023c)).\n",
        "\n",
        "------------------------------------------------------------------------\n",
        "\n",
        "### Accessing list items\n",
        "\n",
        "-   Python uses *zero-based numbering*: the first item in a list is at\n",
        "    position 0, the second is at position 1, etc."
      ],
      "id": "701593dc-e866-4659-96e9-25aa83fc7434"
    },
    {
      "cell_type": "code",
      "execution_count": 29,
      "metadata": {
        "tags": []
      },
      "outputs": [
        {
          "output_type": "stream",
          "name": "stdout",
          "text": [
            "my_list = [1, 'hello', 5.6, -3.9, True, 'end item']"
          ]
        }
      ],
      "source": [
        "print(\"my_list =\",my_list)"
      ],
      "id": "78a446ae-7b10-44bc-a9ca-6da1b1949e72"
    },
    {
      "cell_type": "code",
      "execution_count": 30,
      "metadata": {
        "tags": []
      },
      "outputs": [
        {
          "output_type": "stream",
          "name": "stdout",
          "text": [
            "The first item in the list is 1\n",
            "The second item in the list is hello\n",
            "The fourth item in the list is -3.9"
          ]
        }
      ],
      "source": [
        "print(\"The first item in the list is\", my_list[0])\n",
        "print(\"The second item in the list is\", my_list[1])\n",
        "print(\"The fourth item in the list is\", my_list[3])"
      ],
      "id": "896380e3-1a41-4ffc-ab29-dbe4c4c2ddd0"
    },
    {
      "cell_type": "markdown",
      "metadata": {},
      "source": [
        "-   List items can be accessed from the end of the list by using\n",
        "    negative indices. The final item is -1, etc."
      ],
      "id": "6b19f8df-3f2b-4384-91d1-aadfa4b325e7"
    },
    {
      "cell_type": "code",
      "execution_count": 31,
      "metadata": {
        "tags": []
      },
      "outputs": [
        {
          "output_type": "stream",
          "name": "stdout",
          "text": [
            "The last item in the list is end item\n",
            "The second to last item is True"
          ]
        }
      ],
      "source": [
        "print(\"The last item in the list is\", my_list[-1])\n",
        "print(\"The second to last item is\", my_list[-2])"
      ],
      "id": "05efb031-764f-49fe-9cf1-a33e6ef7fce1"
    },
    {
      "cell_type": "markdown",
      "metadata": {},
      "source": [
        "------------------------------------------------------------------------\n",
        "\n",
        "### List slicing\n",
        "\n",
        "-   *Slicing* can be used to create a sub-list from an existing list."
      ],
      "id": "57bc48b1-b251-45c9-8b1d-7e1446b4cfcb"
    },
    {
      "cell_type": "code",
      "execution_count": 32,
      "metadata": {},
      "outputs": [
        {
          "output_type": "stream",
          "name": "stdout",
          "text": [
            "my_list[2:4] = [5.6, -3.9]\n",
            "my_list[:3] = [1, 'hello', 5.6]\n",
            "my_list[-3:] = [-3.9, True, 'end item']"
          ]
        }
      ],
      "source": [
        "my_list = [1, 'hello', 5.6, -3.9, True, 'end item']\n",
        "print(\"my_list[2:4] =\", my_list[2:4])\n",
        "print(\"my_list[:3] =\", my_list[:3])\n",
        "print(\"my_list[-3:] =\", my_list[-3:])"
      ],
      "id": "9fbf8cba-2480-4310-a6f1-173f0f569ee0"
    },
    {
      "cell_type": "markdown",
      "metadata": {},
      "source": [
        "-   Lists can be modified by slicing:"
      ],
      "id": "aee2ca47-4010-413d-9dc3-5080afa3f2f4"
    },
    {
      "cell_type": "code",
      "execution_count": 33,
      "metadata": {},
      "outputs": [
        {
          "output_type": "stream",
          "name": "stdout",
          "text": [
            "After replacing a slice:\n",
            "     [1, 'hello', 'greetings', True, 'end item']\n",
            "After removing a slice: [1, 'hello']"
          ]
        }
      ],
      "source": [
        "my_list[1:4] = [\"hello\", \"greetings\"]\n",
        "print(\"After replacing a slice:\\n\\t\",my_list)\n",
        "\n",
        "my_list[2:] = []\n",
        "print(\"After removing a slice:\",my_list)"
      ],
      "id": "a0407969-65b7-4168-b494-05df2c00ef54"
    },
    {
      "cell_type": "markdown",
      "metadata": {},
      "source": [
        "------------------------------------------------------------------------\n",
        "\n",
        "### Reassigning list items"
      ],
      "id": "5b6121ba-cb5e-4a8f-8de5-4ca8c9cfbac3"
    },
    {
      "cell_type": "code",
      "execution_count": 34,
      "metadata": {},
      "outputs": [
        {
          "output_type": "stream",
          "name": "stdout",
          "text": [
            "After reassigning item 1: [1.1, 'goodbye', -3.7]\n",
            "After reassigning item 2: [1.1, 'goodbye', ['a', '2']]"
          ]
        }
      ],
      "source": [
        "my_list = [1.1, 2.5, -3.7]\n",
        "\n",
        "my_list[1] = \"goodbye\"\n",
        "print(\"After reassigning item 1:\", my_list)\n",
        "\n",
        "my_list[2] = ['a','2']\n",
        "print(\"After reassigning item 2:\", my_list)"
      ],
      "id": "29ed05f9-08dc-4664-90b0-e76faae7bb78"
    },
    {
      "cell_type": "markdown",
      "metadata": {},
      "source": [
        "------------------------------------------------------------------------\n",
        "\n",
        "### Inserting, deleting and appending list items\n",
        "\n",
        "-   These operations are time-consuming, use them wisely.\n",
        "-   Inserting an item:"
      ],
      "id": "1258422e-325e-482c-b2cb-f71c2e1fa893"
    },
    {
      "cell_type": "code",
      "execution_count": 35,
      "metadata": {},
      "outputs": [
        {
          "output_type": "stream",
          "name": "stdout",
          "text": [
            "After inserting 800 at position 2:\n",
            "     [1.1, 'goodbye', 800, ['a', '2']]"
          ]
        }
      ],
      "source": [
        "my_list =  [1.1, 'goodbye', ['a', '2']]\n",
        "my_list.insert(2, 800)\n",
        "print(\"After inserting 800 at position 2:\\n\\t\",my_list)"
      ],
      "id": "299d90e2-833a-44c2-a223-ddc19062e42f"
    },
    {
      "cell_type": "markdown",
      "metadata": {},
      "source": [
        "-   Removing item from list:"
      ],
      "id": "0965f780-719c-4d63-8764-f0e287bd1898"
    },
    {
      "cell_type": "code",
      "execution_count": 36,
      "metadata": {},
      "outputs": [
        {
          "output_type": "stream",
          "name": "stdout",
          "text": [
            "Removed item: 800\n",
            "List after item removed: [1.1, 'goodbye', ['a', '2']]"
          ]
        }
      ],
      "source": [
        "item2 = my_list.pop(2)\n",
        "print(\"Removed item:\",item2)\n",
        "print(\"List after item removed:\",my_list)"
      ],
      "id": "3b3d9b5c-fd22-49e9-b8b8-f355ae4d11cf"
    },
    {
      "cell_type": "markdown",
      "metadata": {},
      "source": [
        "-   Append item to list:"
      ],
      "id": "ed00a997-e364-434c-8780-5bd1fa6c79d3"
    },
    {
      "cell_type": "code",
      "execution_count": 37,
      "metadata": {},
      "outputs": [
        {
          "output_type": "stream",
          "name": "stdout",
          "text": [
            "After appending item:\n",
            "     [1.1, 'goodbye', ['a', '2'], 'new end item']"
          ]
        }
      ],
      "source": [
        "my_list.append(\"new end item\")\n",
        "print(\"After appending item:\\n\\t\",my_list)"
      ],
      "id": "18428d0c-0987-4a63-9b09-8b4df74ad707"
    },
    {
      "cell_type": "markdown",
      "metadata": {},
      "source": [
        "------------------------------------------------------------------------\n",
        "\n",
        "### Modifying lists\n",
        "\n",
        "-   Reversing the contents of a list:"
      ],
      "id": "8ca7e484-b667-41a5-ba02-197fce8644ff"
    },
    {
      "cell_type": "code",
      "execution_count": 38,
      "metadata": {},
      "outputs": [
        {
          "output_type": "stream",
          "name": "stdout",
          "text": [
            "Reversed list: [1.3, 1.2, 1.1]"
          ]
        }
      ],
      "source": [
        "my_list =  [1.1, 1.2, 1.3]\n",
        "my_list.reverse()\n",
        "print(\"Reversed list:\", my_list)"
      ],
      "id": "f98b5567-784e-413e-b3ec-acfa03525172"
    },
    {
      "cell_type": "markdown",
      "metadata": {},
      "source": [
        "-   Making copies of a list:"
      ],
      "id": "00bab13b-293d-4675-a172-4b4c1c55c7d3"
    },
    {
      "cell_type": "code",
      "execution_count": 39,
      "metadata": {},
      "outputs": [
        {
          "output_type": "stream",
          "name": "stdout",
          "text": [
            "my_list * 2 = [1.3, 1.2, 1.1, 1.3, 1.2, 1.1]"
          ]
        }
      ],
      "source": [
        "my_list *= 2\n",
        "print(\"my_list * 2 =\",my_list)"
      ],
      "id": "b352e910-01aa-4d6c-84d1-af59bfd538ea"
    },
    {
      "cell_type": "markdown",
      "metadata": {},
      "source": [
        "-   Combining lists:"
      ],
      "id": "5fc9662b-5c86-4981-a80e-ecc5f08bafc4"
    },
    {
      "cell_type": "code",
      "execution_count": 40,
      "metadata": {},
      "outputs": [
        {
          "output_type": "stream",
          "name": "stdout",
          "text": [
            "another_list + my_list = ['A', 'B', 1.3, 1.2, 1.1, 1.3, 1.2, 1.1]"
          ]
        }
      ],
      "source": [
        "my_list = [\"A\", \"B\"] + my_list\n",
        "print(\"another_list + my_list =\",my_list)"
      ],
      "id": "08b1fb30-0753-4b73-9685-b8f19f682062"
    },
    {
      "cell_type": "markdown",
      "metadata": {},
      "source": [
        "-   Extending lists:"
      ],
      "id": "dc35ee8a-4470-4b65-a97a-28de10aa075d"
    },
    {
      "cell_type": "code",
      "execution_count": 41,
      "metadata": {},
      "outputs": [
        {
          "output_type": "stream",
          "name": "stdout",
          "text": [
            "my_list + [2,1] = ['A', 'B', 1.3, 1.2, 1.1, 1.3, 1.2, 1.1, 2, 1]"
          ]
        }
      ],
      "source": [
        "my_list += [2,1]\n",
        "print(\"my_list + [2,1] =\",my_list)"
      ],
      "id": "d6489693-29f0-487f-bfeb-4267f7c73f91"
    },
    {
      "cell_type": "markdown",
      "metadata": {},
      "source": [
        "------------------------------------------------------------------------\n",
        "\n",
        "### Searching and counting in lists"
      ],
      "id": "76643a61-51c9-4bcf-b754-eb3b3cda56bb"
    },
    {
      "cell_type": "code",
      "execution_count": 42,
      "metadata": {},
      "outputs": [
        {
          "output_type": "stream",
          "name": "stdout",
          "text": [
            "'bye' is in the list: True\n",
            "'bye' occurs 2 times.\n",
            "The first index of 'bye' is 2\n",
            "After removing first instance of 'bye': ['A', 'B', 'bye', 2, 1]"
          ]
        }
      ],
      "source": [
        "my_list =  ['A', 'B', 'bye', 'bye', 2, 1]\n",
        "print(\"'bye' is in the list:\", 'bye' in my_list)\n",
        "print(\"'bye' occurs\", my_list.count('bye'), \"times.\")\n",
        "first_index = my_list.index('bye')\n",
        "print(\"The first index of 'bye' is\", first_index)\n",
        "my_list.remove(\"bye\")\n",
        "print(\"After removing first instance of 'bye':\",my_list)"
      ],
      "id": "3ed2f6ff-d3d4-4e37-8671-994133e7457d"
    },
    {
      "cell_type": "markdown",
      "metadata": {},
      "source": [
        "------------------------------------------------------------------------\n",
        "\n",
        "### Creating lists\n",
        "\n",
        "-   Creating lists by appending:"
      ],
      "id": "f5a72ee6-d025-4c3e-b0e7-8e96cdc2b8c8"
    },
    {
      "cell_type": "code",
      "execution_count": 43,
      "metadata": {},
      "outputs": [
        {
          "output_type": "stream",
          "name": "stdout",
          "text": [
            "[4, 5]"
          ]
        }
      ],
      "source": [
        "new_list1 = []\n",
        "new_list1.append(4)\n",
        "new_list1.append(5)\n",
        "print(new_list1)"
      ],
      "id": "620ceaff-8976-40e0-9c2d-4115c23ef6df"
    },
    {
      "cell_type": "markdown",
      "metadata": {},
      "source": [
        "-   Creating lists by conversion:"
      ],
      "id": "99389c8c-7c57-4d06-a2d6-94547fd7715d"
    },
    {
      "cell_type": "code",
      "execution_count": 44,
      "metadata": {},
      "outputs": [
        {
          "output_type": "stream",
          "name": "stdout",
          "text": [
            "['H', 'e', 'l', 'l', 'o', '!']"
          ]
        }
      ],
      "source": [
        "new_list2 = list(\"Hello!\")\n",
        "print(new_list2)"
      ],
      "id": "a0c29173-b647-4c2d-8cbc-d5d0f3a06547"
    },
    {
      "cell_type": "markdown",
      "metadata": {},
      "source": [
        "------------------------------------------------------------------------\n",
        "\n",
        "### `range` objects\n",
        "\n",
        "-   `range` is used to create sequences of equispaced integers.\n",
        "\n",
        "-   Syntax is:\n",
        "\n",
        "``` {python}\n",
        "range(start, stop, step)\n",
        "```\n",
        "\n",
        "-   If `start` is omitted, it defaults to 0.\n",
        "-   It `step` is omitted, it defaults to 1. Negative steps are allowed.\n",
        "-   `stop` is not included in the range.\n",
        "\n",
        "------------------------------------------------------------------------\n",
        "\n",
        "### `range` examples"
      ],
      "id": "7e348082-7e26-4540-a42e-f0d213c7f1da"
    },
    {
      "cell_type": "code",
      "execution_count": 45,
      "metadata": {},
      "outputs": [
        {
          "output_type": "stream",
          "name": "stdout",
          "text": [
            "Integers from 0 to 9: [0, 1, 2, 3, 4, 5, 6, 7, 8, 9]"
          ]
        }
      ],
      "source": [
        "# Numbers 0,...,9\n",
        "list1 = list(range(10))\n",
        "print(\"Integers from 0 to 9:\", list1)"
      ],
      "id": "4c51f65e-4e43-4c83-8565-c2bb27b37130"
    },
    {
      "cell_type": "code",
      "execution_count": 46,
      "metadata": {},
      "outputs": [
        {
          "output_type": "stream",
          "name": "stdout",
          "text": [
            "Multiples of 2 from 0 to 10: [0, 2, 4, 6, 8, 10]"
          ]
        }
      ],
      "source": [
        "# Numbers 0,2,4,...,10\n",
        "list2 = list(range(0,12,2))\n",
        "print(\"Multiples of 2 from 0 to 10:\", list2)"
      ],
      "id": "55c4ab25-4ff5-4b47-90d7-a2a48c6d892e"
    },
    {
      "cell_type": "code",
      "execution_count": 47,
      "metadata": {},
      "outputs": [
        {
          "output_type": "stream",
          "name": "stdout",
          "text": [
            "Multiples of 2 from 10 to 0: [10, 8, 6, 4, 2, 0]"
          ]
        }
      ],
      "source": [
        "# Numbers 0, -4, ..., -10\n",
        "list3 = list(range(10,-2,-2))\n",
        "print(\"Multiples of 2 from 10 to 0:\", list3)"
      ],
      "id": "f3092136-fd25-4ccf-b68a-85557c49b437"
    },
    {
      "cell_type": "markdown",
      "metadata": {},
      "source": [
        "# Control flow\n",
        "\n",
        "## Indentation\n",
        "\n",
        "**Indentation** is very important in Python:"
      ],
      "id": "63fe53e3-1ee7-45b7-9ec1-e9c16b481042"
    },
    {
      "cell_type": "code",
      "execution_count": 48,
      "metadata": {},
      "outputs": [
        {
          "output_type": "stream",
          "name": "stdout",
          "text": [
            "x = 2\n",
            "x is even\n",
            "to repeat, x is even\n",
            "2x = 4"
          ]
        }
      ],
      "source": [
        "x = 2\n",
        "print (\"x =\", x)\n",
        "if x % 2 == 0:\n",
        "    print (\"x is even\")\n",
        "    print (\"to repeat, x is even\")\n",
        "else:\n",
        "    print (\"x is odd\")\n",
        "print (\"2x =\", 2*x)"
      ],
      "id": "0ee0db42-553e-4e26-90f8-0d58f7876cc3"
    },
    {
      "cell_type": "markdown",
      "metadata": {},
      "source": [
        "## Indentation rules\n",
        "\n",
        "-   A colon (`:`) denotes the start of an indented block.\n",
        "\n",
        "-   All code in an indented block must be indented by the same amount\n",
        "    until the end of the block. The block continues as long as the\n",
        "    indentation is maintained. Blank lines can be used within indented\n",
        "    blocks.\n",
        "\n",
        "-   Google Colab (and many code editors) automatically convert every tab\n",
        "    stop to two or four spaces, which is recommended as a good\n",
        "    compromise. However Python doesn’t insist on a specific amount of\n",
        "    indentation.\n",
        "\n",
        "## `if`-`else` statements\n",
        "\n",
        "-   Basic structure:\n",
        "\n",
        "``` python\n",
        "if <logical expression a>:\n",
        "    <code block to execute when a is True>\n",
        "elif <logical expression b>:\n",
        "    <code block to execute when a is False and b is True>\n",
        "elif <logical expression c>\n",
        "    <code block to execute when a and b is False and c is True>\n",
        "...\n",
        "else:\n",
        "    <code block executed when all logical expressions above are False>\n",
        "```\n",
        "\n",
        "-   The logical expressions are the values of Boolean variables.\n",
        "\n",
        "------------------------------------------------------------------------\n",
        "\n",
        "### `if`-`else` examples"
      ],
      "id": "57c25c09-c0cf-438f-a97b-9caecea73b7d"
    },
    {
      "cell_type": "code",
      "execution_count": 49,
      "metadata": {},
      "outputs": [
        {
          "output_type": "stream",
          "name": "stdout",
          "text": [
            "7 is positive."
          ]
        }
      ],
      "source": [
        "y = 7\n",
        "if y > 0:\n",
        "    print (y, \"is positive.\")"
      ],
      "id": "1647d6c9-5e71-48c0-ab11-f2a822e07b8a"
    },
    {
      "cell_type": "code",
      "execution_count": 50,
      "metadata": {},
      "outputs": [
        {
          "output_type": "stream",
          "name": "stdout",
          "text": [
            "7 is not even."
          ]
        }
      ],
      "source": [
        "if y % 2 == 0:\n",
        "    print (y, \"is even.\")\n",
        "else:\n",
        "    print (y, \"is not even.\")"
      ],
      "id": "0d372512-3b1e-4857-9093-0f516b3c2592"
    },
    {
      "cell_type": "code",
      "execution_count": 51,
      "metadata": {},
      "outputs": [
        {
          "output_type": "stream",
          "name": "stdout",
          "text": [
            "5 < 7 <= 10"
          ]
        }
      ],
      "source": [
        "y = 7\n",
        "if 0 < y and y <= 5:\n",
        "    print (\"0 <\", y, \"<= 5\")\n",
        "elif 5 < y <= 10:\n",
        "    print (\"5 <\", y, \"<= 10\")\n",
        "else:\n",
        "    print (y, \"> 10 or\", y, \"<= 0.\")"
      ],
      "id": "28073a56-ff7a-4626-9654-df635750a2d9"
    },
    {
      "cell_type": "markdown",
      "metadata": {},
      "source": [
        "------------------------------------------------------------------------\n",
        "\n",
        "### Conditional expressions\n",
        "\n",
        "-   Python has a *ternary operator* that allow us to compress\n",
        "    `if`-`else` statements:\n",
        "\n",
        "``` python\n",
        "<expression-if-true> if <condition> else <expression-if-false>\n",
        "```\n",
        "\n",
        "A few examples:"
      ],
      "id": "b6a30ce2-e0d0-4dda-ba53-33aa65361ccd"
    },
    {
      "cell_type": "code",
      "execution_count": 52,
      "metadata": {},
      "outputs": [
        {
          "output_type": "stream",
          "name": "stdout",
          "text": [
            "z is positive: False\n",
            "Absolute value of z is 3"
          ]
        }
      ],
      "source": [
        "z = -3\n",
        "positive = True if z > 0 else False\n",
        "print(\"z is positive:\", positive)\n",
        "absz = z if z > 0 else -z\n",
        "print(\"Absolute value of z is\", absz)"
      ],
      "id": "f3d36db0-0a40-4ffd-b343-0448b6e6071f"
    },
    {
      "cell_type": "markdown",
      "metadata": {},
      "source": [
        "## `for` loops\n",
        "\n",
        "-   Useful when the number of repetitions are known.\n",
        "-   Loops over a `range`, `list` or list-like object.\n",
        "-   Usage:\n",
        "\n",
        "``` python\n",
        "for <variable> in <list or range>:\n",
        "    <code block to repeat>\n",
        "```\n",
        "\n",
        "-   Examples:"
      ],
      "id": "9ea03152-ccd0-4f92-b644-e1bd03da229c"
    },
    {
      "cell_type": "code",
      "execution_count": 53,
      "metadata": {},
      "outputs": [
        {
          "output_type": "stream",
          "name": "stdout",
          "text": [
            "30"
          ]
        }
      ],
      "source": [
        "# Summing the squares of 0, 1, 2, 3, 4\n",
        "sum = 0\n",
        "for item in range(5):\n",
        "    sum += item**2\n",
        "print(sum)"
      ],
      "id": "6b9c9c66-dde6-4908-bd5b-6280b1bfc61c"
    },
    {
      "cell_type": "markdown",
      "metadata": {},
      "source": [
        "------------------------------------------------------------------------\n",
        "\n",
        "### ‘for’ loop examples"
      ],
      "id": "b4dff7ef-0c0a-40cc-bdbc-60abf67cec59"
    },
    {
      "cell_type": "code",
      "execution_count": 54,
      "metadata": {},
      "outputs": [
        {
          "output_type": "stream",
          "name": "stdout",
          "text": [
            "first item\n",
            "middle item\n",
            "last item"
          ]
        }
      ],
      "source": [
        "# Printing items in a list\n",
        "my_list = [\"first item\", \"middle item\", \"last item\"]\n",
        "for item in my_list:\n",
        "    print(item)"
      ],
      "id": "f86f620c-cc33-497b-9df8-056aef121cd1"
    },
    {
      "cell_type": "code",
      "execution_count": 55,
      "metadata": {},
      "outputs": [
        {
          "output_type": "stream",
          "name": "stdout",
          "text": [
            "1 is an odd number.\n",
            "2 is an even number.\n",
            "3 is an odd number.\n",
            "4 is an even number."
          ]
        }
      ],
      "source": [
        "# More complex example with nested indentation\n",
        "for i in range(1, 5):\n",
        "    if i % 2 == 0:\n",
        "        message = f\"{i} is an even number.\"\n",
        "    else:\n",
        "        message = f\"{i} is an odd number.\"\n",
        "    print(message)"
      ],
      "id": "b74b45da-818d-4e74-b12e-52071145ffd5"
    },
    {
      "cell_type": "markdown",
      "metadata": {},
      "source": [
        "------------------------------------------------------------------------\n",
        "\n",
        "### List comprehensions\n",
        "\n",
        "-   `for` and `if` can be used to filter lists:\n",
        "\n",
        "``` python\n",
        "[<expression> for <object> in <list/collection> if <logical condition>]\n",
        "```\n",
        "\n",
        "-   Examples:"
      ],
      "id": "21b502bd-4a61-4d5f-81e9-48cb6c060464"
    },
    {
      "cell_type": "code",
      "execution_count": 56,
      "metadata": {},
      "outputs": [
        {
          "output_type": "stream",
          "name": "stdout",
          "text": [
            "list of squares = [0, 1, 4, 9, 16, 25]\n",
            "list of even numbers = [0, 2, 4]"
          ]
        }
      ],
      "source": [
        "my_list = [0, 1, 2, 3, 4, 5]\n",
        "my_list_squares = [item**2 for item in my_list]\n",
        "print(\"list of squares =\", my_list_squares)\n",
        "my_list_even = [i for i in my_list if i % 2 == 0]\n",
        "print(\"list of even numbers =\", my_list_even)"
      ],
      "id": "48f125dd-1578-4ffc-a079-b80d2cee18c9"
    },
    {
      "cell_type": "markdown",
      "metadata": {},
      "source": [
        "------------------------------------------------------------------------\n",
        "\n",
        "## `while` loops\n",
        "\n",
        "-   Useful when code is repeated while a logical condition remains true.\n",
        "-   Useful when unsure how many repetitions are needed.\n",
        "\n",
        "``` python\n",
        "while <logical expression>:\n",
        "    <code block to execute repeatedly while logical expression remains True>\n",
        "```\n",
        "\n",
        "-   Example:"
      ],
      "id": "03dae0d5-9046-4ded-85e4-f286fe0f269d"
    },
    {
      "cell_type": "code",
      "execution_count": 57,
      "metadata": {},
      "outputs": [
        {
          "output_type": "stream",
          "name": "stdout",
          "text": [
            "30"
          ]
        }
      ],
      "source": [
        "sum = 0\n",
        "item = 0\n",
        "while item < 5:\n",
        "    sum += item**2\n",
        "    item += 1\n",
        "print(sum)"
      ],
      "id": "8aae24b7-fd25-478f-8e59-2b8188537db2"
    },
    {
      "cell_type": "markdown",
      "metadata": {},
      "source": [
        "------------------------------------------------------------------------\n",
        "\n",
        "### `while` examples\n",
        "\n",
        "-   Find the smallest power of 2 larger than 1000:"
      ],
      "id": "784e781c-f2ac-4a0e-8432-4eece9870c40"
    },
    {
      "cell_type": "code",
      "execution_count": 58,
      "metadata": {},
      "outputs": [
        {
          "output_type": "stream",
          "name": "stdout",
          "text": [
            "p = 10 and 512 = 2^9 <= 1000 < 2^10 = 1024"
          ]
        }
      ],
      "source": [
        "p = 0\n",
        "while 2**p <= 1000:\n",
        "    p += 1\n",
        "print(f\"p = {p} and \" \n",
        "      f\"{2**(p-1)} = 2^{p-1} <= 1000 < 2^{p} = {2**p}\")"
      ],
      "id": "d25e1806-1405-4dea-b4c7-b81a9b511cf0"
    },
    {
      "cell_type": "markdown",
      "metadata": {},
      "source": [
        "-   If the logical expression is `False` from the start, then the\n",
        "    `while` loop is never entered:"
      ],
      "id": "97961aa0-c852-4652-9df1-e6611a7186ff"
    },
    {
      "cell_type": "code",
      "execution_count": 59,
      "metadata": {},
      "outputs": [
        {
          "output_type": "stream",
          "name": "stdout",
          "text": [
            "p = 0, 2^-1 = 0.5, 2^0 = 1"
          ]
        }
      ],
      "source": [
        "p = 0\n",
        "while 2**p <= 0:\n",
        "    p += 1\n",
        "print(f\"p = {p}, 2^{p-1} = {2**(p-1)}, 2^{p} = {2**p}\")"
      ],
      "id": "63e742a3-57a9-4a12-a276-909558c1511d"
    },
    {
      "cell_type": "markdown",
      "metadata": {},
      "source": [
        "# Functions\n",
        "\n",
        "-   Functions are useful for:\n",
        "    -   Reusing rather than repeating code we’ve already written.\n",
        "    -   Separating different tasks in a program.\n",
        "    -   Structuring our code by grouping tasks together.\n",
        "\n",
        "## Defining a function\n",
        "\n",
        "-   Syntax:\n",
        "\n",
        "``` python\n",
        "def <function name> (<argument(s)>):\n",
        "    \"\"\"<optional string literal \n",
        "    with brief description>\"\"\"\n",
        "    <code block>\n",
        "    return <value(s)>\n",
        "```\n",
        "\n",
        "-   Function names follow the same rules as variable names.\n",
        "\n",
        "-   `return` statement is optional:\n",
        "\n",
        "    -   Special value `None` is returned if `return` statement is\n",
        "        missing.\n",
        "    -   Multiple `return` statements are allowed.\n",
        "\n",
        "## Function arguments\n",
        "\n",
        "-   Arguments are separated by commas (`,`).\n",
        "-   **Positional arguments** must be specified (in correct order) to use\n",
        "    a function.\n",
        "-   **Keyword arguments** are used to specify optional arguments and/or\n",
        "    default values. Can be specified in any order.\n",
        "-   Positional arguments listed first, before keyword arguments.\n",
        "-   Example:"
      ],
      "id": "93619537-b970-4307-87d9-13ae153b0a22"
    },
    {
      "cell_type": "code",
      "execution_count": 1,
      "metadata": {},
      "outputs": [
        {
          "output_type": "stream",
          "name": "stdout",
          "text": [
            "6 is a multiple of 2: True\n",
            "6 is a multiple of 3: True"
          ]
        }
      ],
      "source": [
        "def is_multiple (number, factor = 2):\n",
        "    \"Tests whether one integer is a multiple of another.\"\n",
        "    if number % factor == 0:\n",
        "        return True\n",
        "    else:\n",
        "        return False\n",
        "\n",
        "print(\"6 is a multiple of 2:\", is_multiple(6))\n",
        "print(\"6 is a multiple of 3:\", is_multiple (6, factor=3))"
      ],
      "id": "927e2302-6cda-40f3-a27e-47073c7ee7b6"
    },
    {
      "cell_type": "markdown",
      "metadata": {},
      "source": [
        "## Function docstring\n",
        "\n",
        "-   Comment string helps make code readable and helps with coding.\n",
        "-   Optional but strongly recommended (omitted on slides for fit only!).\n",
        "-   Example:"
      ],
      "id": "bda3f0f1-af9e-4de4-a867-672e50dce604"
    },
    {
      "cell_type": "code",
      "execution_count": 2,
      "metadata": {
        "scrolled": true
      },
      "outputs": [
        {
          "output_type": "stream",
          "name": "stdout",
          "text": [
            "Help on function is_multiple in module __main__:\n",
            "\n",
            "is_multiple(number, factor=2)\n",
            "    Tests whether one integer is a multiple of another.\n"
          ]
        }
      ],
      "source": [
        "help(is_multiple)"
      ],
      "id": "941bbd8d-700b-44ea-977e-60bdf3eddfd5"
    },
    {
      "cell_type": "markdown",
      "metadata": {},
      "source": [
        "## Local and global namespace\n",
        "\n",
        "-   Variables created inside the function are assigned in local\n",
        "    *namespace* and destroyed when the function exits.\n",
        "-   Example:\n",
        "\n",
        "``` python\n",
        "def my_function():\n",
        "    a = 6\n",
        "    print(\"a in function =\",a)\n",
        "    \n",
        "my_function()\n",
        "print(\"a outside function =\",a)\n",
        "```"
      ],
      "id": "677cd804-0c14-4149-8965-f14123d18988"
    },
    {
      "cell_type": "code",
      "execution_count": 3,
      "metadata": {},
      "outputs": [
        {
          "output_type": "stream",
          "name": "stdout",
          "text": [
            "a in function = 6\n",
            "NameError: name 'a' is not defined"
          ]
        }
      ],
      "source": [],
      "id": "7c6c14a0-a215-4603-acc7-68b65011fe9b"
    },
    {
      "cell_type": "markdown",
      "metadata": {},
      "source": [
        "------------------------------------------------------------------------\n",
        "\n",
        "### Higher scope\n",
        "\n",
        "-   Functions can also access variables created outside the function in\n",
        "    higher (or *global*) *scope*.\n",
        "-   Useful but dangerous because:\n",
        "    -   Global variables can change unexpectedly.\n",
        "    -   It can be hard to keep track of which functions use global\n",
        "        variables.\n",
        "-   Example:"
      ],
      "id": "9014f425-cf2d-4874-bc09-57ee648254d2"
    },
    {
      "cell_type": "code",
      "execution_count": 4,
      "metadata": {},
      "outputs": [
        {
          "output_type": "stream",
          "name": "stdout",
          "text": [
            "a = 6"
          ]
        }
      ],
      "source": [
        "a = 6\n",
        "\n",
        "def my_function():\n",
        "    print(\"a =\",a)\n",
        "    \n",
        "my_function()"
      ],
      "id": "e60228d3-cb3f-4d12-a741-b96879da4f27"
    },
    {
      "cell_type": "markdown",
      "metadata": {},
      "source": [
        "------------------------------------------------------------------------\n",
        "\n",
        "### Global variables\n",
        "\n",
        "-   The value of a global variable cannot be changed inside a function\n",
        "    (without using the `global` keyword).\n",
        "-   Example:"
      ],
      "id": "6a28fb9d-7465-4cb2-a6ac-2f3cd695a2d0"
    },
    {
      "cell_type": "code",
      "execution_count": 5,
      "metadata": {},
      "outputs": [
        {
          "output_type": "stream",
          "name": "stdout",
          "text": [
            "inside function a = 5\n",
            "outside function a = 6"
          ]
        }
      ],
      "source": [
        "a = 6\n",
        "\n",
        "def my_function():\n",
        "    a = 5\n",
        "    print(\"inside function a =\",a)\n",
        "    \n",
        "my_function()\n",
        "print(\"outside function a =\",a)"
      ],
      "id": "dd0ea545-fc97-4c52-bf14-f9ca481b44ce"
    },
    {
      "cell_type": "markdown",
      "metadata": {},
      "source": [
        "------------------------------------------------------------------------\n",
        "\n",
        "### Use parameters instead\n",
        "\n",
        "-   Much better to use arguments instead of global variables.\n",
        "-   Example:"
      ],
      "id": "2f6ed1e6-4c47-4278-b3e9-944cc32b4fdb"
    },
    {
      "cell_type": "code",
      "execution_count": 6,
      "metadata": {},
      "outputs": [
        {
          "output_type": "stream",
          "name": "stdout",
          "text": [
            "inside function a = 6\n",
            "inside function a = 5"
          ]
        }
      ],
      "source": [
        "a = 6\n",
        "\n",
        "def my_function(a):\n",
        "    print(\"inside function a =\",a)\n",
        "    \n",
        "my_function(a)\n",
        "my_function(5)"
      ],
      "id": "7291fec2-5e43-47d0-b1d8-3fa657d0080d"
    },
    {
      "cell_type": "markdown",
      "metadata": {},
      "source": [
        "## Returning multiple values\n",
        "\n",
        "-   It’s possible to return multiple values from a function.\n",
        "-   The function is returning an object of type `tuple`, which is\n",
        "    unpacked into result variables if needed.\n",
        "-   Example:"
      ],
      "id": "6eaac03c-219e-4eed-873f-0b435609dca0"
    },
    {
      "cell_type": "code",
      "execution_count": 7,
      "metadata": {},
      "outputs": [
        {
          "output_type": "stream",
          "name": "stdout",
          "text": [
            "a = 1, b = 2, c = 3\n",
            "result = (1, 2, 3)"
          ]
        }
      ],
      "source": [
        "def my_function():\n",
        "    return 1, 2, 3\n",
        "\n",
        "a, b, c = my_function()\n",
        "print (f\"a = {a}, b = {b}, c = {c}\")\n",
        "\n",
        "result = my_function()\n",
        "print (\"result =\", result)"
      ],
      "id": "00e7528d-69c2-434c-9cb6-972fa27d0fcd"
    },
    {
      "cell_type": "markdown",
      "metadata": {},
      "source": [
        "## Anonymous (`lambda`) functions\n",
        "\n",
        "-   An anonymous or lambda function is a way of writing a function\n",
        "    consisting of a single statement.\n",
        "-   Syntax:\n",
        "\n",
        "``` python\n",
        "lambda <argument>: <value>\n",
        "```\n",
        "\n",
        "-   Equivalent ways of defining the same function:"
      ],
      "id": "4d54ea8b-20f2-4e3c-88e0-46e5e03104ba"
    },
    {
      "cell_type": "code",
      "execution_count": 8,
      "metadata": {},
      "outputs": [],
      "source": [
        "def my_function(x):\n",
        "    return x + 2\n",
        "\n",
        "my_function = lambda x: x + 2"
      ],
      "id": "0b81bd7d-c1c0-470e-b2d4-b849ccdb250e"
    },
    {
      "cell_type": "markdown",
      "metadata": {},
      "source": [
        "## Functions are objects\n",
        "\n",
        "-   Functions are objects and can be passed as parameters.\n",
        "-   `lambda` functions are very useful for this.\n",
        "-   Example:"
      ],
      "id": "550e5da6-b010-48c4-886c-1bf3bfb143a3"
    },
    {
      "cell_type": "code",
      "execution_count": 9,
      "metadata": {},
      "outputs": [
        {
          "output_type": "stream",
          "name": "stdout",
          "text": [
            "[3, 4, 5]\n",
            "[-1, 0, 1]"
          ]
        }
      ],
      "source": [
        "def apply_to_list (my_list, my_func):\n",
        "    return [my_func(x) for x in my_list]\n",
        "\n",
        "result1 = apply_to_list([1,2,3], my_function)\n",
        "result2 = apply_to_list([1,2,3], lambda x: x-2)\n",
        "print(result1)\n",
        "print(result2)"
      ],
      "id": "2a0b3024-ee70-46f5-ae8a-7153090d3043"
    },
    {
      "cell_type": "markdown",
      "metadata": {},
      "source": [
        "-   Functions can also be returned from functions.\n",
        "\n",
        "# Further reading\n",
        "\n",
        "## Books\n",
        "\n",
        "-   These slides are based on pp. 62–80 by Hilpisch (2019).\n",
        "\n",
        "-   A few recommended books:\n",
        "\n",
        "    -   Smith (2020), Sections 3.2–3.5.\n",
        "\n",
        "    -   McKinney (2022), Sections 2.3 and 3.1–3.2.\n",
        "\n",
        "    -   Downey (2016), Chapters 2, 5, 7, 8, 10, 12.\n",
        "\n",
        "## Online resources\n",
        "\n",
        "-   There are many good resources for learning Python programming.\n",
        "\n",
        "-   Check that the resource covers Python 3—it is very different from\n",
        "    Python 2. One clue is the `print` statement—Python 2 has `print a`\n",
        "    but Python 3 has `print(a)`.\n",
        "\n",
        "-   A few recommended online tutorials:\n",
        "\n",
        "    -   Bostroem, Bekolay, and Staneva (2016)\n",
        "    -   Pussinen et al. (2023)\n",
        "    -   McOwen (2021)\n",
        "    -   The Python Software Foundation (2024)\n",
        "\n",
        "## References\n",
        "\n",
        "Bostroem, Azalee, Trevor Bekolay, and Valentina Staneva. 2016. “Software\n",
        "Carpentry: Programming with Python.”\n",
        "<https://doi.org/10.5281/zenodo.57492>.\n",
        "\n",
        "Downey, Allen. 2016. *Think Python: How to Think Like a Computer\n",
        "Scientist*. 2nd ed. O’Reilly.\n",
        "<https://greenteapress.com/wp/think-python-2e/>.\n",
        "\n",
        "Hilpisch, Yves. 2019. *Python for Finance: Mastering Data-Driven\n",
        "Finance*. 2nd ed. O’Reilly.\n",
        "\n",
        "IEEE. 2008. “IEEE Standard for Floating-Point Arithmetic.”\n",
        "<https://doi.org/10.1109/IEEESTD.2008.4610935>.\n",
        "\n",
        "McKinney, Wes. 2022. *Python for Data Analysis: Data Wrangling with\n",
        "Pandas, NumPy & Jupyter*. 3rd edition. O’Reilly.\n",
        "<https://wesmckinney.com/book/>.\n",
        "\n",
        "McOwen, Sean. 2021. “FinanceAndPython.com Tutorial: Python Primer.”\n",
        "[https://github.com/FinanceAndPython/FinanceAndPython.com/tree/master/Python\n",
        "Primer](https://github.com/FinanceAndPython/FinanceAndPython.com/tree/master/Python Primer).\n",
        "\n",
        "Pussinen, Jerry et al. 2023. “Learn Python 3.”\n",
        "<https://github.com/jerry-git/learn-python3>.\n",
        "\n",
        "Smith, Einar. 2020. *Introduction to the Tools of Scientific Computing*.\n",
        "Springer.\n",
        "<https://yorsearch.york.ac.uk/permalink/f/7htm32/TN_cdi_openaire_primary_doi_dedup_9c7df322731b6cea4969322abe566638>.\n",
        "\n",
        "The Python Software Foundation. 2023a.\n",
        "“<span class=\"nocase\">decimal</span>: Decimal Fixed Point and Floating\n",
        "Point Arithmetic.” <https://docs.python.org/3/library/decimal.html>.\n",
        "\n",
        "———. 2023b. “<span class=\"nocase\">keyword</span>: Testing for Python\n",
        "Keywords.” <https://docs.python.org/3/library/keyword.html>.\n",
        "\n",
        "———. 2023c. “Sequence Types: <span class=\"nocase\">list</span>,\n",
        "<span class=\"nocase\">tuple</span>, <span class=\"nocase\">range</span>.”\n",
        "<https://docs.python.org/3/library/stdtypes.html#text-sequence-type-str>.\n",
        "\n",
        "———. 2024. “The Python Tutorial.”\n",
        "<https://docs.python.org/3/tutorial/index.html>."
      ],
      "id": "996f51d4-3a65-4e99-8c90-4ac2c94d17d5"
    }
  ],
  "nbformat": 4,
  "nbformat_minor": 5,
  "metadata": {
    "kernelspec": {
      "name": "conda-env-compfin-py",
      "display_name": "Python [conda env:compfin]",
      "language": "python"
    },
    "language_info": {
      "name": "python",
      "codemirror_mode": {
        "name": "ipython",
        "version": "3"
      },
      "file_extension": ".py",
      "mimetype": "text/x-python",
      "nbconvert_exporter": "python",
      "pygments_lexer": "ipython3",
      "version": "3.10.16"
    }
  }
}