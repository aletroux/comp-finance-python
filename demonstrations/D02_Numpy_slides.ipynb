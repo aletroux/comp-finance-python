{
  "cells": [
    {
      "cell_type": "markdown",
      "metadata": {},
      "source": [
        "# Introduction to NumPy\n",
        "\n",
        "Computational Finance with Python\n",
        "\n",
        "[Alet Roux](https://www.york.ac.uk/maths/staff/alet-roux/) ([Department\n",
        "of Mathematics](https://maths.york.ac.uk), University of York)\n",
        "\n",
        "Click on the following to open this file in Google Colab:\n",
        "\n",
        "<figure>\n",
        "<a\n",
        "href=\"https://colab.research.google.com/github/aletroux/comp-finance-python/blob/main/demonstrations/D02_Numpy_slides.ipynb\"><img\n",
        "src=\"https://colab.research.google.com/assets/colab-badge.svg\"\n",
        "alt=\"Open In Colab\" /></a>\n",
        "<figcaption>Open In Colab</figcaption>\n",
        "</figure>\n",
        "\n",
        "# NumPy\n",
        "\n",
        "-   [Numpy](https://numpy.org/) is an important foundational package for\n",
        "    numerical computing in Python.\n",
        "-   Some features:\n",
        "    -   Powerful multidimensional array object.\n",
        "    -   Mathematical functions for fast operation on arrays.\n",
        "    -   Linear algebra, random number generation, Fourier transform,\n",
        "        etc.\n",
        "    -   Ability to connect with C, C++ and FORTRAN libraries for\n",
        "        performance computing.\n",
        "-   We will focus on one and two dimensional arrays. Arrays work similar\n",
        "    in higher dimensions.\n",
        "\n",
        "# Numpy performance\n",
        "\n",
        "-   NumPy is designed for efficiency on large amounts of data:\n",
        "    -   Data stored internally in a contiguous block of memory.\n",
        "    -   Can perform complex computations on arrays without the need for\n",
        "        Python `for` loops, which can be slow for large sequences."
      ],
      "id": "cb00c7ec-508e-423d-a452-d05411e6a063"
    },
    {
      "cell_type": "code",
      "execution_count": 10,
      "metadata": {},
      "outputs": [
        {
          "output_type": "stream",
          "name": "stdout",
          "text": [
            "52 ms ± 6.55 ms per loop (mean ± std. dev. of 7 runs, 10 loops each)"
          ]
        }
      ],
      "source": [
        "my_list = list(range(1_000_000))\n",
        "%timeit my_list2 = [x * 2 for x in my_list]"
      ],
      "id": "a77d6fcf-15b6-43cf-9c2b-3ad735802968"
    },
    {
      "cell_type": "code",
      "execution_count": 11,
      "metadata": {},
      "outputs": [
        {
          "output_type": "stream",
          "name": "stdout",
          "text": [
            "2.03 ms ± 317 μs per loop (mean ± std. dev. of 7 runs, 1,000 loops each)"
          ]
        }
      ],
      "source": [
        "import numpy as np\n",
        "my_arr = np.arange(1_000_000)\n",
        "%timeit my_arr2 = my_arr * 2"
      ],
      "id": "5a08ec23-9701-4612-9f19-c668a0ac4411"
    },
    {
      "cell_type": "markdown",
      "metadata": {},
      "source": [
        "-   NumPy-based algorithms are generally 10 to 100 times faster than\n",
        "    list-based Python algorithms.\n",
        "\n",
        "# Using NumPy\n",
        "\n",
        "-   Standard NumPy convention is to use `import numpy as np`.\n",
        "-   Then NumPy functions and variables are prefixed by `np.`, for\n",
        "    example `np.exp`, `np.pi`, `np.array`.\n",
        "-   There are other possibilities. For example, `from numpy import *`\n",
        "    means we don’t need the `np` prefix.\n",
        "-   However, `numpy` namespace is very big and contains a number of\n",
        "    functions whose names conflict with built-in Python functions (like\n",
        "    `min` and `max`) and functions defined in other libraries. Thus the\n",
        "    standard NumPy convention is strongly recommended.\n",
        "\n",
        "# NumPy arrays\n",
        "\n",
        "-   Like lists but:\n",
        "    -   Length cannot be changed.\n",
        "    -   Elements must all be of same type.\n",
        "-   The easiest way to create an array is the `array` function. This\n",
        "    function accepts all sequence-like types such as `list` and `tuple`.\n",
        "-   Example:"
      ],
      "id": "61c4a967-67ed-48b8-90ec-f059c2318748"
    },
    {
      "cell_type": "code",
      "execution_count": 12,
      "metadata": {},
      "outputs": [
        {
          "output_type": "stream",
          "name": "stdout",
          "text": [
            "[1.  3.4 8. ]"
          ]
        }
      ],
      "source": [
        "list1 = [1, 3.4, 8]\n",
        "array1 = np.array(list1)\n",
        "print(array1)"
      ],
      "id": "737dbc34-dde7-4db8-a587-24bfcffe220c"
    },
    {
      "cell_type": "markdown",
      "metadata": {},
      "source": [
        "-   Nested lists become multi-dimensional arrays:"
      ],
      "id": "4b5b1bd0-c8be-456a-b860-5a2a688ca321"
    },
    {
      "cell_type": "code",
      "execution_count": 13,
      "metadata": {},
      "outputs": [
        {
          "output_type": "stream",
          "name": "stdout",
          "text": [
            "[[1 3]\n",
            " [2 4]]"
          ]
        }
      ],
      "source": [
        "list2 = [[1, 3], [2, 4]]\n",
        "array2 = np.array(list2)\n",
        "print(array2)"
      ],
      "id": "b28dbd4d-b567-4500-b705-8b9db8e48ccf"
    },
    {
      "cell_type": "markdown",
      "metadata": {},
      "source": [
        "## Array properties\n",
        "\n",
        "-   Number of dimensions/axes:"
      ],
      "id": "7a46882e-8462-4c09-8654-8b45b2afde6b"
    },
    {
      "cell_type": "code",
      "execution_count": 14,
      "metadata": {},
      "outputs": [
        {
          "output_type": "stream",
          "name": "stdout",
          "text": [
            "array3 =\n",
            " [[1 2 3]\n",
            " [4 5 6]]\n",
            "Number of dimensions = 2"
          ]
        }
      ],
      "source": [
        "array3 = np.array([[1, 2, 3], [4, 5, 6]])\n",
        "print(\"array3 =\\n\", array3)\n",
        "print(\"Number of dimensions =\",array3.ndim)"
      ],
      "id": "c00585e1-a229-41db-8ba3-37c615ffc11d"
    },
    {
      "cell_type": "markdown",
      "metadata": {},
      "source": [
        "-   Shape inferred from data:"
      ],
      "id": "ef7c90f1-8ff7-4392-9198-b39026049731"
    },
    {
      "cell_type": "code",
      "execution_count": 15,
      "metadata": {},
      "outputs": [
        {
          "output_type": "stream",
          "name": "stdout",
          "text": [
            "Shape = (2, 3)"
          ]
        }
      ],
      "source": [
        "print(\"Shape =\", array3.shape)"
      ],
      "id": "d6adc900-93bb-4972-9fb0-42caace3b033"
    },
    {
      "cell_type": "markdown",
      "metadata": {},
      "source": [
        "-   Data type inferred from data:"
      ],
      "id": "0ee8432a-a427-49c9-8d72-394379197607"
    },
    {
      "cell_type": "code",
      "execution_count": 16,
      "metadata": {},
      "outputs": [
        {
          "output_type": "stream",
          "name": "stdout",
          "text": [
            "Data type= int64"
          ]
        }
      ],
      "source": [
        "print(\"Data type=\", array3. dtype)"
      ],
      "id": "1e11273a-f550-40c5-8901-bb4ecf100a98"
    },
    {
      "cell_type": "markdown",
      "metadata": {},
      "source": [
        "-   Many other possibilities, such as `'float64'`.\n",
        "\n",
        "## Creating new arrays\n",
        "\n",
        "-   Number of different ways to create new arrays, for example:"
      ],
      "id": "65f8fa48-83f7-4773-9308-b19b52063075"
    },
    {
      "cell_type": "code",
      "execution_count": 17,
      "metadata": {},
      "outputs": [
        {
          "output_type": "stream",
          "name": "stdout",
          "text": [
            "array4 =\n",
            " [0. 0. 0. 0.]\n",
            "array5 =\n",
            " [[[1. 1. 1.]\n",
            "  [1. 1. 1.]\n",
            "  [1. 1. 1.]]\n",
            "\n",
            " [[1. 1. 1.]\n",
            "  [1. 1. 1.]\n",
            "  [1. 1. 1.]]]\n",
            "array6 =\n",
            " [[1 1 1]\n",
            " [1 1 1]]"
          ]
        }
      ],
      "source": [
        "array4 = np.zeros(4)\n",
        "print('array4 =\\n', array4)\n",
        "\n",
        "array5 = np.ones((2, 3, 3))\n",
        "print('array5 =\\n', array5)\n",
        "\n",
        "array6 = np.ones_like(array3)\n",
        "print('array6 =\\n', array6)"
      ],
      "id": "e78e471f-91dc-4c92-99b8-8fc0087e76a1"
    },
    {
      "cell_type": "markdown",
      "metadata": {},
      "source": [
        "## Important array creation functions\n",
        "\n",
        "| Function | Description |\n",
        "|--------------------|----------------------------------------------------|\n",
        "| `array`, `asarray` | Convert input to NumPy array. `array` data by default, `asarray` does not copy data if input already a NumPy array. |\n",
        "| `arange` | Like built-in `range` but creates NumPy array. |\n",
        "| `linspace` | Similar to built-in `range` but creates floating point array, and allows non-integer step sizes. |\n",
        "| `ones`, `ones_like` | Produces array of all 1s with given shape and data type. |\n",
        "| `zeros`, `zeros_like` | Produces array of all 0s with given shape and data type. |\n",
        "| `empty`, `empty_like` | Allocates memory, but does not populate with values. |\n",
        "| `full`, `full_like` | Creates array with given shape and data type with all values set to given *fill value*. |\n",
        "| `eye`, `identity` | Square identity matrix (1s on diagonal, 0s elsewhere). |\n",
        "\n",
        "-   More details in [NumPy\n",
        "    Reference](https://numpy.org/doc/stable/reference/routines.array-creation.html)\n",
        "    (NumPy Developers (2023))\n",
        "\n",
        "## Array functions\n",
        "\n",
        "-   Arrays have many built-in elements for calculating useful quantites.\n",
        "-   Examples:"
      ],
      "id": "a560c019-675d-4478-8044-d9dff743b718"
    },
    {
      "cell_type": "code",
      "execution_count": 18,
      "metadata": {},
      "outputs": [
        {
          "output_type": "stream",
          "name": "stdout",
          "text": [
            "array = [0.         1.57079633 3.14159265]\n",
            "min = 0.0\n",
            "max = 3.141592653589793\n",
            "sum = 4.71238898038469\n",
            "standard deviation = 1.282549830161864"
          ]
        }
      ],
      "source": [
        "array = np.linspace(0, np.pi, 3)\n",
        "print (\"array =\", array)\n",
        "print (\"min =\",array.min())\n",
        "print (\"max =\",array.max())\n",
        "print (\"sum =\", array.sum())\n",
        "print (\"standard deviation =\", array.std())"
      ],
      "id": "de22bd25-e02d-4a98-ac9d-2b01bf3688ba"
    },
    {
      "cell_type": "markdown",
      "metadata": {},
      "source": [
        "## Array arithmetic\n",
        "\n",
        "-   Arrays allow batch operations without writing `for` loops. This is\n",
        "    called **vectorisation**.\n",
        "-   Examples:"
      ],
      "id": "e2d11c85-f183-4b66-a791-24023f633d91"
    },
    {
      "cell_type": "code",
      "execution_count": 19,
      "metadata": {},
      "outputs": [
        {
          "output_type": "stream",
          "name": "stdout",
          "text": [
            "array + 2 =\n",
            " [[3 4 5]\n",
            " [6 7 8]]\n",
            "1/array =\n",
            " [[1.         0.5        0.33333333]\n",
            " [0.25       0.2        0.16666667]]"
          ]
        }
      ],
      "source": [
        "array = np.array([[1, 2, 3], [4, 5, 6]])\n",
        "print (\"array + 2 =\\n\",array + 2)\n",
        "print (\"1/array =\\n\",1 / array)"
      ],
      "id": "1c142a99-b2eb-4278-b6af-014664b9aa7d"
    },
    {
      "cell_type": "markdown",
      "metadata": {},
      "source": [
        "-   Arithmetic between equal size arrays apply the operation\n",
        "    element-wise:"
      ],
      "id": "59092d14-5447-4acf-b74c-8b27f56868e4"
    },
    {
      "cell_type": "code",
      "execution_count": 20,
      "metadata": {},
      "outputs": [
        {
          "output_type": "stream",
          "name": "stdout",
          "text": [
            "array - array =\n",
            " [[0 0 0]\n",
            " [0 0 0]]\n",
            "array * array =\n",
            " [[ 1  4  9]\n",
            " [16 25 36]]"
          ]
        }
      ],
      "source": [
        "print (\"array - array =\\n\",array - array)\n",
        "print (\"array * array =\\n\",array * array)"
      ],
      "id": "9d11ff4f-04c0-4087-92b5-3db910242f80"
    },
    {
      "cell_type": "markdown",
      "metadata": {},
      "source": [
        "## Array comparisons\n",
        "\n",
        "-   Comparisons between arrays of the same size yield Boolean arrays:"
      ],
      "id": "f8ec8ecd-9378-46b0-99bd-dfcb2e86f7d6"
    },
    {
      "cell_type": "code",
      "execution_count": 21,
      "metadata": {},
      "outputs": [
        {
          "output_type": "stream",
          "name": "stdout",
          "text": [
            "array1 > array2?\n",
            " [[False False  True]\n",
            " [False False  True]]\n",
            "array1 <= array2?\n",
            " [[ True  True False]\n",
            " [ True  True False]]\n",
            "array1 == array2?\n",
            " [[False  True False]\n",
            " [False  True False]]"
          ]
        }
      ],
      "source": [
        "array1 = np.array([[1, 2, 3], [4, 5, 6]])\n",
        "array2 = np.array([[3, 2, 1], [6, 5, 4]])\n",
        "print(\"array1 > array2?\\n\", array1 > array2)\n",
        "print(\"array1 <= array2?\\n\", array1 <= array2)\n",
        "print(\"array1 == array2?\\n\", array1 == array2)"
      ],
      "id": "aec7c285-0704-4994-b8c4-90b6fe7e7a98"
    },
    {
      "cell_type": "markdown",
      "metadata": {},
      "source": [
        "## Indexing and slicing in one dimension\n",
        "\n",
        "-   One-dimensional arrays behave similarly to Python lists when it\n",
        "    comes to indexing and slicing.\n",
        "-   Slices provide *views* and are not *copied*.\n",
        "-   Example:"
      ],
      "id": "82131e6a-b04b-4738-990c-41c03d80e58d"
    },
    {
      "cell_type": "code",
      "execution_count": 22,
      "metadata": {},
      "outputs": [
        {
          "output_type": "stream",
          "name": "stdout",
          "text": [
            "array =\n",
            " [0 1 2 3 4]\n",
            "array_slice =\n",
            " [2 3]\n",
            "array after setting slice equal to 12 =\n",
            " [ 0  1 12 12  4]"
          ]
        }
      ],
      "source": [
        "array = np.arange(5)\n",
        "print(\"array =\\n\", array)\n",
        "array_slice = array[2:4]\n",
        "print(\"array_slice =\\n\", array_slice)\n",
        "array_slice[:] = 12\n",
        "print(\"array after setting slice equal to 12 =\\n\", array)"
      ],
      "id": "53555f73-587b-4cfa-b09e-f37eac7c59fd"
    },
    {
      "cell_type": "markdown",
      "metadata": {},
      "source": [
        "## Indexing and slicing in two dimensions\n",
        "\n",
        "-   It is helpful to think of first dimension as *rows* and second\n",
        "    dimension as *columns*:"
      ],
      "id": "4e922730-ff2d-429a-8e97-51b3966f53b3"
    },
    {
      "cell_type": "code",
      "execution_count": 23,
      "metadata": {},
      "outputs": [
        {
          "output_type": "stream",
          "name": "stdout",
          "text": [
            "first row = [1 2 3]"
          ]
        }
      ],
      "source": [
        "array = np.array([[1, 2, 3], [4, 5, 6], [7, 8, 9]])\n",
        "print (\"first row =\", array[0])"
      ],
      "id": "2402fc34-e84d-4877-89ee-c713c1fb7ef4"
    },
    {
      "cell_type": "markdown",
      "metadata": {},
      "source": [
        "-   Individual elements can be accessed in different ways:"
      ],
      "id": "1d5cef84-f7f0-42ea-a40b-2376862da4d9"
    },
    {
      "cell_type": "code",
      "execution_count": 24,
      "metadata": {},
      "outputs": [
        {
          "output_type": "stream",
          "name": "stdout",
          "text": [
            "first row, third item is  3\n",
            "first row, third item is  3"
          ]
        }
      ],
      "source": [
        "print(\"first row, third item is \", array[0][2])\n",
        "print(\"first row, third item is \", array[0, 2])"
      ],
      "id": "e9e21091-a61f-4467-a0bb-aef086dfa85c"
    },
    {
      "cell_type": "markdown",
      "metadata": {},
      "source": [
        "-   Slicing in two dimensions works intuitively:"
      ],
      "id": "ffe7287a-fd06-47ed-8bc6-fa1481cdd134"
    },
    {
      "cell_type": "code",
      "execution_count": 25,
      "metadata": {},
      "outputs": [
        {
          "output_type": "stream",
          "name": "stdout",
          "text": [
            "first two rows =\n",
            " [[1 2 3]\n",
            " [4 5 6]]\n",
            "top right corner =\n",
            " [[2 3]\n",
            " [5 6]]\n",
            "right column =\n",
            " [3 6 9]"
          ]
        }
      ],
      "source": [
        "print(\"first two rows =\\n\", array[:2])\n",
        "print(\"top right corner =\\n\", array[:2, 1:])\n",
        "print(\"right column =\\n\", array[:, -1])"
      ],
      "id": "2ef09994-ac6b-468a-9c44-3a53cca356d4"
    },
    {
      "cell_type": "markdown",
      "metadata": {},
      "source": [
        "## Fancy indexing\n",
        "\n",
        "-   Use Boolean arrays to select elements:"
      ],
      "id": "221ae161-f3a4-4fdf-827b-f5377059ecd0"
    },
    {
      "cell_type": "code",
      "execution_count": 26,
      "metadata": {},
      "outputs": [
        {
          "output_type": "stream",
          "name": "stdout",
          "text": [
            "array = [0 1 2 3 4 5]\n",
            "boolean_array = [False  True False  True False  True]\n",
            "selected items = [1 3 5]\n",
            "even items = [0 2 4]\n",
            "odd items = [1 3 5]"
          ]
        }
      ],
      "source": [
        "array = np.arange(6)\n",
        "print(\"array =\",array)\n",
        "boolean_array = np.array([False, True, False, True, False, True])\n",
        "print(\"boolean_array =\",boolean_array)\n",
        "print(\"selected items =\", array[boolean_array])\n",
        "\n",
        "print(\"even items =\", array[array % 2 == 0])\n",
        "print(\"odd items =\", array[~(array % 2 == 0)])"
      ],
      "id": "225f3b36-689d-408c-9824-829835f7462a"
    },
    {
      "cell_type": "markdown",
      "metadata": {},
      "source": [
        "-   Use arrays of integers to select items:"
      ],
      "id": "ec31c133-d8fd-45fb-9668-5e4b965bbe40"
    },
    {
      "cell_type": "code",
      "execution_count": 27,
      "metadata": {},
      "outputs": [
        {
          "output_type": "stream",
          "name": "stdout",
          "text": [
            "first two items in reverse order = [1 0]"
          ]
        }
      ],
      "source": [
        "print(\"first two items in reverse order =\", array[[1,0]])"
      ],
      "id": "2e981c5e-5c46-4afd-a444-71a3221ec609"
    },
    {
      "cell_type": "markdown",
      "metadata": {},
      "source": [
        "## Flattening and reshaping arrays\n",
        "\n",
        "-   Elements of a multi-dimensional array can be arranged linearly:"
      ],
      "id": "526d80ae-8721-447b-815e-f5902516cc1c"
    },
    {
      "cell_type": "code",
      "execution_count": 28,
      "metadata": {},
      "outputs": [
        {
          "output_type": "stream",
          "name": "stdout",
          "text": [
            "array1 =\n",
            " [[1 2]\n",
            " [3 4]\n",
            " [5 6]]\n",
            "flattened array1, row-wise = [1 2 3 4 5 6]\n",
            "flattened array1, column-wise = [1 3 5 2 4 6]"
          ]
        }
      ],
      "source": [
        "array1 = np.array([[1, 2], [3, 4], [5, 6]])\n",
        "print(\"array1 =\\n\", array1)\n",
        "print(\"flattened array1, row-wise =\", array1.flatten())\n",
        "print(\"flattened array1, column-wise =\", array1.flatten(order = 'F'))"
      ],
      "id": "9bbde559-f936-48df-bc11-155ca4f2aca5"
    },
    {
      "cell_type": "markdown",
      "metadata": {},
      "source": [
        "-   An array can be reshaped into any array of compatible size:"
      ],
      "id": "0d5a4369-a57d-4b12-a5fb-da20ae5b3e1c"
    },
    {
      "cell_type": "code",
      "execution_count": 29,
      "metadata": {},
      "outputs": [
        {
          "output_type": "stream",
          "name": "stdout",
          "text": [
            "array2 = [0 1 2 3 4 5]\n",
            "2x3 array, row-wise =\n",
            " [[0 1 2]\n",
            " [3 4 5]]\n",
            "2x3 array, column-wise =\n",
            " [[0 2 4]\n",
            " [1 3 5]]"
          ]
        }
      ],
      "source": [
        "array2 = np.arange(6)\n",
        "print(\"array2 =\", array2)\n",
        "print(\"2x3 array, row-wise =\\n\", array2.reshape(2,3))\n",
        "print(\"2x3 array, column-wise =\\n\", array2.reshape(2,3, order='F'))"
      ],
      "id": "019064d3-3143-43c6-acaa-7a2525eb43c9"
    },
    {
      "cell_type": "markdown",
      "metadata": {},
      "source": [
        "## Further properties\n",
        "\n",
        "-   NumPy arrays have many other useful properties, which will be\n",
        "    covered later in the module.\n",
        "\n",
        "-   The NumPy User Guide (NumPy Developers (2022)) explains the\n",
        "    important NumPy features, starting from the absolute basics.\n",
        "\n",
        "-   The NumPy API Reference (NumPy Developers (2023)) provides full\n",
        "    details on all functions, modules and objects.\n",
        "\n",
        "# Universal functions\n",
        "\n",
        "-   A **universal function** performs fast element-wise operations on\n",
        "    data in ndarrays.\n",
        "-   Example of unary universal function:"
      ],
      "id": "e625c8f5-c3db-4542-8047-8ad0d49afb58"
    },
    {
      "cell_type": "code",
      "execution_count": 30,
      "metadata": {},
      "outputs": [
        {
          "output_type": "stream",
          "name": "stdout",
          "text": [
            "array =\n",
            " [0 1 2 3 4 5]\n",
            "Square root of array =\n",
            " [0.         1.         1.41421356 1.73205081 2.         2.23606798]"
          ]
        }
      ],
      "source": [
        "array = np.arange(6)\n",
        "print(\"array =\\n\", array)\n",
        "print(\"Square root of array =\\n\", np.sqrt(array))"
      ],
      "id": "efd2162a-beff-4f08-b018-44ff3d16f374"
    },
    {
      "cell_type": "markdown",
      "metadata": {},
      "source": [
        "-   Examples of binary universal functions:"
      ],
      "id": "eb308c4e-a4a5-4292-bfeb-7b7dd6b9d607"
    },
    {
      "cell_type": "code",
      "execution_count": 31,
      "metadata": {},
      "outputs": [
        {
          "output_type": "stream",
          "name": "stdout",
          "text": [
            "fixed_array =\n",
            " [3 3 3 3 3 3]\n",
            "Minimum of two arrays =\n",
            " [0 1 2 3 3 3]\n",
            "Maximum of two arrays =\n",
            " [3 3 3 3 4 5]"
          ]
        }
      ],
      "source": [
        "fixed_array = np.full(6, 3)\n",
        "print(\"fixed_array =\\n\", fixed_array)\n",
        "print(\"Minimum of two arrays =\\n\", np.minimum (array, fixed_array))\n",
        "print(\"Maximum of two arrays =\\n\", np.maximum (array, fixed_array))"
      ],
      "id": "56859938-9daa-457b-b862-f47149886321"
    },
    {
      "cell_type": "markdown",
      "metadata": {},
      "source": [
        "## Some universal functions\n",
        "\n",
        "| Function | Description |\n",
        "|--------------------------|----------------------------------------------|\n",
        "| `abs` | Absolute value. |\n",
        "| `sqrt` | Square root. |\n",
        "| `square` | Raise to the power 2. |\n",
        "| `exp` | Exponent ($e^x$). |\n",
        "| `log`, `log10`, `log2` | Natural logarithm (base $e$), log base 10 and log base 2. |\n",
        "| `cos`, `cosh`, `sin`, `sinh`, `tan`, `tanh` | Regular and hyperbolic trigonometric functions. |\n",
        "| `arccos`, `arccosh`, `arcsin`, `arcsinh`, `arctan`, `arctanh` | Inverse trigonometric functions. |\n",
        "\n",
        "-   There are many others; see [NumPy\n",
        "    Reference](https://numpy.org/doc/stable/reference/ufuncs.html)\n",
        "    (NumPy Developers (2023))\n",
        "\n",
        "## Universal functions and scalars\n",
        "\n",
        "-   Universal functions also work on scalars, however may not be very\n",
        "    efficient."
      ],
      "id": "730cebe6-4a4f-431c-8071-e0ee40acb86f"
    },
    {
      "cell_type": "code",
      "execution_count": 32,
      "metadata": {},
      "outputs": [
        {
          "output_type": "stream",
          "name": "stdout",
          "text": [
            "678 ns ± 20.1 ns per loop (mean ± std. dev. of 7 runs, 1,000,000 loops each)"
          ]
        }
      ],
      "source": [
        "%timeit np.sqrt(2.5)"
      ],
      "id": "4d4dcadc-f9ca-48a4-a512-83ee866a9183"
    },
    {
      "cell_type": "code",
      "execution_count": 33,
      "metadata": {},
      "outputs": [
        {
          "output_type": "stream",
          "name": "stdout",
          "text": [
            "32.8 ns ± 0.866 ns per loop (mean ± std. dev. of 7 runs, 10,000,000 loops each)"
          ]
        }
      ],
      "source": [
        "import math\n",
        "%timeit math.sqrt(2.5)"
      ],
      "id": "596802df-5cec-4140-8efb-e5da77a4cd4d"
    },
    {
      "cell_type": "markdown",
      "metadata": {},
      "source": [
        "-   The `math` module contains many commonly used mathematical\n",
        "    functions. The Python Software Foundation (2024) provides details\n",
        "    with examples.\n",
        "\n",
        "## Creating universal functions\n",
        "\n",
        "-   It is possible to turn any Python function into a universal\n",
        "    function.\n",
        "-   Syntax:\n",
        "\n",
        "``` python\n",
        "<universal function> = np.frompyfunc(<function>, <number of inputs>, <number of outputs>)\n",
        "```\n",
        "\n",
        "-   Example:"
      ],
      "id": "8257ae7e-edb1-48ee-9b24-73b27c25bbbf"
    },
    {
      "cell_type": "code",
      "execution_count": 34,
      "metadata": {},
      "outputs": [
        {
          "output_type": "stream",
          "name": "stdout",
          "text": [
            "array = [0 1 2 3 4 5]\n",
            "applying universal function = [0 0 0 0.5 1.5 2.5]\n",
            "applying function to individual elements = [0, 0, 0, np.float64(0.5), np.float64(1.5), np.float64(2.5)]"
          ]
        }
      ],
      "source": [
        "my_func = lambda x : max(x - 2.5, 0)\n",
        "\n",
        "my_func_univ = np.frompyfunc(my_func, 1, 1)\n",
        "\n",
        "array = np.arange(6)\n",
        "print(\"array =\", array)\n",
        "print(\"applying universal function =\", my_func_univ(array))\n",
        "print(\"applying function to individual elements =\", [my_func(item) for item in array])"
      ],
      "id": "4e9abc0c-f6a8-465e-9545-2b7d8635baff"
    },
    {
      "cell_type": "markdown",
      "metadata": {},
      "source": [
        "## Vectorized functions\n",
        "\n",
        "-   Sometimes we want to apply a Python function to a NumPy array just\n",
        "    the once.\n",
        "-   Syntax:\n",
        "\n",
        "``` python\n",
        "<function that accepts arrays> = np.vectorize(<function>, otypes=[np.float64])\n",
        "```\n",
        "\n",
        "-   Example:"
      ],
      "id": "d66d6c19-8c97-4077-b81f-47226700aac7"
    },
    {
      "cell_type": "code",
      "execution_count": 35,
      "metadata": {},
      "outputs": [
        {
          "output_type": "stream",
          "name": "stdout",
          "text": [
            "array = [0. 1. 2. 3. 4. 5.]\n",
            "applying vectorized function = [0.  0.  0.  0.5 1.5 2.5]\n",
            "applying function to individual elements = [0.0, 0.0, 0.0, np.float64(0.5), np.float64(1.5), np.float64(2.5)]"
          ]
        }
      ],
      "source": [
        "def my_func (x, K):\n",
        "    return max(x - K, 0.0)\n",
        "\n",
        "K = 2.5\n",
        "\n",
        "array = np.arange(6, dtype=np.float64)\n",
        "print(\"array =\", array)\n",
        "print(\"applying vectorized function =\", np.vectorize(my_func)(array,K))\n",
        "print(\"applying function to individual elements =\", [my_func(item,K) for item in array])"
      ],
      "id": "eb4e963b-2542-432f-a8eb-388edf111ba7"
    },
    {
      "cell_type": "markdown",
      "metadata": {},
      "source": [
        "-   `np.vectorize` preserves types differently from `np.frompyfunc`,\n",
        "    hence the `otypes=[np.float64]` is needed for floating point output.\n",
        "\n",
        "# Further reading\n",
        "\n",
        "-   The slides are based on Sections 4.1 and 4.3 of McKinney (2022).\n",
        "-   Hilpisch (2019) covers similar material in Chapter 4.\n",
        "-   Lynch (2018) gives many examples with mathematical applications.\n",
        "\n",
        "## References\n",
        "\n",
        "Hilpisch, Yves. 2019. *Python for Finance: Mastering Data-Driven\n",
        "Finance*. 2nd ed. O’Reilly.\n",
        "\n",
        "Lynch, Stephen. 2018. “Python for A-Level Mathematics and Beyond.”\n",
        "<https://drstephenlynch.github.io/webpages/Python_for_A_Level_Mathematics_and_Beyond.html>.\n",
        "\n",
        "McKinney, Wes. 2022. *Python for Data Analysis: Data Wrangling with\n",
        "Pandas, NumPy & Jupyter*. 3rd edition. O’Reilly.\n",
        "<https://wesmckinney.com/book/>.\n",
        "\n",
        "NumPy Developers. 2022. “NumPy User Guide.”\n",
        "<https://numpy.org/doc/stable/user/index.html>.\n",
        "\n",
        "———. 2023. “NumPy Reference.”\n",
        "<https://numpy.org/doc/stable/reference/index.html>.\n",
        "\n",
        "The Python Software Foundation. 2024. “<span class=\"nocase\">math</span>:\n",
        "Mathematical Functions.”\n",
        "<https://docs.python.org/3/library/decimal.html>."
      ],
      "id": "c908f510-3b3f-40e6-b0c4-fb8f0d635a4b"
    }
  ],
  "nbformat": 4,
  "nbformat_minor": 5,
  "metadata": {
    "kernelspec": {
      "name": "conda-env-compfin-py",
      "display_name": "Python [conda env:compfin]",
      "language": "python"
    },
    "language_info": {
      "name": "python",
      "codemirror_mode": {
        "name": "ipython",
        "version": "3"
      },
      "file_extension": ".py",
      "mimetype": "text/x-python",
      "nbconvert_exporter": "python",
      "pygments_lexer": "ipython3",
      "version": "3.10.16"
    }
  }
}