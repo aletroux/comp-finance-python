{
  "cells": [
    {
      "cell_type": "markdown",
      "metadata": {},
      "source": [
        "# NumPy and SciPy for Monte Carlo simulation\n",
        "\n",
        "Computational Finance with Python\n",
        "\n",
        "[Alet Roux](https://www.york.ac.uk/maths/staff/alet-roux/) ([Department\n",
        "of Mathematics](https://maths.york.ac.uk), University of York)\n",
        "\n",
        "Click on the following to open this file in Google Colab:\n",
        "\n",
        "<figure>\n",
        "<a\n",
        "href=\"https://colab.research.google.com/github/aletroux/comp-finance-python/blob/main/demonstrations/D03_NumPy_SciPy_Monte_Carlo_slides.ipynb\"><img\n",
        "src=\"https://colab.research.google.com/assets/colab-badge.svg\"\n",
        "alt=\"Open In Colab\" /></a>\n",
        "<figcaption>Open In Colab</figcaption>\n",
        "</figure>\n",
        "\n",
        "# Random numbers and random variables\n",
        "\n",
        "-   NumPy has very powerful capacity for generating samples of random\n",
        "    numbers in its `random` module (NumPy Developers (2022c))."
      ],
      "id": "9f3861bd-7a1f-41a4-834b-5b8ee1594b0d"
    },
    {
      "cell_type": "code",
      "execution_count": 1,
      "metadata": {},
      "outputs": [],
      "source": [
        "import numpy as np"
      ],
      "id": "a9d33054-891c-4295-91e9-08ee69411e92"
    },
    {
      "cell_type": "markdown",
      "metadata": {},
      "source": [
        "-   SciPy has many features for working with random variables and their\n",
        "    distributions in its `stats` module (The SciPy Community (2024b)).\n",
        "-   It is possible to import `scipy.stats` directly, as below:"
      ],
      "id": "c2becdbf-ac4f-492b-a96b-ad5b8d5c27b0"
    },
    {
      "cell_type": "code",
      "execution_count": 2,
      "metadata": {},
      "outputs": [],
      "source": [
        "import scipy.stats as sstats"
      ],
      "id": "279e7a08-2a6c-45f9-9c16-498c3f9f8b83"
    },
    {
      "cell_type": "markdown",
      "metadata": {},
      "source": [
        "-   However, when only using one or two distributions it is common to\n",
        "    just import the relevant distribution, for example:"
      ],
      "id": "bd05406c-8b49-40c2-a277-d72d936f3960"
    },
    {
      "cell_type": "code",
      "execution_count": 3,
      "metadata": {},
      "outputs": [],
      "source": [
        "from scipy.stats import norm"
      ],
      "id": "f68c6ffd-315d-405f-90b4-7671cd9dfb97"
    },
    {
      "cell_type": "markdown",
      "metadata": {},
      "source": [
        "## Generating univariate samples\n",
        "\n",
        "### Random number generator\n",
        "\n",
        "-   NumPy random number generation relies on a random number generator.\n",
        "-   Initialize a generator as follows:\n",
        "\n",
        "``` python\n",
        "<variable name> = np.random.default_rng(seed = <positive integer>)\n",
        "```\n",
        "\n",
        "-   The optional parameter `seed` is used to initialize the random\n",
        "    number generator. Providing a seed means that the random numbers\n",
        "    generated will be the same in different runs, which can be useful\n",
        "    for repeating results and debugging code.\n",
        "\n",
        "-   Example:"
      ],
      "id": "d469d01a-8f2a-4c4f-bed6-221e96d0ac43"
    },
    {
      "cell_type": "code",
      "execution_count": 4,
      "metadata": {},
      "outputs": [
        {
          "output_type": "display_data",
          "metadata": {},
          "data": {
            "text/plain": [
              "array([[0.42584778, 0.12466016],\n",
              "       [0.09799234, 0.44945449]])"
            ]
          }
        }
      ],
      "source": [
        "rng = np.random.default_rng (seed = 2314234234)\n",
        "rng.random(size = (2,2))"
      ],
      "id": "ae659990-9721-4852-ad22-7c2b9b00e5c9"
    },
    {
      "cell_type": "markdown",
      "metadata": {},
      "source": [
        "------------------------------------------------------------------------\n",
        "\n",
        "### Random sample generation\n",
        "\n",
        "-   Many distributions are supported. These can be used as properties of\n",
        "    the random number generator (e.g. `rng.standard_normal`), or called\n",
        "    directly (e.g. `np.random.standard_normal`).\n",
        "-   General format of arguments:\n",
        "\n",
        "``` python\n",
        "<random number generator>.<name of distribution>(<parameters of distribution>, <size specification>)\n",
        "```\n",
        "\n",
        "-   The size specification determines the number of samples created, and\n",
        "    the shape of the NumPy array that is created. The following pairs\n",
        "    are equivalent:"
      ],
      "id": "fbe41323-b5a3-40fd-8ff9-3437d24f506c"
    },
    {
      "cell_type": "code",
      "execution_count": 5,
      "metadata": {},
      "outputs": [
        {
          "output_type": "stream",
          "name": "stdout",
          "text": [
            "[0.0546029  0.56548454 0.90199861 0.11261566]\n",
            "[0.30568593 0.05365493 0.86361708 0.4924869 ]"
          ]
        }
      ],
      "source": [
        "print(rng.random(size = 4))\n",
        "print(rng.random(4))"
      ],
      "id": "c6fe1533-488a-4855-a77e-e66c2aa11b1c"
    },
    {
      "cell_type": "code",
      "execution_count": 6,
      "metadata": {},
      "outputs": [
        {
          "output_type": "stream",
          "name": "stdout",
          "text": [
            "[[0.75398128 0.48221345 0.85442236]\n",
            " [0.04747989 0.49641986 0.05229798]]\n",
            "[[0.24510733 0.22275409 0.95129101]\n",
            " [0.40892199 0.83551723 0.36251253]]"
          ]
        }
      ],
      "source": [
        "print(rng.random(size = (2,3)))\n",
        "print(rng.random((2,3)))"
      ],
      "id": "e6089921-55af-4ae3-b40a-07d06a8f8704"
    },
    {
      "cell_type": "markdown",
      "metadata": {},
      "source": [
        "------------------------------------------------------------------------\n",
        "\n",
        "### Distributions supported by NumPy\n",
        "\n",
        "-   Consult the documentation (NumPy Developers (2022b)) for an\n",
        "    extensive list. Examples:\n",
        "\n",
        "| Distribution       | Usage                           |\n",
        "|--------------------|---------------------------------|\n",
        "| $U(0,1)$           | `random`                        |\n",
        "| $U(a,b)$           | `uniform(`$a$`,`$b$`)`          |\n",
        "| $N(0,1)$           | `standard_normal()`             |\n",
        "| $N(\\mu,\\sigma^2)$  | `normal(`$\\mu$`,`$\\sigma$`)`    |\n",
        "| $LN(\\mu,\\sigma^2)$ | `lognormal(`$\\mu$`,`$\\sigma$`)` |\n",
        "| $\\exp(\\lambda)$    | `exponential(`$1/\\lambda$`)`    |\n",
        "\n",
        "-   Other functionality includes shuffling, permutations, etc.\n",
        "\n",
        "## Random variables and their distributions\n",
        "\n",
        "-   Usage if we know the parameters of the distribution (i.e. it is\n",
        "    *frozen*):\n",
        "\n",
        "``` python\n",
        "from scipy import <distribution>\n",
        "<variable name> = <distribution>(<parameters>)\n",
        "...\n",
        "<variable name>.<method of distribution>\n",
        "```\n",
        "\n",
        "-   Usage if the parameters of the distribution are unknown /\n",
        "    changeable:\n",
        "\n",
        "``` python\n",
        "from scipy import <distribution>\n",
        "<distribution>.<method of distribution>(<method arguments>, <distribution parameters>)\n",
        "```\n",
        "\n",
        "------------------------------------------------------------------------\n",
        "\n",
        "### Distributions supported by SciPy\n",
        "\n",
        "-   Consult the documentation (The SciPy Community (2024b)) for an\n",
        "    extensive list. Examples:\n",
        "\n",
        "| Distribution       | Usage                                 |\n",
        "|--------------------|---------------------------------------|\n",
        "| $U(a,b)$           | `uniform(loc=`$a$`,scale=`$b-a$`)`    |\n",
        "| $N(0,1)$           | `norm()`                              |\n",
        "| $N(\\mu,\\sigma^2)$  | `norm(loc=`$\\mu$`,scale=`$\\sigma$`)`  |\n",
        "| $LN(\\mu,\\sigma^2)$ | `lognorm(`$\\sigma$`,scale=`$e^\\mu$`)` |\n",
        "| $\\exp(\\lambda)$    | `expon(scale=`$1/\\lambda$`)`          |\n",
        "\n",
        "------------------------------------------------------------------------\n",
        "\n",
        "### Distribution methods\n",
        "\n",
        "| Method                | Description                                                                     |\n",
        "|---------------------|---------------------------------------------------|\n",
        "| `pdf` or `pmf`        | Probability density function (continuous) or mass function (discrete)           |\n",
        "| `cdf`                 | Cumulative distribution function                                                |\n",
        "| `stats(moments='mv')` | Statistics: mean (`m`), variance (`v`), skew (`s`) and/or kurtosis (`k`)        |\n",
        "| `ppf`                 | Percent point function (percentiles)                                            |\n",
        "| `median` and `mean`   | Median and mean                                                                 |\n",
        "| `var` and `std`       | Variance and standard deviation                                                 |\n",
        "| `interval`            | Confidence interval with equal areas around the median                          |\n",
        "| `expect`              | Expected value of a function (of one argument) with respect to the distribution |\n",
        "\n",
        "-   For more, see documentation (The SciPy Community (2024b))\n",
        "\n",
        "## Example: lognormal distribution"
      ],
      "id": "0c1ff286-ea38-4c25-9e30-cf08fa836b5b"
    },
    {
      "cell_type": "code",
      "execution_count": 7,
      "metadata": {},
      "outputs": [],
      "source": [
        "import math\n",
        "\n",
        "# prepare for plotting\n",
        "import matplotlib.pyplot as plt\n",
        "fig, ax = plt.subplots(figsize = (12,7))\n",
        "\n",
        "# model parameters\n",
        "mu = 1\n",
        "sigma = 1\n",
        "\n",
        "# generate sample and produce histogram\n",
        "n = 1000\n",
        "sample = rng.lognormal(mu, sigma, n)\n",
        "ax.hist(sample, bins='auto', density=True, align='mid', rwidth=0.8, label=\"Relative histogram\")\n",
        "\n",
        "# generate and plot probability density function\n",
        "from scipy.stats import lognorm\n",
        "rv = lognorm(sigma, scale = math.exp(mu))\n",
        "x = np.linspace(min(sample), max(sample), 10000)\n",
        "ax.plot(x, rv.pdf(x), color=\"red\", label=\"Density function\")\n",
        "\n",
        "# plot grid and legend\n",
        "ax.xaxis.grid(True)\n",
        "ax.yaxis.grid(True)\n",
        "ax.legend()"
      ],
      "id": "8d271116-9550-4cd8-8f5b-7c8b11e86946"
    },
    {
      "cell_type": "markdown",
      "metadata": {},
      "source": [
        "------------------------------------------------------------------------"
      ],
      "id": "69a0f04a-f6be-4a78-9afe-3084fbd15099"
    },
    {
      "cell_type": "code",
      "execution_count": 8,
      "metadata": {},
      "outputs": [],
      "source": [],
      "id": "7ca012d8-fa53-4d77-8b95-786b997815ad"
    },
    {
      "cell_type": "markdown",
      "metadata": {},
      "source": [
        "------------------------------------------------------------------------"
      ],
      "id": "86b79b41-da76-4c7f-a9a2-4a404a41fff1"
    },
    {
      "cell_type": "code",
      "execution_count": 9,
      "metadata": {},
      "outputs": [],
      "source": [],
      "id": "93022ada-8dd2-424d-92f0-2954d2974100"
    },
    {
      "cell_type": "code",
      "execution_count": 10,
      "metadata": {},
      "outputs": [
        {
          "output_type": "stream",
          "name": "stdout",
          "text": [
            "Mean: 4.4816890703380645\n",
            "Variance: 34.51261310995656\n",
            "Skew: 6.184877138632554\n",
            "Kurtosis: 110.9363921763115"
          ]
        }
      ],
      "source": [
        "mu = 1\n",
        "sigma = 1\n",
        "rv = lognorm(sigma, scale = math.exp(mu))\n",
        "\n",
        "mean, var, skew, kurt = rv.stats(moments='mvsk')\n",
        "print(\"Mean:\", mean)\n",
        "print(\"Variance:\", var)\n",
        "print(\"Skew:\", skew)\n",
        "print(\"Kurtosis:\", kurt)"
      ],
      "id": "1be501e2-99e8-44a6-baff-d019e5751f7d"
    },
    {
      "cell_type": "code",
      "execution_count": 11,
      "metadata": {},
      "outputs": [
        {
          "output_type": "stream",
          "name": "stdout",
          "text": [
            "Median: 2.718281828459045"
          ]
        }
      ],
      "source": [
        "print (\"Median:\", rv.median())"
      ],
      "id": "0722717b-bfff-47bf-b46e-bdab88999b49"
    },
    {
      "cell_type": "markdown",
      "metadata": {},
      "source": [
        "-   Cumulative distribution function:"
      ],
      "id": "5f991848-f006-4f29-b55f-64791717adc3"
    },
    {
      "cell_type": "code",
      "execution_count": 12,
      "metadata": {},
      "outputs": [
        {
          "output_type": "stream",
          "name": "stdout",
          "text": [
            "Evaluating cdf at mean: 0.6914624612740131"
          ]
        }
      ],
      "source": [
        "print (\"Evaluating cdf at mean:\", rv.cdf (mean))"
      ],
      "id": "a52cb7cf-fdd4-4acc-8ed1-61ab5c4e41c7"
    },
    {
      "cell_type": "markdown",
      "metadata": {},
      "source": [
        "# Matrices\n",
        "\n",
        "-   Matrices (two-dimensional arrays) play an important role in\n",
        "    numerical computations.\n",
        "-   Much of the detail has already been covered.\n",
        "\n",
        "## Matrix transposition\n",
        "\n",
        "-   Transpose:"
      ],
      "id": "e9c9d837-a675-49ea-a3ad-925b8b1ce3c6"
    },
    {
      "cell_type": "code",
      "execution_count": 13,
      "metadata": {},
      "outputs": [
        {
          "output_type": "stream",
          "name": "stdout",
          "text": [
            "X =\n",
            " [[1 2 3]\n",
            " [4 5 6]]\n",
            "X transposed =\n",
            " [[1 4]\n",
            " [2 5]\n",
            " [3 6]]"
          ]
        }
      ],
      "source": [
        "X = np.array([[1, 2, 3], [4, 5, 6]])\n",
        "print(\"X =\\n\", X)\n",
        "print(\"X transposed =\\n\", X.T)"
      ],
      "id": "2f2ae711-5f45-4a32-aa94-8e5381cca1a3"
    },
    {
      "cell_type": "markdown",
      "metadata": {},
      "source": [
        "-   It is cometimes easier to work with row than column vectors: simply\n",
        "    transpose vectors as and when needed.\n",
        "\n",
        "## Matrix multiplication\n",
        "\n",
        "-   Matrices can be multiplied by using `@` or `dot`:"
      ],
      "id": "5b31882a-6b8c-409d-b2b5-37519afa8ad4"
    },
    {
      "cell_type": "code",
      "execution_count": 14,
      "metadata": {},
      "outputs": [
        {
          "output_type": "stream",
          "name": "stdout",
          "text": [
            "X @ Y =\n",
            " [[22 28]\n",
            " [49 64]]\n",
            "X.dot(Y) =\n",
            " [[22 28]\n",
            " [49 64]]\n",
            "np.dot(X,Y) =\n",
            " [[22 28]\n",
            " [49 64]]"
          ]
        }
      ],
      "source": [
        "X = np.array([[1, 2, 3], [4, 5, 6]])\n",
        "Y = np.array([[1, 2], [3, 4], [5, 6]])\n",
        "print(\"X @ Y =\\n\", X @ Y)\n",
        "print(\"X.dot(Y) =\\n\", X.dot(Y))\n",
        "print(\"np.dot(X,Y) =\\n\", np.dot(X,Y))"
      ],
      "id": "7e79e4af-f529-412d-b3f8-47302a9e57c4"
    },
    {
      "cell_type": "markdown",
      "metadata": {},
      "source": [
        "-   This shouldn’t be confused with `*` which is element-by-element\n",
        "    multiplication:"
      ],
      "id": "ec5f19c8-5782-48bf-8c4b-a92008bd6a74"
    },
    {
      "cell_type": "code",
      "execution_count": 15,
      "metadata": {},
      "outputs": [
        {
          "output_type": "display_data",
          "metadata": {},
          "data": {
            "text/plain": [
              "array([[ 1,  4,  9],\n",
              "       [16, 25, 36]])"
            ]
          }
        }
      ],
      "source": [
        "X * X"
      ],
      "id": "d43e9528-e582-434b-bc1d-3b660cd5af9b"
    },
    {
      "cell_type": "markdown",
      "metadata": {},
      "source": [
        "## Diagonal matrices\n",
        "\n",
        "-   Diagonal matrices are useful in many areas. The function\n",
        "    `numpy.diag` can be used to create diagonal matrices.\n",
        "-   Usage:\n",
        "\n",
        "``` python\n",
        "np.diag(<array with diagonal entries>, <diagonal index>)\n",
        "```\n",
        "\n",
        "-   Example: create a $4\\times 4$ matrix with 1 on the main diagonal,\n",
        "    0.5 on the diagonal above it and -0.5 on the diagonal below it."
      ],
      "id": "32fd435d-cd33-4618-b62c-a22c2eb4c3a6"
    },
    {
      "cell_type": "code",
      "execution_count": 16,
      "metadata": {},
      "outputs": [
        {
          "output_type": "stream",
          "name": "stdout",
          "text": [
            "A =\n",
            " [[ 1.   0.5  0.   0. ]\n",
            " [-0.5  1.   0.5  0. ]\n",
            " [ 0.  -0.5  1.   0.5]\n",
            " [ 0.   0.  -0.5  1. ]]"
          ]
        }
      ],
      "source": [
        "d = np.ones(3)\n",
        "A = np.eye(4) + 0.5*np.diag(d,1) - 0.5*np.diag(d,-1)\n",
        "print(\"A =\\n\", A)"
      ],
      "id": "cfbb883f-519e-4105-9091-d3339ff1eab5"
    },
    {
      "cell_type": "markdown",
      "metadata": {},
      "source": [
        "-   Applying `numpy.diag` to a two-dimensional array gives the diagonal:"
      ],
      "id": "890dbfc8-c815-4ca6-baaf-079f21411846"
    },
    {
      "cell_type": "code",
      "execution_count": 17,
      "metadata": {},
      "outputs": [
        {
          "output_type": "display_data",
          "metadata": {},
          "data": {
            "text/plain": [
              "array([1., 1., 1., 1.])"
            ]
          }
        }
      ],
      "source": [
        "np.diag(A)"
      ],
      "id": "fc38b6df-c9ec-48eb-a2bd-7a8118fc7740"
    },
    {
      "cell_type": "markdown",
      "metadata": {},
      "source": [
        "------------------------------------------------------------------------\n",
        "\n",
        "### Example: conversion between covariance and correlation matrix\n",
        "\n",
        "-   The relationship between the correlation $\\rho_{12}$ and covariance\n",
        "    $\\sigma_{12}$ of two random variables with variance $\\sigma_1^2$ and\n",
        "    $\\sigma_2^2$ respectively, is\n",
        "    $$ \\rho_{12} = \\frac{\\sigma_{12}}{\\sigma_1\\sigma_2}. $$ Conversion\n",
        "    between correlation and covariance matrices can be done in NumPy by\n",
        "    multiplying with diagonal matrices.\n",
        "\n",
        "-   Let $\\Sigma = \\begin{bmatrix} 5 & 3 \\\\ 3 & 12 \\end{bmatrix}$ be a\n",
        "    covariance matrix.\n",
        "\n",
        "------------------------------------------------------------------------\n",
        "\n",
        "#### Numerical example\n",
        "\n",
        "-   Variance and standard deviation:"
      ],
      "id": "ce22824f-5c7f-4d02-858e-5cab6274067b"
    },
    {
      "cell_type": "code",
      "execution_count": 18,
      "metadata": {},
      "outputs": [
        {
          "output_type": "stream",
          "name": "stdout",
          "text": [
            "Variances: [ 5 12]\n",
            "Standard deviations: [2.23606798 3.46410162]"
          ]
        }
      ],
      "source": [
        "Sigma = np.array([[ 5, 3], [3, 12]])\n",
        "var = np.diag(Sigma)\n",
        "print(\"Variances:\", var)\n",
        "\n",
        "std = np.sqrt(var)\n",
        "print(\"Standard deviations:\", std)"
      ],
      "id": "35911aa4-36c9-4fe2-be56-83628555f066"
    },
    {
      "cell_type": "markdown",
      "metadata": {},
      "source": [
        "-   Convert covariance to correlation:"
      ],
      "id": "f6e03ece-9802-4f4b-b14e-0a3dc6806b48"
    },
    {
      "cell_type": "code",
      "execution_count": 19,
      "metadata": {},
      "outputs": [
        {
          "output_type": "stream",
          "name": "stdout",
          "text": [
            "Correlation matrix:\n",
            " [[1.         0.38729833]\n",
            " [0.38729833 1.        ]]"
          ]
        }
      ],
      "source": [
        "mult = np.diag(1/std)\n",
        "Corr = mult @ Sigma @ mult\n",
        "print (\"Correlation matrix:\\n\", Corr)"
      ],
      "id": "0a3f07dc-c054-445c-8aa3-c7475efd9e26"
    },
    {
      "cell_type": "markdown",
      "metadata": {},
      "source": [
        "-   Convert correlation to covariance:"
      ],
      "id": "1ca1ea1f-f2bf-48c0-985c-394f5b65f9cc"
    },
    {
      "cell_type": "code",
      "execution_count": 20,
      "metadata": {},
      "outputs": [
        {
          "output_type": "stream",
          "name": "stdout",
          "text": [
            "Covariance matrix:\n",
            " [[ 5.  3.]\n",
            " [ 3. 12.]]"
          ]
        }
      ],
      "source": [
        "mult = np.diag(std)\n",
        "M = mult @ Corr @ mult\n",
        "print (\"Covariance matrix:\\n\", M)"
      ],
      "id": "389a61c1-8bfe-4a56-8803-436d8ae5b725"
    },
    {
      "cell_type": "markdown",
      "metadata": {},
      "source": [
        "## Cumulative sums\n",
        "\n",
        "-   Useful for cumulative addition over rows and columns of matrices.\n",
        "-   Usage:\n",
        "\n",
        "``` python\n",
        "np.cumsum(<array or matrix>, axis = <axis along which to add>)\n",
        "```\n",
        "\n",
        "-   Cumulative sum along rows:"
      ],
      "id": "6cd538b4-46bf-4f61-b3c2-ee2227ffdb6b"
    },
    {
      "cell_type": "code",
      "execution_count": 21,
      "metadata": {},
      "outputs": [
        {
          "output_type": "stream",
          "name": "stdout",
          "text": [
            "B = \n",
            " [[1 2 3]\n",
            " [4 5 6]]"
          ]
        },
        {
          "output_type": "display_data",
          "metadata": {},
          "data": {
            "text/plain": [
              "array([[1, 2, 3],\n",
              "       [5, 7, 9]])"
            ]
          }
        }
      ],
      "source": [
        "B = np.array([[1,2,3], [4,5,6]])\n",
        "print(\"B = \\n\",B)\n",
        "np.cumsum(B,axis=0)"
      ],
      "id": "6e25811e-b1f4-4917-b789-d27eccb9cff3"
    },
    {
      "cell_type": "markdown",
      "metadata": {},
      "source": [
        "-   Cumulative sum along columns:"
      ],
      "id": "5e5744f6-a4cd-4d91-99e5-9ac16a1caea6"
    },
    {
      "cell_type": "code",
      "execution_count": 22,
      "metadata": {},
      "outputs": [
        {
          "output_type": "display_data",
          "metadata": {},
          "data": {
            "text/plain": [
              "array([[ 1,  3,  6],\n",
              "       [ 4,  9, 15]])"
            ]
          }
        }
      ],
      "source": [
        "np.cumsum(B,axis=1)"
      ],
      "id": "e0aa8bd4-d185-4616-9833-4da81a8be5d2"
    },
    {
      "cell_type": "markdown",
      "metadata": {},
      "source": [
        "-   `np.cumprod` can be used similarly for cumulative products.\n",
        "\n",
        "# Linear algebra\n",
        "\n",
        "-   NumPy has an extensive library for matrix and linear algebra\n",
        "    operations (NumPy Developers (2024)).\n",
        "-   SciPy also has a library with similar (but not identical)\n",
        "    functionality (The SciPy Community (2024a)).\n",
        "-   These slides cover the basics of solving linear equations and the\n",
        "    Cholesky decomposition (with an application), which is needed for\n",
        "    our work, but this is only a very small part of the available\n",
        "    functionality. Consult the documentation for further information.\n",
        "-   Include the Linear Algebra module of NumPy in your code as follows:"
      ],
      "id": "90e9e4e8-2360-4704-9190-c5207d55da74"
    },
    {
      "cell_type": "code",
      "execution_count": 23,
      "metadata": {},
      "outputs": [],
      "source": [
        "import numpy.linalg as npla"
      ],
      "id": "5a5c9016-e8df-4498-a97e-c27939a948bd"
    },
    {
      "cell_type": "markdown",
      "metadata": {},
      "source": [
        "## Solving linear equations\n",
        "\n",
        "-   Use the determinant of a matrix to verify that it is non-singular\n",
        "    (can be inverted):"
      ],
      "id": "da8a0b9c-e8a2-42ab-b818-1f4706b038da"
    },
    {
      "cell_type": "code",
      "execution_count": 24,
      "metadata": {},
      "outputs": [
        {
          "output_type": "stream",
          "name": "stdout",
          "text": [
            "-6.0000000000000036"
          ]
        }
      ],
      "source": [
        "A = np.array([[1, 2, 3], [1, 1, 1], [3, -2, -1]])\n",
        "print(npla.det(A))"
      ],
      "id": "36dd943d-f98d-4106-8f5b-b5742700b6a4"
    },
    {
      "cell_type": "markdown",
      "metadata": {},
      "source": [
        "-   Invert a matrix:"
      ],
      "id": "a41ff96e-3521-46b1-9a7d-c5f74c35cefb"
    },
    {
      "cell_type": "code",
      "execution_count": 25,
      "metadata": {},
      "outputs": [
        {
          "output_type": "stream",
          "name": "stdout",
          "text": [
            "Inverse of A:\n",
            " [[-0.16666667  0.66666667  0.16666667]\n",
            " [-0.66666667  1.66666667 -0.33333333]\n",
            " [ 0.83333333 -1.33333333  0.16666667]]"
          ]
        }
      ],
      "source": [
        "print(\"Inverse of A:\\n\",npla.inv(A))"
      ],
      "id": "a72cc7a2-e149-4153-b2f0-c400e700ccc5"
    },
    {
      "cell_type": "markdown",
      "metadata": {},
      "source": [
        "-   Solve a system $Ax=b$ of linear equations:"
      ],
      "id": "f563ce15-157b-43c1-8e60-3d4cf22a092d"
    },
    {
      "cell_type": "code",
      "execution_count": 26,
      "metadata": {},
      "outputs": [
        {
          "output_type": "stream",
          "name": "stdout",
          "text": [
            "Solution x using inverse of A = [[ 10.  11. -10.]]\n",
            "Solution x without using inverse of A = [[ 10.  11. -10.]]"
          ]
        }
      ],
      "source": [
        "b = np.array([[2, 11, 18]])\n",
        "\n",
        "print(\"Solution x using inverse of A =\", (npla.inv(A) @ b.T).T)\n",
        "\n",
        "x = npla.solve(A, b.T)\n",
        "print(\"Solution x without using inverse of A =\",x.T)"
      ],
      "id": "e9136cc2-fe27-49d1-8151-303875242d38"
    },
    {
      "cell_type": "markdown",
      "metadata": {},
      "source": [
        "## Cholesky decomposition\n",
        "\n",
        "-   Factorizes a symmetric positive definite matrix $A$ (such as a\n",
        "    covariance matrix) into the product of a lower triangular matrix $L$\n",
        "    and its transpose, such that $A=LL^T$.\n",
        "-   Example:"
      ],
      "id": "705e4749-2daa-451a-b158-969c437b389a"
    },
    {
      "cell_type": "code",
      "execution_count": 27,
      "metadata": {},
      "outputs": [
        {
          "output_type": "stream",
          "name": "stdout",
          "text": [
            "Cholesky factor L =\n",
            " [[3.87298335 0.         0.        ]\n",
            " [3.09838668 3.2249031  0.        ]\n",
            " [1.80739223 1.36438208 3.14194126]]\n",
            "A = \n",
            " [[15. 12.  7.]\n",
            " [12. 20. 10.]\n",
            " [ 7. 10. 15.]]"
          ]
        }
      ],
      "source": [
        "A = np.array([[15, 12, 7], [12, 20, 10], [7, 10, 15]])\n",
        "L = npla.cholesky(A)\n",
        "print(\"Cholesky factor L =\\n\",L)\n",
        "print(\"A = \\n\", L @ L.T)"
      ],
      "id": "ab5d4943-5e2b-4c05-ab9e-8f7897771227"
    },
    {
      "cell_type": "markdown",
      "metadata": {},
      "source": [
        "------------------------------------------------------------------------\n",
        "\n",
        "### Method of least squares\n",
        "\n",
        "-   Method to solve problems of the form\n",
        "    $$\\text{minimize } \\lVert Ax - b \\rVert \\text{ for }x\\in\\mathbb{R}^n,$$\n",
        "    where $A$ is an $n\\times m$ matrix with $n>m$. It is known that the\n",
        "    solution $x^\\ast$ is the solution of the *Gaussian normal equation*\n",
        "    $$A^TA x = A^T b.$$\n",
        "-   The matrix $A^TA$ is symmetric and positive definite, and thus has a\n",
        "    Cholesky decomposition $LL^T = A^TA$. The Gaussian normal equation\n",
        "    can be solved efficiently as follows:\n",
        "    1.  Solve the system $L z = A^T b$.\n",
        "    2.  Solve the system $L^T x = z$.\n",
        "\n",
        "------------------------------------------------------------------------\n",
        "\n",
        "### Example: Least squares"
      ],
      "id": "40c69114-21c1-4ac2-b18b-d4f342353e15"
    },
    {
      "cell_type": "code",
      "execution_count": 28,
      "metadata": {},
      "outputs": [
        {
          "output_type": "stream",
          "name": "stdout",
          "text": [
            "L =\n",
            " [[5.91607978 0.        ]\n",
            " [7.43735744 0.82807867]]\n",
            "z = [-1.69030851  0.69006556]\n",
            "x = [-1.33333333  0.83333333]\n",
            "A^TAx - A^Tb = [0. 0.]"
          ]
        }
      ],
      "source": [
        "A = np.array([[1, 2], [3, 4], [5, 6]])\n",
        "b = np.array([-1, 2, -3])\n",
        "\n",
        "L = npla.cholesky(A.T @ A)\n",
        "z = npla.solve(L, A.T @ b.T)\n",
        "x = npla.solve(L.T, z)\n",
        "\n",
        "print (\"L =\\n\", L)\n",
        "print (\"z =\", z.T)\n",
        "print (\"x =\", x)\n",
        "print (\"A^TAx - A^Tb =\", np.vectorize(round)(A.T @ A @ x - A.T @ b.T,10))"
      ],
      "id": "73c3087d-4e6f-49cb-ad4e-3e409f8cc9bf"
    },
    {
      "cell_type": "markdown",
      "metadata": {},
      "source": [
        "# Multivariate normal random samples\n",
        "\n",
        "-   The Cholesky decomposition can be used to generate multivariate\n",
        "    normal random variables with specified mean and variance.\n",
        "-   NumPy also provides direct support for generating multivariate\n",
        "    normal random variables (NumPy Developers (2022a)). Usage:\n",
        "\n",
        "``` python\n",
        "<random number generator>.multivariate_normal(<mean vector>, <covariance matrix>, <number of samples>)\n",
        "```\n",
        "\n",
        "-   Example: Simulate a 2-dimensional normal random variable with mean\n",
        "    $\\mu = (4, 5)$ and covariance matrix $\\Sigma = \\begin{bmatrix}\n",
        "    1.1 & -0.5 \\\\\n",
        "    -0.5 & 0.9\n",
        "    \\end{bmatrix}$.\n",
        "\n",
        "## Using the Cholesky decomposition"
      ],
      "id": "97cbc693-2ec1-4c4b-a27b-97adea230a8a"
    },
    {
      "cell_type": "code",
      "execution_count": 29,
      "metadata": {},
      "outputs": [],
      "source": [
        "# prepare for plotting\n",
        "fig, ax = plt.subplots(figsize = (12,7))\n",
        "\n",
        "# model parameters\n",
        "mu = np.array([4, 5])\n",
        "Sigma = np.array([[1.1, -0.5], [-0.5, 0.9]])\n",
        "\n",
        "# Cholesky decomposition of Sigma\n",
        "L = npla.cholesky(Sigma)\n",
        "\n",
        "# generate sample and convert to N(mu,Sigma) distribution\n",
        "# each column of this array is a 2-d sample\n",
        "n = 1000\n",
        "sample = L @ rng.standard_normal((2, n))\n",
        "for k in range(2):\n",
        "    sample[k] += mu[k]\n",
        "ax.scatter(sample[0], sample[1])\n",
        "                             \n",
        "# plot grid and legend\n",
        "ax.xaxis.grid(True)\n",
        "ax.yaxis.grid(True)"
      ],
      "id": "234dc816-0de6-478d-8027-56384e56fc53"
    },
    {
      "cell_type": "markdown",
      "metadata": {},
      "source": [
        "------------------------------------------------------------------------"
      ],
      "id": "29ea2670-2307-49ae-825e-f42d50789e2c"
    },
    {
      "cell_type": "code",
      "execution_count": 30,
      "metadata": {},
      "outputs": [],
      "source": [],
      "id": "8d7a7150-b44e-4b5a-8841-3396dfc99bc2"
    },
    {
      "cell_type": "markdown",
      "metadata": {},
      "source": [
        "## Using NumPy"
      ],
      "id": "68fba1a5-1753-4d5e-b5e5-a26c2c016d8f"
    },
    {
      "cell_type": "code",
      "execution_count": 31,
      "metadata": {},
      "outputs": [],
      "source": [
        "# prepare for plotting\n",
        "fig, ax = plt.subplots(figsize = (12,7))\n",
        "\n",
        "# model parameters\n",
        "mu = np.array([4, 5])\n",
        "Sigma = np.array([[1.1, -0.5], [-0.5, 0.9]])\n",
        "\n",
        "# generate N(mu,Sigma) sample\n",
        "# each row of this array is a 2-d sample\n",
        "n = 1000\n",
        "sample = rng.multivariate_normal(mu, Sigma, n)\n",
        "ax.scatter(sample[:,0], sample[:,1])\n",
        "                             \n",
        "# plot grid and legend\n",
        "ax.xaxis.grid(True)\n",
        "ax.yaxis.grid(True)"
      ],
      "id": "f399a920-6551-473a-838f-f42649612027"
    },
    {
      "cell_type": "markdown",
      "metadata": {},
      "source": [
        "------------------------------------------------------------------------"
      ],
      "id": "f42331cb-6b08-4f34-898d-d984fe7afe78"
    },
    {
      "cell_type": "code",
      "execution_count": 32,
      "metadata": {},
      "outputs": [],
      "source": [],
      "id": "c5e5f3dd-d256-4d09-97eb-6313f9d2ef97"
    },
    {
      "cell_type": "markdown",
      "metadata": {},
      "source": [
        "# Further reading\n",
        "\n",
        "-   McKinney (2022) covers a number of linear algebra features of NumPy\n",
        "    in Section 4.6. This is combined with random number generation in\n",
        "    Section 4.7 to simulate Brownian motion.\n",
        "-   Smith (2022) covers many of the SciPy features in Section 4.4, which\n",
        "    also covers sparse matrices.\n",
        "\n",
        "## References\n",
        "\n",
        "McKinney, Wes. 2022. *Python for Data Analysis: Data Wrangling with\n",
        "Pandas, NumPy & Jupyter*. 3rd edition. O’Reilly.\n",
        "<https://wesmckinney.com/book/>.\n",
        "\n",
        "NumPy Developers. 2022a. “Numpy.random.generator.multivariate_normal.”\n",
        "<https://numpy.org/doc/stable/reference/random/generated/numpy.random.Generator.multivariate_normal.html>.\n",
        "\n",
        "———. 2022b. “Random Generator.”\n",
        "<https://numpy.org/doc/stable/reference/random/generator.html>.\n",
        "\n",
        "———. 2022c. “Random Sampling (Numpy.random).”\n",
        "<https://numpy.org/doc/stable/reference/random/index.html>.\n",
        "\n",
        "———. 2024. “Linear Algebra (Numpy.linalg).”\n",
        "<https://numpy.org/doc/stable/reference/routines.linalg.html#module-numpy.linalg>.\n",
        "\n",
        "Smith, Einar. 2022. *Introduction to the Tools of Scientific Computing*.\n",
        "Second edition. Texts in Computational Science and Engineering 25. Cham,\n",
        "Switzerland: Springer.\n",
        "<https://yorsearch.york.ac.uk/permalink/f/7htm32/TN_cdi_askewsholts_vlebooks_9783031169724>.\n",
        "\n",
        "The SciPy Community. 2024a. “Linear Algebra (Scipy.linalg).”\n",
        "<https://docs.scipy.org/doc/scipy/reference/linalg.html>.\n",
        "\n",
        "———. 2024b. “Statistical Functions (Scipy.stats).”\n",
        "<https://docs.scipy.org/doc/scipy/reference/stats.html>."
      ],
      "id": "2e8aecaf-f2ba-4e10-bdf3-41e374938b7d"
    }
  ],
  "nbformat": 4,
  "nbformat_minor": 5,
  "metadata": {
    "kernelspec": {
      "name": "conda-env-compfin-py",
      "display_name": "Python [conda env:compfin]",
      "language": "python"
    },
    "language_info": {
      "name": "python",
      "codemirror_mode": {
        "name": "ipython",
        "version": "3"
      },
      "file_extension": ".py",
      "mimetype": "text/x-python",
      "nbconvert_exporter": "python",
      "pygments_lexer": "ipython3",
      "version": "3.12.8"
    }
  }
}